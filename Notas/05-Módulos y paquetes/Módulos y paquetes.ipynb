{
 "cells": [
  {
   "cell_type": "markdown",
   "metadata": {},
   "source": [
    "# Módulos y bibliotecas\n",
    "\n",
    "En esta nota veremos brevemente:\n",
    "\n",
    "\n",
    "* escribir código para un módulo básico e importarlo en un script de Python\n",
    "* correr un script de Python desde una celda de Jupyter\n",
    "* mostrar cómo argumentos puede ser pasados a un script de Python a través de la línea de comandos\n",
    "\n",
    "La documentación oficial acerca de este tema se encuentra en:\n",
    "https://docs.python.org/3/tutorial/modules.html#packages\n",
    "\n",
    "Otro recurso muy bueno: \n",
    "https://python4astronomers.github.io/installation/packages.html\n",
    "\n",
    "## Escribiendo módulos"
   ]
  },
  {
   "cell_type": "code",
   "execution_count": 1,
   "metadata": {},
   "outputs": [
    {
     "name": "stdout",
     "output_type": "stream",
     "text": [
      "Writing archivo1.py\n"
     ]
    }
   ],
   "source": [
    "%%writefile archivo1.py\n",
    "def mi_funcion(x):\n",
    "    return [numero for numero in range(x) if numero%2==0]\n",
    "\n",
    "lista_1 = mi_funcion(11)"
   ]
  },
  {
   "cell_type": "markdown",
   "metadata": {},
   "source": [
    "Ahora, vamos a utilizar **archivo1.py** como módulo.\n",
    "\n",
    "Debemos tener en cuenta que lo anterior no imprime ni devuelve nada, simplemente define una función llamada *mi_funcion* y una variable llamada * lista_1 *.\n",
    "\n",
    "## Escribiendo *scripts*"
   ]
  },
  {
   "cell_type": "code",
   "execution_count": 2,
   "metadata": {},
   "outputs": [
    {
     "name": "stdout",
     "output_type": "stream",
     "text": [
      "Writing archivo2.py\n"
     ]
    }
   ],
   "source": [
    "%%writefile archivo2.py\n",
    "import archivo1\n",
    "archivo1.lista_1.append(12)\n",
    "print(archivo1.lista_1)"
   ]
  },
  {
   "cell_type": "markdown",
   "metadata": {},
   "source": [
    "Ahora, tenemos que **archivo2.py** es un script de Python. Desglosemos lo que acabamos de hacer:\n",
    "\n",
    "Primero, importamos nuestro módulo ** archivo1 ** (nótese que omitimos la extensión *.py*) <br>\n",
    "\n",
    "A continuación, accedemos a la variable * lista_1 * dentro de ** archivo1 **, y ejecutamos un método de lista en él. <br>\n",
    "\n",
    "`.append (12)` demuestra que estamos trabajando con un objeto de tipo lista de Python, y no solo con una cadena. <br>\n",
    "\n",
    "Finalmente, le decimos a nuestro script que imprima la lista modificada.\n",
    "\n",
    "## Corriendo *scripts*"
   ]
  },
  {
   "cell_type": "markdown",
   "metadata": {},
   "source": [
    "Para correr (ejecutar) un script, escribimos un símbolo de exclamación `!` para decirle a Jupyter que lo que ejecutaremos en la celda será como si estuviéramos en la línea de comandos."
   ]
  },
  {
   "cell_type": "code",
   "execution_count": 3,
   "metadata": {},
   "outputs": [
    {
     "name": "stdout",
     "output_type": "stream",
     "text": [
      "[0, 2, 4, 6, 8, 10, 12]\r\n"
     ]
    }
   ],
   "source": [
    "! python archivo2.py"
   ]
  },
  {
   "cell_type": "markdown",
   "metadata": {},
   "source": [
    "Ahora bien, podríamos haber hecho esto también sin un script y hacerlo en una celda de Jupyter."
   ]
  },
  {
   "cell_type": "code",
   "execution_count": 4,
   "metadata": {},
   "outputs": [
    {
     "name": "stdout",
     "output_type": "stream",
     "text": [
      "[0, 2, 4, 6, 8, 10, 12]\n"
     ]
    }
   ],
   "source": [
    "import archivo1\n",
    "archivo1.lista_1.append(12)\n",
    "print(archivo1.lista_1)"
   ]
  },
  {
   "cell_type": "markdown",
   "metadata": {},
   "source": [
    "## Pasando argumentos a través de la línea de comandos\n",
    "\n",
    "El módulo nativo `sys` de Python nos da acceso a poder obtener argumentos que vienen de la línea de comandos al llamar a nuestros scripts."
   ]
  },
  {
   "cell_type": "code",
   "execution_count": 5,
   "metadata": {},
   "outputs": [
    {
     "name": "stdout",
     "output_type": "stream",
     "text": [
      "Writing archivo3.py\n"
     ]
    }
   ],
   "source": [
    "%%writefile archivo3.py\n",
    "import sys\n",
    "import archivo1\n",
    "numero = int(sys.argv[1])\n",
    "print(archivo1.mi_funcion(numero))"
   ]
  },
  {
   "cell_type": "markdown",
   "metadata": {},
   "source": [
    "Notemos que seleccionamos el segundo elemento en la lista de argumentos con `sys.argv [1]`. <br>\n",
    "Esto se debe a que la lista creada con `sys.argv` siempre comienza con el nombre del archivo que se está utilizando, así que los argumentos a pasar se indexan desde el número 1.<br>"
   ]
  },
  {
   "cell_type": "code",
   "execution_count": 6,
   "metadata": {},
   "outputs": [
    {
     "name": "stdout",
     "output_type": "stream",
     "text": [
      "[0, 2, 4, 6, 8, 10, 12, 14, 16, 18, 20]\r\n"
     ]
    }
   ],
   "source": [
    "! python archivo3.py 21"
   ]
  },
  {
   "cell_type": "markdown",
   "metadata": {},
   "source": [
    "Aquí estamos pasando el número 21 para que sea el valor de rango superior utilizado por la función *mi_funcion* en **archivo1.py **"
   ]
  },
  {
   "cell_type": "markdown",
   "metadata": {},
   "source": [
    "## Entendiendo los módulos\n",
    "\n",
    "Los módulos en Python son simplemente archivos de Python con la extensión .py, que implementan un conjunto de funciones. Los módulos se importan de otros módulos mediante el comando <code> import </code>.\n",
    "\n",
    "Podemos consultar la lista completa de módulos incorporados en la biblioteca estándar de Python [aquí] (https://docs.python.org/3/py-modindex.html).\n",
    "\n",
    "La primera vez que se carga un módulo en un script Python en ejecución, se inicializa ejecutando el código en el módulo una vez. Si otro módulo en su código importa el mismo módulo nuevamente, no se cargará dos veces sino solo una vez, por lo que las variables locales dentro del módulo actúan como un *singleton*, o sea, se inicializan solo una vez.\n",
    "\n",
    "Por ejemplo, si queremos importar el módulo **math** de funciones matemáticas, simplemente *importamos* el nombre del módulo."
   ]
  },
  {
   "cell_type": "code",
   "execution_count": 7,
   "metadata": {},
   "outputs": [],
   "source": [
    "# Importar la biblioteca\n",
    "import math"
   ]
  },
  {
   "cell_type": "code",
   "execution_count": 8,
   "metadata": {},
   "outputs": [
    {
     "data": {
      "text/plain": [
       "3"
      ]
     },
     "execution_count": 8,
     "metadata": {},
     "output_type": "execute_result"
    }
   ],
   "source": [
    "# Usar la función ceil() (función piso) de la biblioteca math que acabamos de importar\n",
    "math.ceil(2.4)"
   ]
  },
  {
   "cell_type": "markdown",
   "metadata": {},
   "source": [
    "## Explorando los módulos nativos de Python\n",
    "\n",
    "Hay dos funciones muy importantes a la hora de explorar los módulos disponibles en Python: las funciones <code>dir</code> y <code>help</code>.\n",
    "\n",
    "Podemos buscar qué funciones están implementadas en cada módulo utilizando la función <code>dir</code>:"
   ]
  },
  {
   "cell_type": "code",
   "execution_count": 8,
   "metadata": {},
   "outputs": [
    {
     "name": "stdout",
     "output_type": "stream",
     "text": [
      "['__doc__', '__file__', '__loader__', '__name__', '__package__', '__spec__', 'acos', 'acosh', 'asin', 'asinh', 'atan', 'atan2', 'atanh', 'ceil', 'copysign', 'cos', 'cosh', 'degrees', 'e', 'erf', 'erfc', 'exp', 'expm1', 'fabs', 'factorial', 'floor', 'fmod', 'frexp', 'fsum', 'gamma', 'gcd', 'hypot', 'inf', 'isclose', 'isfinite', 'isinf', 'isnan', 'ldexp', 'lgamma', 'log', 'log10', 'log1p', 'log2', 'modf', 'nan', 'pi', 'pow', 'radians', 'sin', 'sinh', 'sqrt', 'tan', 'tanh', 'tau', 'trunc']\n"
     ]
    }
   ],
   "source": [
    "print(dir(math))"
   ]
  },
  {
   "cell_type": "markdown",
   "metadata": {},
   "source": [
    "Cuando encontremos la función en el módulo que queremos usar, podemos leer más sobre ella usando la función <code>help</code>, dentro del intérprete de Python:"
   ]
  },
  {
   "cell_type": "code",
   "execution_count": 9,
   "metadata": {},
   "outputs": [
    {
     "name": "stdout",
     "output_type": "stream",
     "text": [
      "Help on built-in function ceil in module math:\n",
      "\n",
      "ceil(...)\n",
      "    ceil(x)\n",
      "    \n",
      "    Return the ceiling of x as an Integral.\n",
      "    This is the smallest integer >= x.\n",
      "\n"
     ]
    }
   ],
   "source": [
    "help(math.ceil)"
   ]
  },
  {
   "cell_type": "markdown",
   "metadata": {},
   "source": [
    "## Escribiendo módulos\n",
    "\n",
    "Escribir módulos en Python es muy simple. Para crear un módulo propio, creamos un nuevo archivo de Python (con extensión **.py**) con el nombre del módulo, y despues lo importamos haciendo referencia al nombre de nuestro módulo (lo importamos llamándolo sin la extensión **.py**) usando el comando `import` como vimos anteriormente.\n",
    "\n",
    "## Escribiendo paquetes\n",
    "\n",
    "Los paquetes son **espacios de nombres** (_namespaces_; un medio para organizar clases dentro de un entorno, agrupándolas de un modo más lógico y jerárquico).  Es decir, son directorios con ciertas particularidades.\n",
    "\n",
    "Cada paquete en Python es un directorio que DEBE contener un archivo especial llamado **\\__init\\__.py**. Este archivo puede estar vacío e indica que el directorio que contiene es un paquete de Python, por lo que se puede importar de la misma manera que se puede importar un módulo.\n",
    "\n",
    "If we create a directory called foo, which marks the package name, we can then create a module inside that package called bar. We also must not forget to add the **\\__init\\__.py** file inside the foo directory.\n",
    "\n",
    "Si creamos un directorio llamado **foo**, que será a su vez el nombre del paquete, podemos crear un módulo dentro de ese paquete llamado **bar**. Tampoco debemos olvidar agregar el archivo **\\__init\\__.py** dentro del directorio **foo**.\n",
    "\n",
    "Para usar el módulo **bar**, podemos importarlo de dos posibles formas."
   ]
  },
  {
   "cell_type": "code",
   "execution_count": 1,
   "metadata": {},
   "outputs": [
    {
     "name": "stdout",
     "output_type": "stream",
     "text": [
      "Módulo bar importando exitosamente!\n"
     ]
    }
   ],
   "source": [
    "# Podemos importar el módulo bar del paquete foo así\n",
    "import foo.bar"
   ]
  },
  {
   "cell_type": "code",
   "execution_count": 2,
   "metadata": {},
   "outputs": [],
   "source": [
    "# O así\n",
    "from foo import bar"
   ]
  },
  {
   "cell_type": "markdown",
   "metadata": {},
   "source": [
    "En el primer método, debemos usar el prefijo foo cada vez que accedemos a la barra de módulos. En el segundo método, no lo hacemos, porque importamos el módulo al espacio de nombres de nuestro módulo.\n",
    "\n",
    "Más información al respecto de este tema se puede consultar [aquí](https://librosweb.es/libro/python/capitulo-3/creando-modulos-empaquetados.html)"
   ]
  },
  {
   "cell_type": "code",
   "execution_count": null,
   "metadata": {},
   "outputs": [],
   "source": []
  }
 ],
 "metadata": {
  "kernelspec": {
   "display_name": "Python 3",
   "language": "python",
   "name": "python3"
  },
  "language_info": {
   "codemirror_mode": {
    "name": "ipython",
    "version": 3
   },
   "file_extension": ".py",
   "mimetype": "text/x-python",
   "name": "python",
   "nbconvert_exporter": "python",
   "pygments_lexer": "ipython3",
   "version": "3.6.5"
  }
 },
 "nbformat": 4,
 "nbformat_minor": 1
}
