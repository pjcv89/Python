{
 "cells": [
  {
   "cell_type": "markdown",
   "metadata": {},
   "source": [
    "# zip\n",
    "\n",
    "zip () crea un iterador que agrega elementos de cada uno de los iterables.\n",
    "\n",
    "zip() Devuelve un iterador de tuplas, donde la i-ésima tupla contiene el elemento i-ésimo de cada una de las secuencias de argumentos o iterables. El iterador se detiene cuando se agota la entrada más corta. Con un solo argumento iterable, devuelve un iterador de tuplas de un elemento. Sin argumentos, devuelve un iterador vacío.\n",
    "\n",
    "zip() es equivalente a la función:\n",
    "\n",
    "    def zip(*iterables):\n",
    "        # zip('ABCD', 'xy') --> Ax By\n",
    "        sentinel = object()\n",
    "        iterators = [iter(it) for it in iterables]\n",
    "        while iterators:\n",
    "            result = []\n",
    "            for it in iterators:\n",
    "                elem = next(it, sentinel)\n",
    "                if elem is sentinel:\n",
    "                    return\n",
    "                result.append(elem)\n",
    "            yield tuple(result)\n",
    "        \n",
    "        \n",
    "zip () sólo se debe utilizar con entradas de longitud desigual cuando no nos interesen los valores finales y no coincidentes de los iterables más largos.\n",
    "\n",
    "Vamos a ver a esta función en acción en algunos ejemplos:\n",
    "\n",
    "## Ejemplos"
   ]
  },
  {
   "cell_type": "code",
   "execution_count": 2,
   "metadata": {},
   "outputs": [
    {
     "data": {
      "text/plain": [
       "[(1, 4), (2, 5), (3, 6)]"
      ]
     },
     "execution_count": 2,
     "metadata": {},
     "output_type": "execute_result"
    }
   ],
   "source": [
    "x = [1,2,3]\n",
    "y = [4,5,6]\n",
    "\n",
    "# Usemos zip para formar tuplas\n",
    "list(zip(x,y))"
   ]
  },
  {
   "cell_type": "markdown",
   "metadata": {},
   "source": [
    "Observemos cómo las tuplas están formadas. ¿Qué pasa si una iterable es más largo que el otro?"
   ]
  },
  {
   "cell_type": "code",
   "execution_count": 3,
   "metadata": {},
   "outputs": [
    {
     "data": {
      "text/plain": [
       "[(1, 4), (2, 5), (3, 6)]"
      ]
     },
     "execution_count": 3,
     "metadata": {},
     "output_type": "execute_result"
    }
   ],
   "source": [
    "x = [1,2,3]\n",
    "y = [4,5,6,7,8]\n",
    "\n",
    "# Usemos zip para formar tuplas\n",
    "list(zip(x,y))"
   ]
  },
  {
   "cell_type": "markdown",
   "metadata": {},
   "source": [
    "Observe cómo zip() se define por la longitud del iterable más corto. En general, se recomienda no comprimir los iterables de longitud desigual a menos que esté muy seguro de que solo necesita emparejamientos parciales de tuplas.\n",
    "\n",
    "¿Qué pasa si tratamos de aplicar zip a diccionarios?"
   ]
  },
  {
   "cell_type": "code",
   "execution_count": 4,
   "metadata": {},
   "outputs": [
    {
     "data": {
      "text/plain": [
       "[('a', 'c'), ('b', 'd')]"
      ]
     },
     "execution_count": 4,
     "metadata": {},
     "output_type": "execute_result"
    }
   ],
   "source": [
    "d1 = {'a':1,'b':2}\n",
    "d2 = {'c':4,'d':5}\n",
    "\n",
    "list(zip(d1,d2))"
   ]
  },
  {
   "cell_type": "markdown",
   "metadata": {},
   "source": [
    "Como podemos ver iterar a través de dos diccionarios dará como resultado resultados relacionados a las llaves. Para mezclar llaves y valores, tendríamos que utilizar los métodos incorporados de los diccionarios."
   ]
  },
  {
   "cell_type": "code",
   "execution_count": 5,
   "metadata": {},
   "outputs": [
    {
     "data": {
      "text/plain": [
       "[('c', 1), ('d', 2)]"
      ]
     },
     "execution_count": 5,
     "metadata": {},
     "output_type": "execute_result"
    }
   ],
   "source": [
    "list(zip(d2,d1.values()))"
   ]
  },
  {
   "cell_type": "markdown",
   "metadata": {},
   "source": [
    "Como ejemplo final, utilicemos zip() para intercambiar las llaves y valores de dos diccionarios."
   ]
  },
  {
   "cell_type": "code",
   "execution_count": 8,
   "metadata": {},
   "outputs": [],
   "source": [
    "def switcharoo(d1,d2):\n",
    "    dout = {}\n",
    "    # Utilicemos los elementos de zip() en el bucle for\n",
    "    for d1key,d2val in zip(d1,d2.values()):\n",
    "        dout[d1key] = d2val\n",
    "    \n",
    "    return dout"
   ]
  },
  {
   "cell_type": "code",
   "execution_count": 7,
   "metadata": {},
   "outputs": [
    {
     "data": {
      "text/plain": [
       "{'a': 4, 'b': 5}"
      ]
     },
     "execution_count": 7,
     "metadata": {},
     "output_type": "execute_result"
    }
   ],
   "source": [
    "switcharoo(d1,d2)"
   ]
  }
 ],
 "metadata": {
  "kernelspec": {
   "display_name": "Python 3",
   "language": "python",
   "name": "python3"
  },
  "language_info": {
   "codemirror_mode": {
    "name": "ipython",
    "version": 3
   },
   "file_extension": ".py",
   "mimetype": "text/x-python",
   "name": "python",
   "nbconvert_exporter": "python",
   "pygments_lexer": "ipython3",
   "version": "3.6.5"
  }
 },
 "nbformat": 4,
 "nbformat_minor": 1
}
