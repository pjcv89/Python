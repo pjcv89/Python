{
 "cells": [
  {
   "cell_type": "markdown",
   "metadata": {},
   "source": [
    "# map()\n",
    "\n",
    "`map()` es una función nativa (o incorporada) de Python que admite dos o más argumentos: una función y uno o más iterables, en la forma:\n",
    "\n",
    "     map (función, iterable, ...)\n",
    "    \n",
    "map () devuelve un *iterador*, es decir, map () devuelve un objeto especial que produce un resultado a la vez según sea necesario. Aprenderemos más sobre iteradores y generadores en una próxima nota. Por ahora, ya que nuestros ejemplos son tan pequeños, emitiremos map () como una lista para ver los resultados inmediatamente.\n",
    "\n",
    "Cuando vimos las comprehensiones de la lista, creamos una pequeña expresión para convertir Celsius a Fahrenheit. Hagamos lo mismo aquí pero usems la función `map()`."
   ]
  },
  {
   "cell_type": "code",
   "execution_count": 1,
   "metadata": {},
   "outputs": [],
   "source": [
    "def fahrenheit(celsius):\n",
    "    return (9/5)*celsius + 32\n",
    "    \n",
    "temps = [0, 22.5, 40, 100]"
   ]
  },
  {
   "cell_type": "markdown",
   "metadata": {},
   "source": [
    "Ahora veamos la función map en acción"
   ]
  },
  {
   "cell_type": "code",
   "execution_count": 2,
   "metadata": {},
   "outputs": [
    {
     "data": {
      "text/plain": [
       "[32.0, 72.5, 104.0, 212.0]"
      ]
     },
     "execution_count": 2,
     "metadata": {},
     "output_type": "execute_result"
    }
   ],
   "source": [
    "F_temps = map(fahrenheit, temps)\n",
    "\n",
    "#Show\n",
    "list(F_temps)"
   ]
  },
  {
   "cell_type": "markdown",
   "metadata": {},
   "source": [
    "En el ejemplo anterior, map () aplica la función fahrenheit a cada elemento en la lista temps. Sin embargo, no tenemos que definir nuestras funciones de antemano; podemos usar una expresión lambda en su lugar:"
   ]
  },
  {
   "cell_type": "code",
   "execution_count": 3,
   "metadata": {},
   "outputs": [
    {
     "data": {
      "text/plain": [
       "[32.0, 72.5, 104.0, 212.0]"
      ]
     },
     "execution_count": 3,
     "metadata": {},
     "output_type": "execute_result"
    }
   ],
   "source": [
    "list(map(lambda x: (9/5)*x + 32, temps))"
   ]
  },
  {
   "cell_type": "markdown",
   "metadata": {},
   "source": [
    "Usar map() con expresiones lambda es mucho más común, ya que el propósito de map () es ahorrar esfuerzo, en vez de utilizar ciclos for."
   ]
  },
  {
   "cell_type": "markdown",
   "metadata": {},
   "source": [
    "### map() con múltiples iterables\n",
    "\n",
    "map () puede aceptar más de un iterable. Los iterables deben tener la misma longitud; en caso de que no lo sean, map() se detendrá tan pronto como se agote el iterable más corto.\n",
    "\n",
    "Por ejemplo, si nuestra función intenta agregar dos valores **x** y **y**, podemos pasar una lista de valores **x** y otra lista de valores **y** a map () . La función (o expresión lambda) será alimentada con el índice 0 de cada lista, y luego con el primer índice, y así sucesivamente hasta que se alcance el n-ésimo índice.\n",
    "\n",
    "Veamos esto en acción con dos y luego tres listas:"
   ]
  },
  {
   "cell_type": "code",
   "execution_count": 4,
   "metadata": {},
   "outputs": [
    {
     "data": {
      "text/plain": [
       "[6, 8, 10, 12]"
      ]
     },
     "execution_count": 4,
     "metadata": {},
     "output_type": "execute_result"
    }
   ],
   "source": [
    "a = [1,2,3,4]\n",
    "b = [5,6,7,8]\n",
    "c = [9,10,11,12]\n",
    "# Sumemos los elementos de dos listas\n",
    "list(map(lambda x,y:x+y,a,b))"
   ]
  },
  {
   "cell_type": "code",
   "execution_count": 5,
   "metadata": {},
   "outputs": [
    {
     "data": {
      "text/plain": [
       "[15, 18, 21, 24]"
      ]
     },
     "execution_count": 5,
     "metadata": {},
     "output_type": "execute_result"
    }
   ],
   "source": [
    "# Ahora sumemos los elementos de las tres listas\n",
    "list(map(lambda x,y,z:x+y+z,a,b,c))"
   ]
  },
  {
   "cell_type": "markdown",
   "metadata": {},
   "source": [
    "Podemos ver en el ejemplo anterior que el parámetro **x** obtiene sus valores de la lista **a**, mientras que **y** obtiene sus valores de **b** y **z** de la lista **c**."
   ]
  },
  {
   "cell_type": "code",
   "execution_count": null,
   "metadata": {},
   "outputs": [],
   "source": []
  }
 ],
 "metadata": {
  "kernelspec": {
   "display_name": "Python 3",
   "language": "python",
   "name": "python3"
  },
  "language_info": {
   "codemirror_mode": {
    "name": "ipython",
    "version": 3
   },
   "file_extension": ".py",
   "mimetype": "text/x-python",
   "name": "python",
   "nbconvert_exporter": "python",
   "pygments_lexer": "ipython3",
   "version": "3.6.5"
  }
 },
 "nbformat": 4,
 "nbformat_minor": 1
}
