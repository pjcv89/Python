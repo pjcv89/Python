{
 "cells": [
  {
   "cell_type": "markdown",
   "metadata": {},
   "source": [
    "# filter\n",
    "\n",
    "La función filter(función, lista) ofrece una manera conveniente de filtrar todos los elementos de un iterable, para los cuales la función devuelve el valor booleano Verdadero.\n",
    "\n",
    "La función filter(función, lista) necesita una función como primer argumento. La función debe devolver un valor booleano (ya sea Verdadero o Falso). Esta función se aplicará a todos los elementos del iterable. Solo si la función devuelve Verdadero, el elemento del iterable se incluirá en el resultado.\n",
    "\n",
    "Al igual que map (), filter () devuelve un *iterador*, es decir, el filtro produce un resultado a la vez según sea necesario. Iteradores y generadores serán cubiertos en una próxima nota. Por ahora, ya que nuestros ejemplos son tan pequeños, convertiremos el resultado de aplicar la función filter () a una lista para poder ver nuestros resultados inmediatamente.\n",
    "\n",
    "Veamos algunos ejemplos."
   ]
  },
  {
   "cell_type": "code",
   "execution_count": 3,
   "metadata": {},
   "outputs": [],
   "source": [
    "#Creamos una función para verificar si un número es par\n",
    "def verifica_par(numero):\n",
    "    if numero%2 ==0:\n",
    "        return True"
   ]
  },
  {
   "cell_type": "markdown",
   "metadata": {},
   "source": [
    "Ahora vamos a filtrar una lista de números. Nota rápida: poner la función en el filtro sin ningún paréntesis puede parecer extraño, pero tenga en cuenta que las funciones también son objetos."
   ]
  },
  {
   "cell_type": "code",
   "execution_count": 4,
   "metadata": {},
   "outputs": [
    {
     "data": {
      "text/plain": [
       "[0, 2, 4, 6, 8, 10, 12, 14, 16, 18]"
      ]
     },
     "execution_count": 4,
     "metadata": {},
     "output_type": "execute_result"
    }
   ],
   "source": [
    "lst =range(20)\n",
    "\n",
    "list(filter(verifica_par,lst))"
   ]
  },
  {
   "cell_type": "markdown",
   "metadata": {},
   "source": [
    "filter() se usa más comúnmente con las expresiones lambda, porque usualmente deseamos usar filter() para un trabajo rápido donde no queremos escribir una función completa. Repitamos el ejemplo anterior usando una expresión lambda:"
   ]
  },
  {
   "cell_type": "code",
   "execution_count": 5,
   "metadata": {},
   "outputs": [
    {
     "data": {
      "text/plain": [
       "[0, 2, 4, 6, 8, 10, 12, 14, 16, 18]"
      ]
     },
     "execution_count": 5,
     "metadata": {},
     "output_type": "execute_result"
    }
   ],
   "source": [
    "list(filter(lambda x: x%2==0,lst))"
   ]
  }
 ],
 "metadata": {
  "kernelspec": {
   "display_name": "Python 3",
   "language": "python",
   "name": "python3"
  },
  "language_info": {
   "codemirror_mode": {
    "name": "ipython",
    "version": 3
   },
   "file_extension": ".py",
   "mimetype": "text/x-python",
   "name": "python",
   "nbconvert_exporter": "python",
   "pygments_lexer": "ipython3",
   "version": "3.6.5"
  }
 },
 "nbformat": 4,
 "nbformat_minor": 1
}
