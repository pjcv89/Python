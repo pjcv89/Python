{
 "cells": [
  {
   "cell_type": "markdown",
   "metadata": {},
   "source": [
    "# enumerate()\n",
    "\n",
    "En esta nota veremos un poco sobre una función incorporada extremadamente útil: enumerate (). Esta función permite mantener un recuento a medida que se recorre un objeto. Lo hace devolviendo una tupla en con la forma: (cuenta, elemento). La función enumarate() es equivalente a:\n",
    "\n",
    "    def enumerate(sequence, start=0):\n",
    "        n = start\n",
    "        for elem in sequence:\n",
    "            yield n, elem\n",
    "            n += 1\n",
    "\n",
    "## Ejemplo"
   ]
  },
  {
   "cell_type": "code",
   "execution_count": 2,
   "metadata": {},
   "outputs": [
    {
     "name": "stdout",
     "output_type": "stream",
     "text": [
      "0\n",
      "a\n",
      "1\n",
      "b\n",
      "2\n",
      "c\n"
     ]
    }
   ],
   "source": [
    "lst = ['a','b','c']\n",
    "\n",
    "for numero,elemento in enumerate(lst):\n",
    "    print(numero)\n",
    "    print(elemento)"
   ]
  },
  {
   "cell_type": "markdown",
   "metadata": {},
   "source": [
    "enumerate () se vuelve particularmente útil cuando tiene un caso en el que necesita tener algún tipo de contador de iteraciones o de elementos. Por ejemplo:"
   ]
  },
  {
   "cell_type": "code",
   "execution_count": 3,
   "metadata": {},
   "outputs": [
    {
     "name": "stdout",
     "output_type": "stream",
     "text": [
      "a\n",
      "b\n"
     ]
    }
   ],
   "source": [
    "for contador,elemento in enumerate(lst):\n",
    "    if contador >= 2:\n",
    "        break\n",
    "    else:\n",
    "        print(elemento)"
   ]
  },
  {
   "cell_type": "markdown",
   "metadata": {},
   "source": [
    "Además, enumerate() toma un argumento de \"inicio\" opcional para modificar el valor predeterminado de cero. Veamos un ejemplo."
   ]
  },
  {
   "cell_type": "code",
   "execution_count": 4,
   "metadata": {},
   "outputs": [
    {
     "data": {
      "text/plain": [
       "[(3, 'Marzo'), (4, 'Abril'), (5, 'Mayo'), (6, 'Junio')]"
      ]
     },
     "execution_count": 4,
     "metadata": {},
     "output_type": "execute_result"
    }
   ],
   "source": [
    "meses = ['Marzo','Abril','Mayo','Junio']\n",
    "\n",
    "list(enumerate(meses,start=3))"
   ]
  }
 ],
 "metadata": {
  "kernelspec": {
   "display_name": "Python 3",
   "language": "python",
   "name": "python3"
  },
  "language_info": {
   "codemirror_mode": {
    "name": "ipython",
    "version": 3
   },
   "file_extension": ".py",
   "mimetype": "text/x-python",
   "name": "python",
   "nbconvert_exporter": "python",
   "pygments_lexer": "ipython3",
   "version": "3.6.5"
  }
 },
 "nbformat": 4,
 "nbformat_minor": 1
}
