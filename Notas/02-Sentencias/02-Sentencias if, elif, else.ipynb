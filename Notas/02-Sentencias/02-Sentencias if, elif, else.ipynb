{
 "cells": [
  {
   "cell_type": "markdown",
   "metadata": {},
   "source": [
    "# Declaraciones if, elif, else\n",
    "\n",
    "Las declaraciones <code>if</code>, <code>elif</code> y <code>else</code> en Python nos permiten decirle a la computadora que realice acciones alternativas basadas en un determinado conjunto de resultados.\n",
    "\n",
    "Podemos imaginar que le decimos a la computadora:\n",
    "\n",
    "\"Si este caso ocurre, ejecuta esta acción\"\n",
    "\n",
    "Podemos ampliar la idea con las declaraciones <code> elif </code> y <code> else </code>, que nos permiten decirle a la computadora:\n",
    "\n",
    "\"Si sucede este caso, realiza alguna acción. De lo contrario, si ocurre otro caso, realiza otra acción. Si no ocurre ninguno de los casos anteriores, realiza esta otra acción\".\n",
    "\n",
    "Miremos el formato de sintaxis de las declaraciones de <code> if </code> para tener una mejor idea de esto:\n",
    "\n",
    "    if caso1:\n",
    "        ejecutar accion1\n",
    "    elif caso2:\n",
    "        ejecutar accion2\n",
    "    else: \n",
    "        ejecutar accion3"
   ]
  },
  {
   "cell_type": "markdown",
   "metadata": {},
   "source": [
    "## Primer ejemplo\n",
    "\n",
    "Veamos un rápido ejemplo"
   ]
  },
  {
   "cell_type": "code",
   "execution_count": 1,
   "metadata": {},
   "outputs": [
    {
     "name": "stdout",
     "output_type": "stream",
     "text": [
      "Es verdad!\n"
     ]
    }
   ],
   "source": [
    "if True:\n",
    "    print('Es verdad!')"
   ]
  },
  {
   "cell_type": "markdown",
   "metadata": {},
   "source": [
    "Añadamos algo más"
   ]
  },
  {
   "cell_type": "code",
   "execution_count": 2,
   "metadata": {},
   "outputs": [
    {
     "name": "stdout",
     "output_type": "stream",
     "text": [
      "se va a imrpimir esto cuando x no sea verdad\n"
     ]
    }
   ],
   "source": [
    "x = False\n",
    "\n",
    "if x:\n",
    "    print('x fue verdad!')\n",
    "else:\n",
    "    print('se va a imrpimir esto cuando x no sea verdad')"
   ]
  },
  {
   "cell_type": "markdown",
   "metadata": {},
   "source": [
    "### Múltiples sentencias\n",
    "\n",
    "Veamos un ejemplo para obtener una imagen más completa de lo lejos que <code>if</code>, <code>elif</code>, and <code>else</code> pueden llevarnos.\n",
    "\n",
    "Escribimos esto en una estructura anidada. Tome nota de cómo el <code> if </code>, <code> elif </code> y <code> else </code> se alinean en el código. Esto puede ayudarlo a ver qué <code> if </code> está relacionado con las declaraciones de <code> elif </code> o <code> else </code>.\n",
    "\n",
    "We write this out in a nested structure. Take note of how the <code>if</code>, <code>elif</code>, and <code>else</code> line up in the code. This can help you see what <code>if</code> is related to what <code>elif</code> or <code>else</code> statements.\n",
    "\n",
    "En el siguiente ejemplo, reintroducimos operadores de comparación."
   ]
  },
  {
   "cell_type": "code",
   "execution_count": 3,
   "metadata": {},
   "outputs": [
    {
     "name": "stdout",
     "output_type": "stream",
     "text": [
      "Bienvenido al Banco!\n"
     ]
    }
   ],
   "source": [
    "ubicacion = 'Banco'\n",
    "\n",
    "if ubicacion == 'Supermercado':\n",
    "    print('Bienvenido al Supermercado!')\n",
    "elif ubicacion == 'Banco':\n",
    "    print('Bienvenido al Banco!')\n",
    "else:\n",
    "    print('En donde estas?')"
   ]
  },
  {
   "cell_type": "markdown",
   "metadata": {},
   "source": [
    "Obsérvese cómo se comprueban las declaraciones <code> if </code> de forma secuencial hasta que un booleano True haga que se ejecute el código declarado debajo de él. También debe tenerse en cuenta que se pueden incluir tantas declaraciones de <code> elif </code> como desee antes de cerrar con un <code> else </code>.\n",
    "\n",
    "Veamos dos ejemplos mas."
   ]
  },
  {
   "cell_type": "code",
   "execution_count": 4,
   "metadata": {},
   "outputs": [
    {
     "name": "stdout",
     "output_type": "stream",
     "text": [
      "Bienvenido Sammy!\n"
     ]
    }
   ],
   "source": [
    "persona = 'Sammy'\n",
    "\n",
    "if persona == 'Sammy':\n",
    "    print('¡Bienvenido Sammy!')\n",
    "else:\n",
    "    print(\"Bienvenido, ¿cuál es tu nombre?\")"
   ]
  },
  {
   "cell_type": "markdown",
   "metadata": {},
   "source": [
    "Ahora añadamos una declaración de <code>elif</code> a nuestro ejemplo."
   ]
  },
  {
   "cell_type": "code",
   "execution_count": 6,
   "metadata": {},
   "outputs": [
    {
     "name": "stdout",
     "output_type": "stream",
     "text": [
      "¡Bienvenido, Jorge!\n"
     ]
    }
   ],
   "source": [
    "persona = 'Jorge'\n",
    "\n",
    "if persona == 'Sammy':\n",
    "    print('¡Bienvenido, Sammy!')\n",
    "elif person =='Jorge':\n",
    "    print('¡Bienvenido, Jorge!')\n",
    "else:\n",
    "    print(\"Bienvenido, ¿cuál es tu nombre?\")"
   ]
  }
 ],
 "metadata": {
  "kernelspec": {
   "display_name": "Python 3",
   "language": "python",
   "name": "python3"
  },
  "language_info": {
   "codemirror_mode": {
    "name": "ipython",
    "version": 3
   },
   "file_extension": ".py",
   "mimetype": "text/x-python",
   "name": "python",
   "nbconvert_exporter": "python",
   "pygments_lexer": "ipython3",
   "version": "3.6.5"
  }
 },
 "nbformat": 4,
 "nbformat_minor": 1
}
