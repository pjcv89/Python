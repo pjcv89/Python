{
 "cells": [
  {
   "cell_type": "markdown",
   "metadata": {
    "slideshow": {
     "slide_type": "slide"
    }
   },
   "source": [
    "# Introducción a declaraciones en Python\n",
    "\n",
    "En esta nota, haremos un resumen rápido de las declaraciones en Python. Veremos algunas de las diferencias entre Python y otros lenguajes como C ++. \n",
    "\n",
    "Hay dos razones por las que tomamos este enfoque para aprender sobre las declaraciones en Python:\n",
    "\n",
    "    1.) Si vienes de conocer un lenguaje diferente, esto acelerará rápidamente tu comprensión de Python.\n",
    "    2.) Aprender sobre las declaraciones te permitirá poder leer otros lenguajes más fácilmente en el futuro."
   ]
  },
  {
   "cell_type": "markdown",
   "metadata": {
    "slideshow": {
     "slide_type": "slide"
    }
   },
   "source": [
    "## Python vs otros lenguajes\n",
    "\n",
    "Creemos una simple declaración que sea:\n",
    "\"Si a es mayor que b, entonces asignemos 2 a **a** y 4 a **b**\".\n",
    "\n",
    "Take a look at these two if statements (we will learn about building out if statements soon).\n",
    "\n",
    "**Version 1 (Otros lenguajes)**\n",
    "\n",
    "    if (a>b){\n",
    "        a = 2;\n",
    "        b = 4;\n",
    "    }\n",
    "                        \n",
    "**Version 2 (Python)**   \n",
    "\n",
    "    if a>b:\n",
    "        a = 2\n",
    "        b = 4"
   ]
  },
  {
   "cell_type": "markdown",
   "metadata": {},
   "source": [
    "NotaráS que Python es más simple y mucho más legible que la primera versión. ¿Cómo es que maneja Python esto?\n",
    "\n",
    "Veamos las diferencias principales:\n",
    "\n",
    "Python se deshace de () y {} incorporando dos factores principales: *dos puntos* y *espacios en blanco*. La declaración termina con dos puntos, y se utiliza el espacio en blanco (sangría) para describir lo que ocurre en el caso de la declaración.\n",
    "\n",
    "Otra diferencia importante es la falta de punto y coma en Python. Los puntos y coma se usan para denotar terminaciones de sentencias en muchos otros idiomas, pero en Python, el final de una línea es el mismo que el final de una sentencia.\n",
    "\n",
    "Por último, para finalizar este breve resumen de las diferencias, echemos un vistazo más de cerca a la sintaxis de sangría en Python frente a otros lenguajes:\n",
    "\n",
    "## Indentación\n",
    "\n",
    "Aquí hay algunos pseudocódigos para indicar el uso de espacios en blanco y sangrías en Python:\n",
    "\n",
    "**Otros lenguajes**\n",
    "\n",
    "    if (x)\n",
    "        if(y)\n",
    "            sentencia;\n",
    "    else\n",
    "        otra sentencia;\n",
    "        \n",
    "**Python**\n",
    "    \n",
    "    if x:\n",
    "        if y:\n",
    "            sentencia\n",
    "    else:\n",
    "        sentencia"
   ]
  },
  {
   "cell_type": "markdown",
   "metadata": {},
   "source": [
    "Observe cómo en Python toma mucha importancia el uso de las sangrías y los espacios en blanco. Esto significa que la legibilidad del código es una parte fundamental del diseño del lenguaje Python."
   ]
  },
  {
   "cell_type": "code",
   "execution_count": null,
   "metadata": {},
   "outputs": [],
   "source": []
  }
 ],
 "metadata": {
  "kernelspec": {
   "display_name": "Python 3",
   "language": "python",
   "name": "python3"
  },
  "language_info": {
   "codemirror_mode": {
    "name": "ipython",
    "version": 3
   },
   "file_extension": ".py",
   "mimetype": "text/x-python",
   "name": "python",
   "nbconvert_exporter": "python",
   "pygments_lexer": "ipython3",
   "version": "3.6.5"
  }
 },
 "nbformat": 4,
 "nbformat_minor": 1
}
