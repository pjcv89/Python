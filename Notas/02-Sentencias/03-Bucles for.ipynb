{
 "cells": [
  {
   "cell_type": "markdown",
   "metadata": {},
   "source": [
    "# Bucles _for_\n",
    "\n",
    "Un bucle <code> for </code> actúa como un iterador en Python; atraviesa elementos que están en una * secuencia * o cualquier otro elemento iterable. Los objetos que hemos aprendido sobre los que podemos iterar incluyen cadenas, listas, tuplas e incluso objetos iterables tales como diccionarios, a través de sus llaves o valores.\n",
    "\n",
    "La sintaxis general de un bucle <code> for </code> en Python es el siguiente:\n",
    "\n",
    "    for elemento in objeto_iterable:\n",
    "        sentencias a realizar en cada elemento\n",
    "    "
   ]
  },
  {
   "cell_type": "markdown",
   "metadata": {},
   "source": [
    "El nombre de la variable utilizada para el elemento a iterar depende completamente del programador, así debe usarse un buen criterio para elegir un nombre que tenga sentido y pueda  entenderse cuando lea y revise su código. También se pueden hacer referencias al nombre de este elemento dentro del bucle, por ejemplo, se pueden usar declaraciones <code> if </code> para realizar comprobaciones\n",
    "\n",
    "Veamos unos ejemplos.\n",
    "\n",
    "## Ejemplo 1\n",
    "Iterar sobre los elementos de una lista"
   ]
  },
  {
   "cell_type": "code",
   "execution_count": 2,
   "metadata": {},
   "outputs": [],
   "source": [
    "# We'll learn how to automate this sort of list in the next lecture\n",
    "lista = [1,2,3,4,5,6,7,8,9,10]"
   ]
  },
  {
   "cell_type": "code",
   "execution_count": 3,
   "metadata": {},
   "outputs": [
    {
     "name": "stdout",
     "output_type": "stream",
     "text": [
      "1\n",
      "2\n",
      "3\n",
      "4\n",
      "5\n",
      "6\n",
      "7\n",
      "8\n",
      "9\n",
      "10\n"
     ]
    }
   ],
   "source": [
    "for numero in lista:\n",
    "    print(numero)"
   ]
  },
  {
   "cell_type": "markdown",
   "metadata": {},
   "source": [
    "Ahora agreguemos una declaración <code> if </code> para verificar los números pares. Primero introduciremos un nuevo concepto: el operador módulo.\n",
    "\n",
    "### Modulo\n",
    "El operador módulo nos permite obtener el residuo en una división y utiliza el símbolo <code> % </code>. Por ejemplo:"
   ]
  },
  {
   "cell_type": "code",
   "execution_count": 3,
   "metadata": {},
   "outputs": [
    {
     "data": {
      "text/plain": [
       "2"
      ]
     },
     "execution_count": 3,
     "metadata": {},
     "output_type": "execute_result"
    }
   ],
   "source": [
    "17 % 5"
   ]
  },
  {
   "cell_type": "markdown",
   "metadata": {},
   "source": [
    "Esto es porque 17 dividido entre 5 es 3 y tiene residuo 2. Veamos unos ejemplos más."
   ]
  },
  {
   "cell_type": "code",
   "execution_count": 4,
   "metadata": {},
   "outputs": [
    {
     "data": {
      "text/plain": [
       "1"
      ]
     },
     "execution_count": 4,
     "metadata": {},
     "output_type": "execute_result"
    }
   ],
   "source": [
    "# 10 modulo 3 es 1\n",
    "10 % 3"
   ]
  },
  {
   "cell_type": "code",
   "execution_count": 5,
   "metadata": {},
   "outputs": [
    {
     "data": {
      "text/plain": [
       "4"
      ]
     },
     "execution_count": 5,
     "metadata": {},
     "output_type": "execute_result"
    }
   ],
   "source": [
    "# 18 modulo 7 es 4\n",
    "18 % 7"
   ]
  },
  {
   "cell_type": "code",
   "execution_count": 6,
   "metadata": {},
   "outputs": [
    {
     "data": {
      "text/plain": [
       "0"
      ]
     },
     "execution_count": 6,
     "metadata": {},
     "output_type": "execute_result"
    }
   ],
   "source": [
    "# 4 modulo 2 es cero\n",
    "4 % 2"
   ]
  },
  {
   "cell_type": "markdown",
   "metadata": {},
   "source": [
    "Nótese que si un número es completamente divisible sin residuo, el resultado de la llamada a la operación módulo es 0. Podemos usar esto para comprobar números pares, ya que si un número módulo 2 es igual a 0, eso significa que es un número par.\n",
    "\n",
    "Regresemos a los bucles <code>for</code>.\n",
    "\n",
    "## Ejemplo\n",
    "Imprimamos los números que son pares en la lista anterior."
   ]
  },
  {
   "cell_type": "code",
   "execution_count": 7,
   "metadata": {},
   "outputs": [
    {
     "name": "stdout",
     "output_type": "stream",
     "text": [
      "2\n",
      "4\n",
      "6\n",
      "8\n",
      "10\n"
     ]
    }
   ],
   "source": [
    "for numero in lista:\n",
    "    if numero % 2 == 0:\n",
    "        print(numero)"
   ]
  },
  {
   "cell_type": "markdown",
   "metadata": {},
   "source": [
    "Podemos añadir una sentencia <code>else</code> a nuestro ejemplo."
   ]
  },
  {
   "cell_type": "code",
   "execution_count": 10,
   "metadata": {},
   "outputs": [
    {
     "name": "stdout",
     "output_type": "stream",
     "text": [
      "Número impar\n",
      "2\n",
      "Número impar\n",
      "4\n",
      "Número impar\n",
      "6\n",
      "Número impar\n",
      "8\n",
      "Número impar\n",
      "10\n"
     ]
    }
   ],
   "source": [
    "for numero in lista:\n",
    "    if numero % 2 == 0:\n",
    "        print(numero)\n",
    "    else:\n",
    "        print('Número impar')"
   ]
  },
  {
   "cell_type": "markdown",
   "metadata": {},
   "source": [
    "## Ejemplo 3\n",
    "\n",
    "Otra idea común durante un <code> for </code> es mantener algún tipo de conteo en ejecución durante la ejecución del bucle. Por ejemplo, vamos a crear un bucle <code> for </code> que sume los elementos contenidos en la lista:"
   ]
  },
  {
   "cell_type": "code",
   "execution_count": 12,
   "metadata": {},
   "outputs": [
    {
     "name": "stdout",
     "output_type": "stream",
     "text": [
      "55\n"
     ]
    }
   ],
   "source": [
    "# Empezar la variable desde cero\n",
    "suma_lista = 0 \n",
    "\n",
    "for numero in lista:\n",
    "    suma_lista = suma_lista + numero\n",
    "\n",
    "print(suma_lista)"
   ]
  },
  {
   "cell_type": "markdown",
   "metadata": {},
   "source": [
    "Nota rápida: Alternativamente, podríamos utilizar el operador += de Python. El operador += suma a la variable del lado izquierdo el valor del lado derecho. \n",
    "\n",
    "Esto también es válido para los operadores de sustracción <code>-=</code>, multiplicación <code>*=</code>, división <code>/=</code> ,* potencia <code>*=</code>, división piso <code>//=</code>, entre otros.\n",
    "\n",
    "Ejemplo:"
   ]
  },
  {
   "cell_type": "code",
   "execution_count": 14,
   "metadata": {},
   "outputs": [
    {
     "name": "stdout",
     "output_type": "stream",
     "text": [
      "55\n"
     ]
    }
   ],
   "source": [
    "suma_lista = 0 \n",
    "\n",
    "for numero in lista:\n",
    "    suma_lista += numero\n",
    "\n",
    "print(suma_lista)"
   ]
  },
  {
   "cell_type": "markdown",
   "metadata": {},
   "source": [
    "## Ejemplo 4\n",
    "\n",
    "Hemos usado <code> for </code> con listas, ahora veremos unos ejemplos con cadenas. Como vimos antes, las cadenas son una secuencia, de modo que cuando las recorramos accederemos a cada elemento de esa cadena."
   ]
  },
  {
   "cell_type": "code",
   "execution_count": 16,
   "metadata": {},
   "outputs": [
    {
     "name": "stdout",
     "output_type": "stream",
     "text": [
      "E\n",
      "s\n",
      "t\n",
      "o\n",
      " \n",
      "e\n",
      "s\n",
      " \n",
      "u\n",
      "n\n",
      "a\n",
      " \n",
      "c\n",
      "a\n",
      "d\n",
      "e\n",
      "n\n",
      "a\n"
     ]
    }
   ],
   "source": [
    "for letra in 'Esto es una cadena':\n",
    "    print(letra)"
   ]
  },
  {
   "cell_type": "markdown",
   "metadata": {},
   "source": [
    "## Example 5\n",
    "Ahora veamos un ejemplo de <code>for</code> sobre una tupla:"
   ]
  },
  {
   "cell_type": "code",
   "execution_count": 17,
   "metadata": {},
   "outputs": [
    {
     "name": "stdout",
     "output_type": "stream",
     "text": [
      "1\n",
      "2\n",
      "3\n",
      "4\n",
      "5\n"
     ]
    }
   ],
   "source": [
    "tupla = (1,2,3,4,5)\n",
    "\n",
    "for t in tupla:\n",
    "    print(t)"
   ]
  },
  {
   "cell_type": "markdown",
   "metadata": {},
   "source": [
    "## Ejemplo 6\n",
    "\n",
    "Las tuplas tienen una cualidad especial cuando se trata de utilizarlas junto con bucles <code> for </code> bucles. Si estamos iterando a través de una secuencia que contiene tuplas, el elemento puede ser la tupla en sí. \n",
    "\n",
    "Alternativamente, durante el bucle <code> for </code>, desempaquetaremos la tupla dentro de una secuencia y podremos acceder a los elementos individuales dentro de esa tupla. Este es un ejemplo de * desempaquetado de tuplas *. "
   ]
  },
  {
   "cell_type": "code",
   "execution_count": 18,
   "metadata": {},
   "outputs": [],
   "source": [
    "lista2 = [(2,4),(6,8),(10,12)]"
   ]
  },
  {
   "cell_type": "code",
   "execution_count": 19,
   "metadata": {},
   "outputs": [
    {
     "name": "stdout",
     "output_type": "stream",
     "text": [
      "(2, 4)\n",
      "(6, 8)\n",
      "(10, 12)\n"
     ]
    }
   ],
   "source": [
    "# Sin desempaquetado\n",
    "for tup in lista2:\n",
    "    print(tup)"
   ]
  },
  {
   "cell_type": "code",
   "execution_count": 20,
   "metadata": {},
   "outputs": [
    {
     "name": "stdout",
     "output_type": "stream",
     "text": [
      "2\n",
      "6\n",
      "10\n"
     ]
    }
   ],
   "source": [
    "# Con desempaquetado\n",
    "for (t1,t2) in lista2:\n",
    "    print(t1)"
   ]
  },
  {
   "cell_type": "code",
   "execution_count": 23,
   "metadata": {},
   "outputs": [
    {
     "name": "stdout",
     "output_type": "stream",
     "text": [
      "4\n",
      "8\n",
      "12\n"
     ]
    }
   ],
   "source": [
    "# Con desempaquetado\n",
    "for (t1,t2) in lista2:\n",
    "    print(t2)"
   ]
  },
  {
   "cell_type": "markdown",
   "metadata": {},
   "source": [
    "Cool! With tuples in a sequence we can access the items inside of them through unpacking! The reason this is important is because many objects will deliver their iterables through tuples. Let's start exploring iterating through Dictionaries to explore this further!"
   ]
  },
  {
   "cell_type": "markdown",
   "metadata": {},
   "source": [
    "## Ejemplo 7\n",
    "\n",
    "Veamos un ejemplo con un diccionario."
   ]
  },
  {
   "cell_type": "code",
   "execution_count": 24,
   "metadata": {},
   "outputs": [],
   "source": [
    "d = {'k1':1,'k2':2,'k3':3}"
   ]
  },
  {
   "cell_type": "code",
   "execution_count": 25,
   "metadata": {},
   "outputs": [
    {
     "name": "stdout",
     "output_type": "stream",
     "text": [
      "k1\n",
      "k2\n",
      "k3\n"
     ]
    }
   ],
   "source": [
    "for elemento in d:\n",
    "    print(elemento)"
   ]
  },
  {
   "cell_type": "markdown",
   "metadata": {},
   "source": [
    "Notice how this produces only the keys. So how can we get the values? Or both the keys and the values? \n",
    "Nótese como lo anterior solo nos devuelve las llaves. ¿Cómo obtenemos los valores? ¿O ambos llaves y valores?\n",
    "\n",
    "Para esto, veremos los métodos de los diccionarios: **.keys()**, **.values()** and **.items()**\n",
    "\n",
    "En Python, cada uno de estos métodos devuelve un *dictionary view object* ( *objeto de vista de diccionario* ). Esta objeto admite operaciones como prueba de pertenencia, e iteración, pero su contenido no es independiente del diccionario original, es solo una \"vista\". Veamos esto en acción."
   ]
  },
  {
   "cell_type": "code",
   "execution_count": 28,
   "metadata": {},
   "outputs": [
    {
     "data": {
      "text/plain": [
       "dict_items([('k1', 1), ('k2', 2), ('k3', 3)])"
      ]
     },
     "execution_count": 28,
     "metadata": {},
     "output_type": "execute_result"
    }
   ],
   "source": [
    "# Objeto de vista de diccionario\n",
    "d.items()"
   ]
  },
  {
   "cell_type": "markdown",
   "metadata": {},
   "source": [
    "Como el método .items () admite iteración, podemos realizar * desempaquetado de diccionarios * para separar claves y valores tal como lo hicimos en los ejemplos anteriores."
   ]
  },
  {
   "cell_type": "code",
   "execution_count": 29,
   "metadata": {},
   "outputs": [
    {
     "name": "stdout",
     "output_type": "stream",
     "text": [
      "k1\n",
      "1\n",
      "k2\n",
      "2\n",
      "k3\n",
      "3\n"
     ]
    }
   ],
   "source": [
    "# Desempaquetado\n",
    "for k,v in d.items():\n",
    "    print(k)\n",
    "    print(v) "
   ]
  },
  {
   "cell_type": "markdown",
   "metadata": {},
   "source": [
    "Si deseamos obtener una verdadera lista de llaves, valores o tuplas llave/valor, podemos * convertir * la vista del diccionario en una lista:"
   ]
  },
  {
   "cell_type": "code",
   "execution_count": 30,
   "metadata": {},
   "outputs": [
    {
     "data": {
      "text/plain": [
       "['k1', 'k2', 'k3']"
      ]
     },
     "execution_count": 30,
     "metadata": {},
     "output_type": "execute_result"
    }
   ],
   "source": [
    "list(d.keys())"
   ]
  },
  {
   "cell_type": "markdown",
   "metadata": {},
   "source": [
    "Debemos tener en cuenta que el contenido de los diccionarios no tienen un orden, por lo que las claves y los valores regresan en orden arbitrario. Si deseamos recuperar las llaves o valores en un orden, podemos ordenarlos usando la función <code> sorted() </code>:"
   ]
  },
  {
   "cell_type": "code",
   "execution_count": 31,
   "metadata": {},
   "outputs": [
    {
     "data": {
      "text/plain": [
       "[1, 2, 3]"
      ]
     },
     "execution_count": 31,
     "metadata": {},
     "output_type": "execute_result"
    }
   ],
   "source": [
    "sorted(d.values())"
   ]
  },
  {
   "cell_type": "code",
   "execution_count": 32,
   "metadata": {},
   "outputs": [
    {
     "data": {
      "text/plain": [
       "['k1', 'k2', 'k3']"
      ]
     },
     "execution_count": 32,
     "metadata": {},
     "output_type": "execute_result"
    }
   ],
   "source": [
    "sorted(d.keys())"
   ]
  },
  {
   "cell_type": "code",
   "execution_count": 33,
   "metadata": {},
   "outputs": [
    {
     "data": {
      "text/plain": [
       "[('k1', 1), ('k2', 2), ('k3', 3)]"
      ]
     },
     "execution_count": 33,
     "metadata": {},
     "output_type": "execute_result"
    }
   ],
   "source": [
    "sorted(d.items())"
   ]
  },
  {
   "cell_type": "code",
   "execution_count": null,
   "metadata": {},
   "outputs": [],
   "source": []
  }
 ],
 "metadata": {
  "kernelspec": {
   "display_name": "Python 3",
   "language": "python",
   "name": "python3"
  },
  "language_info": {
   "codemirror_mode": {
    "name": "ipython",
    "version": 3
   },
   "file_extension": ".py",
   "mimetype": "text/x-python",
   "name": "python",
   "nbconvert_exporter": "python",
   "pygments_lexer": "ipython3",
   "version": "3.6.5"
  }
 },
 "nbformat": 4,
 "nbformat_minor": 1
}
