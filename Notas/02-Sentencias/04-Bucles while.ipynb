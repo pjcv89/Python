{
 "cells": [
  {
   "cell_type": "markdown",
   "metadata": {
    "collapsed": true
   },
   "source": [
    "# Bucles while\n",
    "\n",
    "La declaración <code> while </code> en Python es una de las formas más generales de realizar iteración. Una instrucción <code> while </code> ejecutará repetidamente una sola instrucción o grupo de sentencias siempre que la condición sea verdadera. La razón por la que se llama un 'bucle' es porque las declaraciones de código se repiten una y otra vez hasta que la condición ya no se cumple.\n",
    "\n",
    "La sintaxis general de un bucle <code> while </code> en Python es el siguiente:\n",
    "\n",
    "    while prueba_lógica:\n",
    "        sentencias a realizar\n",
    "    else:\n",
    "        sentencias finales\n",
    "\n",
    "Veamos unos ejemplos."
   ]
  },
  {
   "cell_type": "code",
   "execution_count": 5,
   "metadata": {},
   "outputs": [
    {
     "name": "stdout",
     "output_type": "stream",
     "text": [
      "valor actual de x:  0\n",
      " x es menor que 10, incrementando x en 1\n",
      "valor actual de x:  1\n",
      " x es menor que 10, incrementando x en 1\n",
      "valor actual de x:  2\n",
      " x es menor que 10, incrementando x en 1\n",
      "valor actual de x:  3\n",
      " x es menor que 10, incrementando x en 1\n",
      "valor actual de x:  4\n",
      " x es menor que 10, incrementando x en 1\n",
      "valor actual de x:  5\n",
      " x es menor que 10, incrementando x en 1\n",
      "valor actual de x:  6\n",
      " x es menor que 10, incrementando x en 1\n",
      "valor actual de x:  7\n",
      " x es menor que 10, incrementando x en 1\n",
      "valor actual de x:  8\n",
      " x es menor que 10, incrementando x en 1\n",
      "valor actual de x:  9\n",
      " x es menor que 10, incrementando x en 1\n"
     ]
    }
   ],
   "source": [
    "# Iniciamos x con cero\n",
    "x = 0\n",
    "\n",
    "while x < 10:\n",
    "    print('valor actual de x: ',x)\n",
    "    print(' x es menor que 10, incrementando x en 1')\n",
    "    x+=1"
   ]
  },
  {
   "cell_type": "markdown",
   "metadata": {},
   "source": [
    "Notice how many times the print statements occurred and how the <code>while</code> loop kept going until the True condition was met, which occurred once x==10. It's important to note that once this occurred the code stopped. Let's see how we could add an <code>else</code> statement:"
   ]
  },
  {
   "cell_type": "code",
   "execution_count": 6,
   "metadata": {},
   "outputs": [
    {
     "name": "stdout",
     "output_type": "stream",
     "text": [
      "valor actual de x:  0\n",
      " x es aún menor de 10, incrementando x en uno\n",
      "valor actual de x:  1\n",
      " x es aún menor de 10, incrementando x en uno\n",
      "valor actual de x:  2\n",
      " x es aún menor de 10, incrementando x en uno\n",
      "valor actual de x:  3\n",
      " x es aún menor de 10, incrementando x en uno\n",
      "valor actual de x:  4\n",
      " x es aún menor de 10, incrementando x en uno\n",
      "valor actual de x:  5\n",
      " x es aún menor de 10, incrementando x en uno\n",
      "valor actual de x:  6\n",
      " x es aún menor de 10, incrementando x en uno\n",
      "valor actual de x:  7\n",
      " x es aún menor de 10, incrementando x en uno\n",
      "valor actual de x:  8\n",
      " x es aún menor de 10, incrementando x en uno\n",
      "valor actual de x:  9\n",
      " x es aún menor de 10, incrementando x en uno\n",
      "¡Hecho!\n"
     ]
    }
   ],
   "source": [
    "x = 0\n",
    "\n",
    "while x < 10:\n",
    "    print('valor actual de x: ',x)\n",
    "    print(' x es aún menor de 10, incrementando x en uno')\n",
    "    x+=1\n",
    "    \n",
    "else:\n",
    "    print('¡Hecho!')"
   ]
  },
  {
   "cell_type": "markdown",
   "metadata": {},
   "source": [
    "# break, continue, pass\n",
    "\n",
    "Podemos usar las declaraciones de <code> break </code>, <code> continue </code> y <code> pass </code> en nuestros bucles para agregar funcionalidades adicionales para varios casos. Las tres afirmaciones se definen por:\n",
    "\n",
    "    break: Termina el bucle actual y continua con la ejecución de la siguiente instrucción.\n",
    "    continue: Regresa al comienzo del bucle, ignorando las sentencias que quedan en la iteración actual del bucle e inicia la siguiente iteración. \n",
    "    pass: No hacer nada en absoluto.\n",
    "    \n",
    "    \n",
    "Pensando en las declaraciones <code> break </code> y <code> continue </code>, el formato general del bucle <code> while </code> se ve así:\n",
    "\n",
    "    while prueba_lógica_1: \n",
    "        sentencias a realizar\n",
    "        if prueba_lógica_2: \n",
    "            break\n",
    "        if prueba_lógica_3: \n",
    "            continue \n",
    "    else:\n",
    "        otras_sentencias\n",
    "    \n",
    "Las declaraciones de <code> break </code> y <code> continue </code> pueden aparecer en cualquier parte dentro del cuerpo del bucle, pero generalmente las pondremos más anidadas junto con una declaración de <code> if </code> para realizar una acción basada en alguna condición.\n",
    "\n",
    "Ahora veremos algunos ejemplos"
   ]
  },
  {
   "cell_type": "code",
   "execution_count": 7,
   "metadata": {},
   "outputs": [
    {
     "name": "stdout",
     "output_type": "stream",
     "text": [
      "valor actual de x:  0\n",
      " x es aún menor de 10, incrementando x en uno\n",
      "continuando...\n",
      "valor actual de x:  1\n",
      " x es aún menor de 10, incrementando x en uno\n",
      "continuando...\n",
      "valor actual de x:  2\n",
      " x es aún menor de 10, incrementando x en uno\n",
      "x==3\n",
      "valor actual de x:  3\n",
      " x es aún menor de 10, incrementando x en uno\n",
      "continuando...\n",
      "valor actual de x:  4\n",
      " x es aún menor de 10, incrementando x en uno\n",
      "continuando...\n",
      "valor actual de x:  5\n",
      " x es aún menor de 10, incrementando x en uno\n",
      "continuando...\n",
      "valor actual de x:  6\n",
      " x es aún menor de 10, incrementando x en uno\n",
      "continuando...\n",
      "valor actual de x:  7\n",
      " x es aún menor de 10, incrementando x en uno\n",
      "continuando...\n",
      "valor actual de x:  8\n",
      " x es aún menor de 10, incrementando x en uno\n",
      "continuando...\n",
      "valor actual de x:  9\n",
      " x es aún menor de 10, incrementando x en uno\n",
      "continuando...\n"
     ]
    }
   ],
   "source": [
    "# Iniciar x en cero\n",
    "x = 0\n",
    "\n",
    "while x < 10:\n",
    "    print('valor actual de x: ',x)\n",
    "    print(' x es aún menor de 10, incrementando x en uno')\n",
    "    x+=1\n",
    "    if x==3:\n",
    "        print('x==3')\n",
    "    else:\n",
    "        print('continuando...')\n",
    "        continue"
   ]
  },
  {
   "cell_type": "markdown",
   "metadata": {},
   "source": [
    "Note how we have a printed statement when x==3, and a continue being printed out as we continue through the outer while loop. Let's put in a break once x ==3 and see if the result makes sense:\n",
    "\n",
    "Obsérvese cómo tenemos una declaración de impresión cuando x == 3, y una impresión de \"continuando...\" a medida que continuamos  iterando a través del bucle while externo. Pongamos un break una vez que x == 3 y veamos si el resultado tiene sentido."
   ]
  },
  {
   "cell_type": "code",
   "execution_count": 9,
   "metadata": {},
   "outputs": [
    {
     "name": "stdout",
     "output_type": "stream",
     "text": [
      "valor actual de x:  0\n",
      " x es aún menor de 10, incrementando x en uno\n",
      "Continuando...\n",
      "valor actual de x:  1\n",
      " x es aún menor de 10, incrementando x en uno\n",
      "Continuando...\n",
      "valor actual de x:  2\n",
      " x es aún menor de 10, incrementando x en uno\n",
      "Break ya que x==3\n"
     ]
    }
   ],
   "source": [
    "# Iniciar x en cero\n",
    "x = 0\n",
    "\n",
    "while x < 10:\n",
    "    print('valor actual de x: ',x)\n",
    "    print(' x es aún menor de 10, incrementando x en uno')\n",
    "    x+=1\n",
    "    if x==3:\n",
    "        print('Break ya que x==3')\n",
    "        break\n",
    "    else:\n",
    "        print('Continuando...')\n",
    "        continue"
   ]
  },
  {
   "cell_type": "markdown",
   "metadata": {},
   "source": [
    "Note how the other <code>else</code> statement wasn't reached and continuing was never printed!\n",
    "\n",
    "Observe cómo la otra declaración de <code> else </code> no se alcanzó y la sentencia de \"Continuando...\" nunca se imprimió.\n",
    "\n",
    "**** ¡Advertencia! Es posible crear un bucle infinito con las declaraciones de <code> while </code>. Por ejemplo:****"
   ]
  },
  {
   "cell_type": "code",
   "execution_count": null,
   "metadata": {},
   "outputs": [],
   "source": [
    "# ¡¡¡¡NO CORRER ESTA CELDA!!!! \n",
    "while True:\n",
    "    print(\"¡Estoy estancado en un bucle infinito!\")"
   ]
  },
  {
   "cell_type": "markdown",
   "metadata": {
    "collapsed": true
   },
   "source": [
    "Nota rápida: Si se ejecutara la celda anterior, basta con hacer click en el menú Kernel de arriba y seleccionar Reiniciar (_Restart_) para reiniciar el Kernel de Python."
   ]
  },
  {
   "cell_type": "code",
   "execution_count": null,
   "metadata": {},
   "outputs": [],
   "source": []
  }
 ],
 "metadata": {
  "kernelspec": {
   "display_name": "Python 3",
   "language": "python",
   "name": "python3"
  },
  "language_info": {
   "codemirror_mode": {
    "name": "ipython",
    "version": 3
   },
   "file_extension": ".py",
   "mimetype": "text/x-python",
   "name": "python",
   "nbconvert_exporter": "python",
   "pygments_lexer": "ipython3",
   "version": "3.6.5"
  }
 },
 "nbformat": 4,
 "nbformat_minor": 1
}
