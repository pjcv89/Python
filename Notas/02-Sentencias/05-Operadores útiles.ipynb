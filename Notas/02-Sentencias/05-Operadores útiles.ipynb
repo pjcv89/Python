{
 "cells": [
  {
   "cell_type": "markdown",
   "metadata": {},
   "source": [
    "# Algunos operadores útiles\n",
    "\n",
    "Hay algunas funciones y \"operadores\" incorporados en Python que no se clasifican exactamente en ninguna categoría, los cuales veremos en esta nota."
   ]
  },
  {
   "cell_type": "markdown",
   "metadata": {},
   "source": [
    "## range\n",
    "\n",
    "La función de <code> range() </code> (_rango_) le permite * generar * rápidamente una lista de enteros, los cual genera una lista de números enteros. Esta función tiene 3 parámetros que pueden proporcionarse: número de inicio, número final, y tamaño del intervalo. Veamos algunos ejemplos:"
   ]
  },
  {
   "cell_type": "code",
   "execution_count": 2,
   "metadata": {},
   "outputs": [
    {
     "data": {
      "text/plain": [
       "range(0, 11)"
      ]
     },
     "execution_count": 2,
     "metadata": {},
     "output_type": "execute_result"
    }
   ],
   "source": [
    "# Ejemplo \n",
    "range(0,11)"
   ]
  },
  {
   "cell_type": "markdown",
   "metadata": {},
   "source": [
    "Ojo: Tenga en cuenta que esta es una función de tipo ** generador ** (_generator_), por lo que para obtener una lista de la misma, debemos convertirla en una lista con  la función <code> list() </code>. Ahora bien, ¿Qué es un generador? Es un tipo especial de función que generará información y no necesitará guardarla en la memoria. Más adelante hablaremos más sobre esto."
   ]
  },
  {
   "cell_type": "code",
   "execution_count": 3,
   "metadata": {},
   "outputs": [
    {
     "data": {
      "text/plain": [
       "[0, 1, 2, 3, 4, 5, 6, 7, 8, 9, 10]"
      ]
     },
     "execution_count": 3,
     "metadata": {},
     "output_type": "execute_result"
    }
   ],
   "source": [
    "# Nótese que en el ejemplo anterior, el número 11 no está incluido, \n",
    "# es decir, la lista genera desde el cero hasta hasta 11 no inclusivo, \n",
    "# tal como en la notación de rebanado (slice) que vimos antes.\n",
    "list(range(0,11))"
   ]
  },
  {
   "cell_type": "code",
   "execution_count": 4,
   "metadata": {},
   "outputs": [
    {
     "data": {
      "text/plain": [
       "[0, 1, 2, 3, 4, 5, 6, 7, 8, 9, 10, 11]"
      ]
     },
     "execution_count": 4,
     "metadata": {},
     "output_type": "execute_result"
    }
   ],
   "source": [
    "# Si queremos incluir el número 11, necesitamos pasar el número 12 como argumento\n",
    "list(range(0,12))"
   ]
  },
  {
   "cell_type": "code",
   "execution_count": 5,
   "metadata": {},
   "outputs": [
    {
     "data": {
      "text/plain": [
       "[0, 2, 4, 6, 8, 10]"
      ]
     },
     "execution_count": 5,
     "metadata": {},
     "output_type": "execute_result"
    }
   ],
   "source": [
    "# Ahora bien, el tercer parámetro es el tamaño del paso, o intervalo entre los\n",
    "# la secuencia generada. Este parámetro es opcional ya que el default es uno.\n",
    "# Ejemplo: generar secuencia del 0 al 11 no inclusivo, saltando 2 entre cada número.\n",
    "list(range(0,11,2))"
   ]
  },
  {
   "cell_type": "code",
   "execution_count": 6,
   "metadata": {},
   "outputs": [
    {
     "data": {
      "text/plain": [
       "[0, 10, 20, 30, 40, 50, 60, 70, 80, 90, 100]"
      ]
     },
     "execution_count": 6,
     "metadata": {},
     "output_type": "execute_result"
    }
   ],
   "source": [
    "# Ejemplo: generar secuencia del 0 al 101 no inclusivo, saltando 10 entre cada número.\n",
    "list(range(0,101,10))"
   ]
  },
  {
   "cell_type": "markdown",
   "metadata": {},
   "source": [
    "## enumerate\n",
    "\n",
    "<code> enumerate() </code> es una función muy útil para usar con los bucles. Imaginemos la siguiente situación:"
   ]
  },
  {
   "cell_type": "code",
   "execution_count": 7,
   "metadata": {},
   "outputs": [
    {
     "name": "stdout",
     "output_type": "stream",
     "text": [
      "En el índice 0 la letra es a\n",
      "En el índice 1 la letra es b\n",
      "En el índice 2 la letra es c\n",
      "En el índice 3 la letra es d\n",
      "En el índice 4 la letra es e\n"
     ]
    }
   ],
   "source": [
    "contador = 0\n",
    "\n",
    "for letra in 'abcde':\n",
    "    print(\"En el índice {} la letra es {}\".format(contador,letra))\n",
    "    contador += 1"
   ]
  },
  {
   "cell_type": "markdown",
   "metadata": {},
   "source": [
    "Dar seguimiento de la cantidad de bucles por los que ha pasado es tan común, que la función <code> enumerate() </code> se creó para que no tengamos que preocuparnos por crear y actualizar esta variable que ahora llamamos _contador_. Ahora haremos esto mismo, sin utilizar nuestra variable _contador_ pero utilizando la función <code> enumerate() </code>."
   ]
  },
  {
   "cell_type": "code",
   "execution_count": 8,
   "metadata": {},
   "outputs": [
    {
     "name": "stdout",
     "output_type": "stream",
     "text": [
      "En el índice 0 la letra es a\n",
      "En el índice 1 la letra es b\n",
      "En el índice 2 la letra es c\n",
      "En el índice 3 la letra es d\n",
      "En el índice 4 la letra es e\n"
     ]
    }
   ],
   "source": [
    "# Ojo: nótese como aquí usamos desempaquetado de tuplas\n",
    "\n",
    "for indice,letra in enumerate('abcde'):\n",
    "    print(\"En el índice {} la letra es {}\".format(indice,letra))"
   ]
  },
  {
   "cell_type": "markdown",
   "metadata": {},
   "source": [
    "## zip\n",
    "\n",
    "Notice the format enumerate actually returns, let's take a look by transforming it to a list()\n",
    "\n",
    "Transformemos la salida de utilizar <code> enumerate() </code> en una lista y notemos que nos devuelve tuplas."
   ]
  },
  {
   "cell_type": "code",
   "execution_count": 10,
   "metadata": {},
   "outputs": [
    {
     "data": {
      "text/plain": [
       "[(0, 'a'), (1, 'b'), (2, 'c'), (3, 'd'), (4, 'e')]"
      ]
     },
     "execution_count": 10,
     "metadata": {},
     "output_type": "execute_result"
    }
   ],
   "source": [
    "list(enumerate('abcde'))"
   ]
  },
  {
   "cell_type": "markdown",
   "metadata": {},
   "source": [
    "Dado que se trata de una lista de tuplas, pudimos usar el desempaquetado de tuplas durante nuestro bucle <code> for </code>. Esta estructura de datos es realmente muy común en Python. \n",
    "\n",
    "Ahora bien, podemos usar la función <code> zip() </code> para crear rápidamente una lista de tuplas al _cruzar_ dos listas en una sola."
   ]
  },
  {
   "cell_type": "code",
   "execution_count": 11,
   "metadata": {},
   "outputs": [],
   "source": [
    "lista_1 = [1,2,3,4,5]\n",
    "lista_2 = ['a','b','c','d','e']"
   ]
  },
  {
   "cell_type": "code",
   "execution_count": 12,
   "metadata": {},
   "outputs": [
    {
     "data": {
      "text/plain": [
       "<zip at 0x10ec5f388>"
      ]
     },
     "execution_count": 12,
     "metadata": {},
     "output_type": "execute_result"
    }
   ],
   "source": [
    "# Ojo: La función zip también es un generador. \n",
    "zip(lista_1,lista_2)"
   ]
  },
  {
   "cell_type": "code",
   "execution_count": 15,
   "metadata": {},
   "outputs": [
    {
     "data": {
      "text/plain": [
       "[(1, 'a'), (2, 'b'), (3, 'c'), (4, 'd'), (5, 'e')]"
      ]
     },
     "execution_count": 15,
     "metadata": {},
     "output_type": "execute_result"
    }
   ],
   "source": [
    "#Convirtamos en una lista para generar y ver el resultado\n",
    "list(zip(lista_1,lista_2))"
   ]
  },
  {
   "cell_type": "markdown",
   "metadata": {},
   "source": [
    "Para usar la función zip como generador, podemos, por ejemplo, usar un bucle for"
   ]
  },
  {
   "cell_type": "code",
   "execution_count": 16,
   "metadata": {},
   "outputs": [
    {
     "name": "stdout",
     "output_type": "stream",
     "text": [
      "Para esta tupla, el primer elemento es 1 y el segundo elemento es a\n",
      "Para esta tupla, el primer elemento es 2 y el segundo elemento es b\n",
      "Para esta tupla, el primer elemento es 3 y el segundo elemento es c\n",
      "Para esta tupla, el primer elemento es 4 y el segundo elemento es d\n",
      "Para esta tupla, el primer elemento es 5 y el segundo elemento es e\n"
     ]
    }
   ],
   "source": [
    "for elemento1, elemento2 in zip(lista_1,lista_2):\n",
    "    print('Para esta tupla, el primer elemento es {} y el segundo elemento es {}'.format(elemento1,elemento2))"
   ]
  },
  {
   "cell_type": "markdown",
   "metadata": {},
   "source": [
    "## operador _in_\n",
    "\n",
    "En el ejemplo anterior vimos la instrucción _in_ en la sentencia _for_. Con este operador podemor realizar una prueba rápida de pertenencia, es decir, verificar si un elemento está incluido dentro de un objeto. Veamos unos ejemplos."
   ]
  },
  {
   "cell_type": "code",
   "execution_count": 17,
   "metadata": {},
   "outputs": [
    {
     "data": {
      "text/plain": [
       "True"
      ]
     },
     "execution_count": 17,
     "metadata": {},
     "output_type": "execute_result"
    }
   ],
   "source": [
    "'x' in ['x','y','z']"
   ]
  },
  {
   "cell_type": "code",
   "execution_count": 18,
   "metadata": {},
   "outputs": [
    {
     "data": {
      "text/plain": [
       "False"
      ]
     },
     "execution_count": 18,
     "metadata": {},
     "output_type": "execute_result"
    }
   ],
   "source": [
    "'x' in [1,2,3]"
   ]
  },
  {
   "cell_type": "markdown",
   "metadata": {},
   "source": [
    "## min/max\n",
    "\n",
    "Estos operadores es para consultar rápidamente los elementos mínimo y máximo de un objeto. Podemos ver un ejemplo para una lista."
   ]
  },
  {
   "cell_type": "code",
   "execution_count": 19,
   "metadata": {},
   "outputs": [],
   "source": [
    "mi_lista = [10,20,30,40,100]"
   ]
  },
  {
   "cell_type": "code",
   "execution_count": 20,
   "metadata": {},
   "outputs": [
    {
     "data": {
      "text/plain": [
       "10"
      ]
     },
     "execution_count": 20,
     "metadata": {},
     "output_type": "execute_result"
    }
   ],
   "source": [
    "min(mi_lista)"
   ]
  },
  {
   "cell_type": "code",
   "execution_count": 21,
   "metadata": {},
   "outputs": [
    {
     "data": {
      "text/plain": [
       "100"
      ]
     },
     "execution_count": 21,
     "metadata": {},
     "output_type": "execute_result"
    }
   ],
   "source": [
    "max(mi_lista)"
   ]
  },
  {
   "cell_type": "markdown",
   "metadata": {},
   "source": [
    "## random\n",
    "\n",
    "Python cuenta con una biblioteca con varias funciones para lidiar con números aleatorios. Mostraremos brevemente sólo unas cuantas de estas funciones."
   ]
  },
  {
   "cell_type": "code",
   "execution_count": 22,
   "metadata": {},
   "outputs": [],
   "source": [
    "# Importamos la función shuffle de la biblioteca random\n",
    "from random import shuffle"
   ]
  },
  {
   "cell_type": "code",
   "execution_count": 24,
   "metadata": {},
   "outputs": [],
   "source": [
    "#Esta función tiene el efecto de reordenar aleatoriamente la lista directamente (\"in place\") \n",
    "#lo que significa que no regresará otro, sino que afectará al objeto directamente\n",
    "shuffle(mi_lista)"
   ]
  },
  {
   "cell_type": "code",
   "execution_count": 25,
   "metadata": {},
   "outputs": [
    {
     "data": {
      "text/plain": [
       "[30, 10, 100, 20, 40]"
      ]
     },
     "execution_count": 25,
     "metadata": {},
     "output_type": "execute_result"
    }
   ],
   "source": [
    "mi_lista"
   ]
  },
  {
   "cell_type": "code",
   "execution_count": 27,
   "metadata": {},
   "outputs": [],
   "source": [
    "# Importamos la función randint de la biblioteca random\n",
    "from random import randint"
   ]
  },
  {
   "cell_type": "code",
   "execution_count": 30,
   "metadata": {},
   "outputs": [
    {
     "data": {
      "text/plain": [
       "7"
      ]
     },
     "execution_count": 30,
     "metadata": {},
     "output_type": "execute_result"
    }
   ],
   "source": [
    "# Devuelve un entero aleatorio en el rango [a, b], incluidos ambos puntos extremos.\n",
    "randint(0,100)"
   ]
  },
  {
   "cell_type": "code",
   "execution_count": 33,
   "metadata": {},
   "outputs": [
    {
     "data": {
      "text/plain": [
       "291"
      ]
     },
     "execution_count": 33,
     "metadata": {},
     "output_type": "execute_result"
    }
   ],
   "source": [
    "# Otro ejemplo\n",
    "randint(0,1000)"
   ]
  },
  {
   "cell_type": "markdown",
   "metadata": {},
   "source": [
    "## input"
   ]
  },
  {
   "cell_type": "markdown",
   "metadata": {},
   "source": [
    "La función <code> input() </code> permite obtener texto escrito por teclado. Al llegar a la función, el programa se detiene esperando que se escriba algo y se pulse la tecla Intro. Esto es especialmente útil para programas interactivos donde se requiere que el usuario introduzca valores.\n",
    "Veamos un ejemplo sencillo."
   ]
  },
  {
   "cell_type": "code",
   "execution_count": 35,
   "metadata": {},
   "outputs": [
    {
     "name": "stdout",
     "output_type": "stream",
     "text": [
      "Teclea algo y pulse Intro: Hola Python!\n"
     ]
    },
    {
     "data": {
      "text/plain": [
       "'Hola Python!'"
      ]
     },
     "execution_count": 35,
     "metadata": {},
     "output_type": "execute_result"
    }
   ],
   "source": [
    "input('Teclea algo y pulse Intro: ')"
   ]
  },
  {
   "cell_type": "code",
   "execution_count": null,
   "metadata": {},
   "outputs": [],
   "source": []
  }
 ],
 "metadata": {
  "kernelspec": {
   "display_name": "Python 3",
   "language": "python",
   "name": "python3"
  },
  "language_info": {
   "codemirror_mode": {
    "name": "ipython",
    "version": 3
   },
   "file_extension": ".py",
   "mimetype": "text/x-python",
   "name": "python",
   "nbconvert_exporter": "python",
   "pygments_lexer": "ipython3",
   "version": "3.6.5"
  }
 },
 "nbformat": 4,
 "nbformat_minor": 2
}
