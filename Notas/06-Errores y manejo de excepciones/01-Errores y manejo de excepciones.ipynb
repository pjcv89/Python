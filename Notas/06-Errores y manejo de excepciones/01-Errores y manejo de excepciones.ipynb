{
 "cells": [
  {
   "cell_type": "markdown",
   "metadata": {},
   "source": [
    "# Errores y manejo de excepciones\n",
    "\n",
    "En esta nota veremos sobre errors y manejo de excepciones en Python. Hasta este punto, seguramente te has encontrado con errores al ejecutar sentencias. Por ejemplo:"
   ]
  },
  {
   "cell_type": "code",
   "execution_count": 1,
   "metadata": {},
   "outputs": [
    {
     "ename": "SyntaxError",
     "evalue": "EOL while scanning string literal (<ipython-input-1-db8c9988558c>, line 1)",
     "output_type": "error",
     "traceback": [
      "\u001b[1;36m  File \u001b[1;32m\"<ipython-input-1-db8c9988558c>\"\u001b[1;36m, line \u001b[1;32m1\u001b[0m\n\u001b[1;33m    print('Hello)\u001b[0m\n\u001b[1;37m                 ^\u001b[0m\n\u001b[1;31mSyntaxError\u001b[0m\u001b[1;31m:\u001b[0m EOL while scanning string literal\n"
     ]
    }
   ],
   "source": [
    "print('Hello)"
   ]
  },
  {
   "cell_type": "markdown",
   "metadata": {},
   "source": [
    "Observe cómo obtenemos un SyntaxError, con la descripción adicional de que era un EOL (Error de final de línea) al escanear el literal de cadena. Esto es lo suficientemente específico para que veamos que olvidamos una comilla al final de la línea. Comprender estos diversos tipos de error te ayudará a depurar su código mucho más rápido.\n",
    "\n",
    "Este tipo de error y descripción se conoce como una excepción. Incluso si una declaración o expresión es sintácticamente correcta, puede causar un error cuando se intenta ejecutarla. Los errores detectados durante la ejecución se denominan excepciones.\n",
    "\n",
    "La lista completa de excepciones ya incorporadas en Python pueden consultarse [aquí](https://docs.python.org/3/library/exceptions.html).\n",
    " \n",
    "Ahora veamos cómo manejar errores y excepciones en nuestro propio código."
   ]
  },
  {
   "cell_type": "markdown",
   "metadata": {},
   "source": [
    "## try y except\n",
    "\n",
    "La terminología básica y la sintaxis utilizada para manejar los errores en Python son las declaraciones <code> try </code> y <code> except </code>. El código que puede hacer que se produzca una excepción se coloca en el bloque <code> try </code> y el manejo de la excepción se implementa en el bloque de código <code> except </code>. La sintaxis por lo tanto toma la siguiente forma:\n",
    "\n",
    "    try:\n",
    "       Sentencias a ejecutar\n",
    "       ...\n",
    "    except Excepción tipo I:\n",
    "       Si hay una Excepción tipo I, ejecutar este bloque de código.\n",
    "    except Excepción tipo II:\n",
    "       Si hay una Excepción tipo I, ejecutar este bloque de código.\n",
    "       ...\n",
    "    else:\n",
    "       Si no hay excepciones, ejecutar este bloque de código. \n",
    "\n",
    "También podemos verificar cualquier excepción con solo usar <code> except: </code> Para comprender mejor esto, veamos un ejemplo: veremos algunos códigos que abren y escriben un archivo:"
   ]
  },
  {
   "cell_type": "code",
   "execution_count": 2,
   "metadata": {},
   "outputs": [
    {
     "name": "stdout",
     "output_type": "stream",
     "text": [
      "Contenido escrito de forma exitosa\n"
     ]
    }
   ],
   "source": [
    "try:\n",
    "    f = open('testfile','w') # Abrir el archivo con permiso de escritura ('w')\n",
    "    f.write('Prueba escribiendo esto')\n",
    "except IOError:\n",
    "    # Esto solo buscará excepción de tipo IOError y luego ejecutará esta declaración de impresión\n",
    "    print(\"Error: No se pudo encontrar o leer el archivo\")\n",
    "else:\n",
    "    print(\"Contenido escrito de forma exitosa\")\n",
    "    f.close()"
   ]
  },
  {
   "cell_type": "markdown",
   "metadata": {},
   "source": [
    "**Nota**: Esto fue posible porque en este mismo directorio se encuentra el archivo llamado *testfile*. Para comprobar esto, ejecutemos `ls` (mostrar listado de archivos en el presente directorio) como si fuera la línea de comandos."
   ]
  },
  {
   "cell_type": "code",
   "execution_count": 1,
   "metadata": {},
   "outputs": [
    {
     "name": "stdout",
     "output_type": "stream",
     "text": [
      "01-Errores y manejo de excepciones.ipynb\r\n",
      "\u001b[34m__pycache__\u001b[m\u001b[m\r\n",
      "testfile\r\n"
     ]
    }
   ],
   "source": [
    "! ls"
   ]
  },
  {
   "cell_type": "markdown",
   "metadata": {},
   "source": [
    "Ahora veamos que pasaría si no tuviéramos permiso de escritura."
   ]
  },
  {
   "cell_type": "code",
   "execution_count": 3,
   "metadata": {},
   "outputs": [
    {
     "name": "stdout",
     "output_type": "stream",
     "text": [
      "Error: No se pudo encontrar o leer el archivo\n"
     ]
    }
   ],
   "source": [
    "try:\n",
    "    f = open('testfile','r') # Abrir el archivo con permiso de lectura ('r')\n",
    "    f.write('Prueba escribiendo esto')\n",
    "except IOError:\n",
    "    # This will only check for an IOError exception and then execute this print statement\n",
    "    print(\"Error: No se pudo encontrar o leer el archivo\")\n",
    "else:\n",
    "    print(\"Contenido escrito de forma exitosa\")\n",
    "    f.close()"
   ]
  },
  {
   "cell_type": "markdown",
   "metadata": {},
   "source": [
    "Nótese como sólo se imprimió un mensaje. El código se siguió ejecutando y pudimos continuar haciendo acciones y ejecutando bloques de código. Esto es extremadamente útil cuando tiene que tener en cuenta los posibles errores de entrada en su código. Esto significa que podemos estar preparados para algún error y seguir ejecutando el código, en lugar de que su código se detenga como vimos anteriormente.\n",
    "\n",
    "También podríamos haber escrito <code> except: </code> si no estuviéramos seguros de qué excepción ocurriría. Por ejemplo:"
   ]
  },
  {
   "cell_type": "code",
   "execution_count": 4,
   "metadata": {},
   "outputs": [
    {
     "name": "stdout",
     "output_type": "stream",
     "text": [
      "Error: No se pudo encontrar o leer el archivo\n"
     ]
    }
   ],
   "source": [
    "try:\n",
    "    f = open('testfile','r') # Abrir el archivo con permiso de lectura ('r')\n",
    "    f.write('Prueba escribiendo esto')\n",
    "except:\n",
    "    # This will only check for an IOError exception and then execute this print statement\n",
    "    print(\"Error: No se pudo encontrar o leer el archivo\")\n",
    "else:\n",
    "    print(\"Contenido escrito de forma exitosa\")\n",
    "    f.close()"
   ]
  },
  {
   "cell_type": "markdown",
   "metadata": {},
   "source": [
    "En este caso, no necesitamos memorizar la lista de tipos de excepción. Ahora, ¿qué pasa si seguimos queriendo ejecutar código después de que ocurrió la excepción? Aquí es donde entra <code> finally </code>.\n",
    "\n",
    "## finally\n",
    "The <code>finally:</code> block of code will always be run regardless if there was an exception in the <code>try</code> code block. The syntax is:\n",
    "\n",
    "El bloque de código de una sentencia <code> finally: </code> siempre se ejecutará independientemente de que haya una excepción en el bloque de código <code> try </code>. La sintaxis es:\n",
    "\n",
    "    try:\n",
    "       Bloque de código.\n",
    "       ...\n",
    "       Debido a alguna excepción, este bloque puede no ser ejecutado.\n",
    "    finally:\n",
    "       Este bloque siempre será ejecutado.\n",
    "\n",
    "Por ejemplo:"
   ]
  },
  {
   "cell_type": "code",
   "execution_count": 6,
   "metadata": {},
   "outputs": [
    {
     "name": "stdout",
     "output_type": "stream",
     "text": [
      "Escritura correcta\n",
      "Esto siempre se ejecutará\n"
     ]
    }
   ],
   "source": [
    "try:\n",
    "    f = open(\"testfile\", \"w\")\n",
    "    f.write('Prueba escribiendo esto')\n",
    "    print('Escritura correcta')\n",
    "    f.close()\n",
    "finally:\n",
    "    print(\"Esto siempre se ejecutará\")"
   ]
  },
  {
   "cell_type": "markdown",
   "metadata": {},
   "source": [
    "Ahora bien, podemos usar esto junto con <code> except </code>. Veamos un nuevo ejemplo que tendrá en cuenta a un usuario que proporciona una entrada incorrecta:"
   ]
  },
  {
   "cell_type": "code",
   "execution_count": 7,
   "metadata": {},
   "outputs": [],
   "source": [
    "def pideentero():\n",
    "    try:\n",
    "        val = int(input(\"Proporciona un número entero: \"))\n",
    "    except:\n",
    "        print(\"Parece que no se ha ingreso un número entero!\")\n",
    "\n",
    "    finally:\n",
    "        print(\"¡Finalmente esto se ejecutó!\")\n",
    "    print(val)"
   ]
  },
  {
   "cell_type": "code",
   "execution_count": 8,
   "metadata": {},
   "outputs": [
    {
     "name": "stdout",
     "output_type": "stream",
     "text": [
      "Proporciona un número entero: 5\n",
      "¡Finalmente esto se ejecutó!\n",
      "5\n"
     ]
    }
   ],
   "source": [
    "pideentero()"
   ]
  },
  {
   "cell_type": "code",
   "execution_count": 9,
   "metadata": {},
   "outputs": [
    {
     "name": "stdout",
     "output_type": "stream",
     "text": [
      "Proporciona un número entero: cinco\n",
      "Parece que no se ha ingreso un número entero!\n",
      "¡Finalmente esto se ejecutó!\n"
     ]
    },
    {
     "ename": "UnboundLocalError",
     "evalue": "local variable 'val' referenced before assignment",
     "output_type": "error",
     "traceback": [
      "\u001b[0;31m---------------------------------------------------------------------------\u001b[0m",
      "\u001b[0;31mUnboundLocalError\u001b[0m                         Traceback (most recent call last)",
      "\u001b[0;32m<ipython-input-9-6cc28d09ecab>\u001b[0m in \u001b[0;36m<module>\u001b[0;34m()\u001b[0m\n\u001b[0;32m----> 1\u001b[0;31m \u001b[0mpideentero\u001b[0m\u001b[0;34m(\u001b[0m\u001b[0;34m)\u001b[0m\u001b[0;34m\u001b[0m\u001b[0m\n\u001b[0m",
      "\u001b[0;32m<ipython-input-7-a0d2443c8f99>\u001b[0m in \u001b[0;36mpideentero\u001b[0;34m()\u001b[0m\n\u001b[1;32m      7\u001b[0m     \u001b[0;32mfinally\u001b[0m\u001b[0;34m:\u001b[0m\u001b[0;34m\u001b[0m\u001b[0m\n\u001b[1;32m      8\u001b[0m         \u001b[0mprint\u001b[0m\u001b[0;34m(\u001b[0m\u001b[0;34m\"¡Finalmente esto se ejecutó!\"\u001b[0m\u001b[0;34m)\u001b[0m\u001b[0;34m\u001b[0m\u001b[0m\n\u001b[0;32m----> 9\u001b[0;31m     \u001b[0mprint\u001b[0m\u001b[0;34m(\u001b[0m\u001b[0mval\u001b[0m\u001b[0;34m)\u001b[0m\u001b[0;34m\u001b[0m\u001b[0m\n\u001b[0m",
      "\u001b[0;31mUnboundLocalError\u001b[0m: local variable 'val' referenced before assignment"
     ]
    }
   ],
   "source": [
    "pideentero()"
   ]
  },
  {
   "cell_type": "markdown",
   "metadata": {},
   "source": [
    "Observe cómo obtuvimos un error al intentar imprimir `val` (porque nunca se asignó correctamente). Resolvámoslo preguntando al usuario y comprobando que el tipo de entrada sea un entero:"
   ]
  },
  {
   "cell_type": "code",
   "execution_count": 10,
   "metadata": {},
   "outputs": [],
   "source": [
    "def pideentero():\n",
    "    try:\n",
    "        val = int(input(\"Proporciona un número entero: \"))\n",
    "    except:\n",
    "        print(\"Parece que no se ha ingreso un número entero!\")\n",
    "        val = int(input(\"Intente de nuevo: \"))\n",
    "    finally:\n",
    "        print(\"¡Finalmente esto se ejecutó!\")\n",
    "    print(val)"
   ]
  },
  {
   "cell_type": "code",
   "execution_count": 11,
   "metadata": {},
   "outputs": [
    {
     "name": "stdout",
     "output_type": "stream",
     "text": [
      "Proporciona un número entero: cinco\n",
      "Parece que no se ha ingreso un número entero!\n",
      "Intente de nuevo: cuatro\n",
      "¡Finalmente esto se ejecutó!\n"
     ]
    },
    {
     "ename": "ValueError",
     "evalue": "invalid literal for int() with base 10: 'cuatro'",
     "output_type": "error",
     "traceback": [
      "\u001b[0;31m---------------------------------------------------------------------------\u001b[0m",
      "\u001b[0;31mValueError\u001b[0m                                Traceback (most recent call last)",
      "\u001b[0;32m<ipython-input-10-76fbcd8e8240>\u001b[0m in \u001b[0;36mpideentero\u001b[0;34m()\u001b[0m\n\u001b[1;32m      2\u001b[0m     \u001b[0;32mtry\u001b[0m\u001b[0;34m:\u001b[0m\u001b[0;34m\u001b[0m\u001b[0m\n\u001b[0;32m----> 3\u001b[0;31m         \u001b[0mval\u001b[0m \u001b[0;34m=\u001b[0m \u001b[0mint\u001b[0m\u001b[0;34m(\u001b[0m\u001b[0minput\u001b[0m\u001b[0;34m(\u001b[0m\u001b[0;34m\"Proporciona un número entero: \"\u001b[0m\u001b[0;34m)\u001b[0m\u001b[0;34m)\u001b[0m\u001b[0;34m\u001b[0m\u001b[0m\n\u001b[0m\u001b[1;32m      4\u001b[0m     \u001b[0;32mexcept\u001b[0m\u001b[0;34m:\u001b[0m\u001b[0;34m\u001b[0m\u001b[0m\n",
      "\u001b[0;31mValueError\u001b[0m: invalid literal for int() with base 10: 'cinco'",
      "\nDuring handling of the above exception, another exception occurred:\n",
      "\u001b[0;31mValueError\u001b[0m                                Traceback (most recent call last)",
      "\u001b[0;32m<ipython-input-11-6cc28d09ecab>\u001b[0m in \u001b[0;36m<module>\u001b[0;34m()\u001b[0m\n\u001b[0;32m----> 1\u001b[0;31m \u001b[0mpideentero\u001b[0m\u001b[0;34m(\u001b[0m\u001b[0;34m)\u001b[0m\u001b[0;34m\u001b[0m\u001b[0m\n\u001b[0m",
      "\u001b[0;32m<ipython-input-10-76fbcd8e8240>\u001b[0m in \u001b[0;36mpideentero\u001b[0;34m()\u001b[0m\n\u001b[1;32m      4\u001b[0m     \u001b[0;32mexcept\u001b[0m\u001b[0;34m:\u001b[0m\u001b[0;34m\u001b[0m\u001b[0m\n\u001b[1;32m      5\u001b[0m         \u001b[0mprint\u001b[0m\u001b[0;34m(\u001b[0m\u001b[0;34m\"Parece que no se ha ingreso un número entero!\"\u001b[0m\u001b[0;34m)\u001b[0m\u001b[0;34m\u001b[0m\u001b[0m\n\u001b[0;32m----> 6\u001b[0;31m         \u001b[0mval\u001b[0m \u001b[0;34m=\u001b[0m \u001b[0mint\u001b[0m\u001b[0;34m(\u001b[0m\u001b[0minput\u001b[0m\u001b[0;34m(\u001b[0m\u001b[0;34m\"Intente de nuevo: \"\u001b[0m\u001b[0;34m)\u001b[0m\u001b[0;34m)\u001b[0m\u001b[0;34m\u001b[0m\u001b[0m\n\u001b[0m\u001b[1;32m      7\u001b[0m     \u001b[0;32mfinally\u001b[0m\u001b[0;34m:\u001b[0m\u001b[0;34m\u001b[0m\u001b[0m\n\u001b[1;32m      8\u001b[0m         \u001b[0mprint\u001b[0m\u001b[0;34m(\u001b[0m\u001b[0;34m\"¡Finalmente esto se ejecutó!\"\u001b[0m\u001b[0;34m)\u001b[0m\u001b[0;34m\u001b[0m\u001b[0m\n",
      "\u001b[0;31mValueError\u001b[0m: invalid literal for int() with base 10: 'cuatro'"
     ]
    }
   ],
   "source": [
    "pideentero()"
   ]
  },
  {
   "cell_type": "markdown",
   "metadata": {},
   "source": [
    "Esto solamente realizó una excepción ... ¿cómo podríamos asegurarnos que la excepción se ejecute de manera continua? Podemos hacerlo con un bucle `while`."
   ]
  },
  {
   "cell_type": "code",
   "execution_count": 12,
   "metadata": {},
   "outputs": [],
   "source": [
    "def pideentero():\n",
    "    while True:\n",
    "        try:\n",
    "            val = int(input(\"Proporciona un número entero: \"))\n",
    "        except:\n",
    "            print(\"Parece que no se ha ingreso un número entero!\")\n",
    "            continue\n",
    "        else:\n",
    "            print(\"¡Bien! Eso sí es un entero.\")\n",
    "            break\n",
    "        finally:\n",
    "            print(\"¡Finalmente esto se ejecutó!\")\n",
    "        print(val)"
   ]
  },
  {
   "cell_type": "code",
   "execution_count": 13,
   "metadata": {},
   "outputs": [
    {
     "name": "stdout",
     "output_type": "stream",
     "text": [
      "Proporciona un número entero: cinco\n",
      "Parece que no se ha ingreso un número entero!\n",
      "¡Finalmente esto se ejecutó!\n",
      "Proporciona un número entero: cuatro\n",
      "Parece que no se ha ingreso un número entero!\n",
      "¡Finalmente esto se ejecutó!\n",
      "Proporciona un número entero: 3\n",
      "¡Bien! Eso sí es un entero.\n",
      "¡Finalmente esto se ejecutó!\n"
     ]
    }
   ],
   "source": [
    "pideentero()"
   ]
  },
  {
   "cell_type": "markdown",
   "metadata": {},
   "source": [
    "Entonces, ¿por qué se imprimió \"¡Finalmente esto se ejecutó!\" después de cada prueba, sin embargo, nunca se imprimió `val` en sí? Esto se debe a que con una cláusula try / except / finally, cualquier declaración de <code> continue </code> o <code> break </code> se reserva hasta *después* de que se complete la cláusula try. Esto significa que aunque una entrada exitosa de ** 3 ** nos llevó al bloque <code> else: </code>, y se lanzó una declaración <code> break </code>, la cláusula try continuó hasta <code> finally: </code> antes de salir del bucle while. Y como <code> print (val) </code> estaba fuera de la cláusula try, la declaración <code> break </code> impidió que se ejecutara.\n",
    "\n",
    "Hagamos un último ajuste."
   ]
  },
  {
   "cell_type": "code",
   "execution_count": 15,
   "metadata": {},
   "outputs": [],
   "source": [
    "def pideentero():\n",
    "    while True:\n",
    "        try:\n",
    "            val = int(input(\"Proporciona un número entero: \"))\n",
    "        except:\n",
    "            print(\"Parece que no se ha ingreso un número entero!\")\n",
    "            continue\n",
    "        else:\n",
    "            print(\"¡Bien! Eso sí es un entero.\")\n",
    "            print(val)\n",
    "            break\n",
    "        finally:\n",
    "            print(\"¡Finalmente esto se ejecutó!\")"
   ]
  },
  {
   "cell_type": "code",
   "execution_count": 17,
   "metadata": {},
   "outputs": [
    {
     "name": "stdout",
     "output_type": "stream",
     "text": [
      "Proporciona un número entero: cinco\n",
      "Parece que no se ha ingreso un número entero!\n",
      "¡Finalmente esto se ejecutó!\n",
      "Proporciona un número entero: cuatro\n",
      "Parece que no se ha ingreso un número entero!\n",
      "¡Finalmente esto se ejecutó!\n",
      "Proporciona un número entero: 3\n",
      "¡Bien! Eso sí es un entero.\n",
      "3\n",
      "¡Finalmente esto se ejecutó!\n"
     ]
    }
   ],
   "source": [
    "pideentero()"
   ]
  },
  {
   "cell_type": "code",
   "execution_count": null,
   "metadata": {},
   "outputs": [],
   "source": []
  }
 ],
 "metadata": {
  "kernelspec": {
   "display_name": "Python 3",
   "language": "python",
   "name": "python3"
  },
  "language_info": {
   "codemirror_mode": {
    "name": "ipython",
    "version": 3
   },
   "file_extension": ".py",
   "mimetype": "text/x-python",
   "name": "python",
   "nbconvert_exporter": "python",
   "pygments_lexer": "ipython3",
   "version": "3.6.5"
  }
 },
 "nbformat": 4,
 "nbformat_minor": 1
}
