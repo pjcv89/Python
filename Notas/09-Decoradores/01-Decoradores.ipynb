{
 "cells": [
  {
   "cell_type": "markdown",
   "metadata": {},
   "source": [
    "## Funciones dentro de funciones\n",
    "\n",
    "Hemos visto que podemos tratar a las funciones como objetos, ahora veamos cómo podemos definir funciones dentro de otras funciones:"
   ]
  },
  {
   "cell_type": "code",
   "execution_count": 6,
   "metadata": {},
   "outputs": [],
   "source": [
    "def hola(name='José'):\n",
    "    print('The hello() function has been executed')\n",
    "    \n",
    "    def saluda():\n",
    "        return '\\t Esto está dentro de la función saluda()'\n",
    "    \n",
    "    def bienvenida():\n",
    "        return \"\\t Esto está dentro de la función bienvenida()\"\n",
    "    \n",
    "    print(saluda())\n",
    "    print(bienvenida())\n",
    "    print(\"Ahora estamos de vuelta dentro de la función hola()\")"
   ]
  },
  {
   "cell_type": "code",
   "execution_count": 2,
   "metadata": {},
   "outputs": [
    {
     "name": "stdout",
     "output_type": "stream",
     "text": [
      "The hello() function has been executed\n",
      "\t Esto está dentro de la función saluda()\n",
      "\t Esto está dentro de la función bienvenida()\n",
      "Ahora estamos de vuelta dentro de la función hola()\n"
     ]
    }
   ],
   "source": [
    "hola()"
   ]
  },
  {
   "cell_type": "markdown",
   "metadata": {},
   "source": [
    "## Regresando funciones\n",
    "\n",
    "Modifiquemos ahora el ejemplo anterior para devolver alguna de las funciones definidas dentro de la función principal."
   ]
  },
  {
   "cell_type": "code",
   "execution_count": 16,
   "metadata": {},
   "outputs": [],
   "source": [
    "def hola(name='José'):\n",
    "    \n",
    "    def saluda():\n",
    "        return '\\t Esto está dentro de la función saluda()'\n",
    "    \n",
    "    def bienvenida():\n",
    "        return \"\\t Esto está dentro de la función bienvenida()\"\n",
    "    \n",
    "    if name == 'José':\n",
    "        return saluda\n",
    "    else:\n",
    "        return bienvenida"
   ]
  },
  {
   "cell_type": "markdown",
   "metadata": {},
   "source": [
    "Ahora veamos qué función se devuelve si configuramos `x = hola() `; observe cómo los paréntesis vacíos significan que el nombre se ha definido como José."
   ]
  },
  {
   "cell_type": "code",
   "execution_count": 17,
   "metadata": {},
   "outputs": [],
   "source": [
    "x = hola()"
   ]
  },
  {
   "cell_type": "code",
   "execution_count": 18,
   "metadata": {},
   "outputs": [
    {
     "data": {
      "text/plain": [
       "<function __main__.hola.<locals>.saluda()>"
      ]
     },
     "execution_count": 18,
     "metadata": {},
     "output_type": "execute_result"
    }
   ],
   "source": [
    "x"
   ]
  },
  {
   "cell_type": "markdown",
   "metadata": {},
   "source": [
    "Ahora podemos ver cómo `x` está apuntando a la función de `saluda` dentro de la función `hola`."
   ]
  },
  {
   "cell_type": "code",
   "execution_count": 19,
   "metadata": {},
   "outputs": [
    {
     "name": "stdout",
     "output_type": "stream",
     "text": [
      "\t Esto está dentro de la función saluda()\n"
     ]
    }
   ],
   "source": [
    "print(x())"
   ]
  },
  {
   "cell_type": "markdown",
   "metadata": {},
   "source": [
    "Echemos un vistazo al código de nuevo.\n",
    "\n",
    "En la cláusula <code> if </code> / <code> else </code> devolveremos <code> saluda </code> y <code> bienvenida </code>, no <code> saluda () <código> ni <code> bienvenida () </code>.\n",
    "\n",
    "Esto se debe a que cuando coloca un par de paréntesis después de él, la función se ejecuta; mientras que si no lo pone entre paréntesis, entonces puede pasarse y asignarse a otras variables sin ejecutarlo.\n",
    "\n",
    "Cuando escribimos <code> x = hola() </code>, hola() se ejecuta y, como el nombre es José por defecto, se devuelve la función <code> saluda </code>. Si cambiamos la declaración a <code> x = hola(name = \"Sam\") </code>, se devolverá la función <code> bienvenida </code>."
   ]
  },
  {
   "cell_type": "markdown",
   "metadata": {},
   "source": [
    "## Funciones como argumentos\n",
    "\n",
    "Ahora veamos cómo podemos pasar funciones como argumentos de otras funciones."
   ]
  },
  {
   "cell_type": "code",
   "execution_count": 20,
   "metadata": {},
   "outputs": [],
   "source": [
    "def hola():\n",
    "    return 'Hola José!'\n",
    "\n",
    "def otra(func):\n",
    "    print('Otro bloque de código iría aquí')\n",
    "    print(func())"
   ]
  },
  {
   "cell_type": "code",
   "execution_count": 21,
   "metadata": {},
   "outputs": [
    {
     "name": "stdout",
     "output_type": "stream",
     "text": [
      "Otro bloque de código iría aquí\n",
      "Hola José!\n"
     ]
    }
   ],
   "source": [
    "otra(hola)"
   ]
  },
  {
   "cell_type": "markdown",
   "metadata": {},
   "source": [
    "Observe cómo podemos pasar las funciones como objetos y luego utilizarlas dentro de otras funciones. Ahora podemos empezar a escribir nuestro primer *decorador*."
   ]
  },
  {
   "cell_type": "markdown",
   "metadata": {},
   "source": [
    "## Creando un decorador\n",
    "\n",
    "En el ejemplo anterior, creamos *manualmente* un decorador. Aquí lo modificaremos para aclarar su caso de uso:"
   ]
  },
  {
   "cell_type": "code",
   "execution_count": 37,
   "metadata": {},
   "outputs": [],
   "source": [
    "def nuevo_decorador(func):\n",
    "\n",
    "    def envolver_func():\n",
    "        print(\"Código que iría antes de ejecutar la función func()\")\n",
    "\n",
    "        func()\n",
    "\n",
    "        print(\"Código que iría después de ejecutar la función func()\")\n",
    "\n",
    "    return envolver_func\n",
    "\n",
    "def func_necesita_decorador():\n",
    "    print(\"Esta función necesita un decorador\")"
   ]
  },
  {
   "cell_type": "code",
   "execution_count": 38,
   "metadata": {},
   "outputs": [
    {
     "name": "stdout",
     "output_type": "stream",
     "text": [
      "Esta función necesita un decorador\n"
     ]
    }
   ],
   "source": [
    "func_necesita_decorador()"
   ]
  },
  {
   "cell_type": "code",
   "execution_count": 39,
   "metadata": {},
   "outputs": [],
   "source": [
    "# Reasignemos la función func_necesita_decorador\n",
    "func_necesita_decorator = nuevo_decorador(func_necesita_decorador)"
   ]
  },
  {
   "cell_type": "code",
   "execution_count": 40,
   "metadata": {},
   "outputs": [
    {
     "name": "stdout",
     "output_type": "stream",
     "text": [
      "Código que iría antes de ejecutar la función func()\n",
      "Esta función necesita un decorador\n",
      "Código que iría después de ejecutar la función func()\n"
     ]
    }
   ],
   "source": [
    "func_necesita_decorator()"
   ]
  },
  {
   "cell_type": "markdown",
   "metadata": {},
   "source": [
    "Entonces, ¿qué acaba de pasar aquí? Un decorador simplemente envolvió la función y modificó su comportamiento. Ahora entendamos cómo podemos reescribir este código usando el símbolo `@`, que es lo que Python usa para los decoradores:"
   ]
  },
  {
   "cell_type": "code",
   "execution_count": 41,
   "metadata": {},
   "outputs": [],
   "source": [
    "@nuevo_decorador\n",
    "def func_necesita_decorator():\n",
    "    print(\"Esta función necesita un decorador\")"
   ]
  },
  {
   "cell_type": "code",
   "execution_count": 43,
   "metadata": {},
   "outputs": [
    {
     "name": "stdout",
     "output_type": "stream",
     "text": [
      "Código que iría antes de ejecutar la función func()\n",
      "Esta función necesita un decorador\n",
      "Código que iría después de ejecutar la función func()\n"
     ]
    }
   ],
   "source": [
    "func_necesita_decorator()"
   ]
  },
  {
   "cell_type": "markdown",
   "metadata": {},
   "source": [
    "En resumen, hemos construido un decorador *manualmente* y luego vimos cómo podemos usar el símbolo `@` en Python para automatizar esto y hacer nuestro código más simple.\n",
    "\n",
    "Un buen post con más información sobre este tema puede consultarse [aquí](https://realpython.com/primer-on-python-decorators/)"
   ]
  }
 ],
 "metadata": {
  "kernelspec": {
   "display_name": "Python 3",
   "language": "python",
   "name": "python3"
  },
  "language_info": {
   "codemirror_mode": {
    "name": "ipython",
    "version": 3
   },
   "file_extension": ".py",
   "mimetype": "text/x-python",
   "name": "python",
   "nbconvert_exporter": "python",
   "pygments_lexer": "ipython3",
   "version": "3.6.5"
  }
 },
 "nbformat": 4,
 "nbformat_minor": 1
}
