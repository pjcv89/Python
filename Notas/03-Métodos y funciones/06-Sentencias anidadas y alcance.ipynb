{
 "cells": [
  {
   "cell_type": "markdown",
   "metadata": {},
   "source": [
    "# Sentencias anidadas y _scope_ (_alcance_) \n",
    "\n",
    "Ahora que hemos visto sobre crear nuestras propias funciones, es importante comprender cómo Python se ocupa de los nombres de variables que asigna. Cuando se crea un nombre de variable en Python, el nombre se almacena en un *name-space* (*nombre-espacio*). Los nombres de variables también tienen un *scope* (*alcance*); el alcance determina la visibilidad y usabilidad de ese nombre de variable en otras partes del código.\n",
    "\n",
    "Emepcemos con un experimento simple. Imaginemos la siguiente situación."
   ]
  },
  {
   "cell_type": "code",
   "execution_count": 1,
   "metadata": {},
   "outputs": [],
   "source": [
    "x = 25\n",
    "\n",
    "def printer():\n",
    "    x = 50\n",
    "    return x\n",
    "\n",
    "# print(x)\n",
    "# print(printer())"
   ]
  },
  {
   "cell_type": "markdown",
   "metadata": {},
   "source": [
    "¿Cuál será el valor de salida de **printer()**? ¿25 o 50? ¿Y cuál será la salida de imprimir simplemente el valor de x? ¿25 o 50?"
   ]
  },
  {
   "cell_type": "code",
   "execution_count": 2,
   "metadata": {},
   "outputs": [
    {
     "name": "stdout",
     "output_type": "stream",
     "text": [
      "25\n"
     ]
    }
   ],
   "source": [
    "print(x)"
   ]
  },
  {
   "cell_type": "code",
   "execution_count": 3,
   "metadata": {},
   "outputs": [
    {
     "name": "stdout",
     "output_type": "stream",
     "text": [
      "50\n"
     ]
    }
   ],
   "source": [
    "print(printer())"
   ]
  },
  {
   "cell_type": "markdown",
   "metadata": {},
   "source": [
    "¿Cómo sabe Python a qué ** x ** te refieres en tu código? Aquí es donde entra la idea del scope (alcance). Python tiene un conjunto de reglas que sigue para decidir a qué variables (como ** x ** en este caso) se está haciendo referencia en el código. Enlistemos estas reglas."
   ]
  },
  {
   "cell_type": "markdown",
   "metadata": {
    "collapsed": true
   },
   "source": [
    "Esta idea de scope en tu código es muy importante de entender para poder asignar y llamar correctamente a los nombres de variables.\n",
    "\n",
    "A grandes rasgos, la idea de scope se puede describir mediante 2 reglas generales:\n",
    "\n",
    "1. Las asignaciones de nombres crearán o cambiarán los nombres locales de forma predeterminada.\n",
    "2. Las referencias a los nombres, se buscan hasta en cuatro posibles alcances, estos son:\n",
    "    * locales\n",
    "    * funciones adjuntas (enclosing functions)\n",
    "    * globales\n",
    "    * nativas\n",
    "\n",
    "Lo dicho anteriormente en el punto #2 puede ser descrito por la llamada regla LEGB.\n",
    "\n",
    "**Regla LEGB:**\n",
    "\n",
    "L: Locales — Nombres asignados de cualquier manera dentro de una función (ya sea **def** o expresión lambda).\n",
    "\n",
    "E: Funciones encerradas (enclosing functions) — Nombres en el alcance local de todas y cada una de las funciones (ya sea **def** o expresión lambda), desde el interior al exterior.\n",
    "\n",
    "G: Globales  — Los nombres asignados en el nivel superior de un archivo de Python, o declaradas como globales en una sentencia dentro del archivo.\n",
    "\n",
    "B: Nativas (Ya incluidas por default en Python) — Nombres ya asignados en Python: open, range, SyntaxError, etc."
   ]
  },
  {
   "cell_type": "markdown",
   "metadata": {},
   "source": [
    "## Ejemplos rápidos de la regla LEGB\n",
    "\n",
    "### Locales"
   ]
  },
  {
   "cell_type": "code",
   "execution_count": 4,
   "metadata": {},
   "outputs": [],
   "source": [
    "# Aquí, x es local:\n",
    "f = lambda x:x**2"
   ]
  },
  {
   "cell_type": "markdown",
   "metadata": {},
   "source": [
    "### Funciones encerradas\n",
    "Esto ocurre cuando tenemos una función dentro de una función (funciones anidadas).\n"
   ]
  },
  {
   "cell_type": "code",
   "execution_count": 5,
   "metadata": {},
   "outputs": [
    {
     "name": "stdout",
     "output_type": "stream",
     "text": [
      "Hola Sammy\n"
     ]
    }
   ],
   "source": [
    "nombre = 'Esto es un nombre global'\n",
    "\n",
    "def saludo():\n",
    "    # Función encerrada\n",
    "    nombre = 'David'\n",
    "    \n",
    "    def hola():\n",
    "        print('Hola '+nombre)\n",
    "    \n",
    "    hola()\n",
    "\n",
    "greet()"
   ]
  },
  {
   "cell_type": "markdown",
   "metadata": {},
   "source": [
    "Notemos cómo se usó el nombre \"David\", porque la función hola() está encerrada dentro de la función saludo()."
   ]
  },
  {
   "cell_type": "markdown",
   "metadata": {},
   "source": [
    "### Global\n",
    "\n",
    "En Jupyter, podemos realizar una prueba rápida para variables globales para ver si en una celda podemos reconocer la variable. Por ejemplo:"
   ]
  },
  {
   "cell_type": "code",
   "execution_count": 8,
   "metadata": {},
   "outputs": [
    {
     "name": "stdout",
     "output_type": "stream",
     "text": [
      "Esto es un nombre global\n"
     ]
    }
   ],
   "source": [
    "print(nombre)"
   ]
  },
  {
   "cell_type": "markdown",
   "metadata": {},
   "source": [
    "### Built-in (nativas)\n",
    "Estas son los nombres de funciones que ya vienen por default en Python. No podemos reescribirlas. Por ejemplo, la función **len**."
   ]
  },
  {
   "cell_type": "code",
   "execution_count": 9,
   "metadata": {},
   "outputs": [
    {
     "data": {
      "text/plain": [
       "<function len(obj, /)>"
      ]
     },
     "execution_count": 9,
     "metadata": {},
     "output_type": "execute_result"
    }
   ],
   "source": [
    "len"
   ]
  },
  {
   "cell_type": "markdown",
   "metadata": {},
   "source": [
    "## Local Variables\n",
    "\n",
    "Cuando declaramos variables dentro de una definición de función, éstas no están relacionadas de ninguna manera con otras variables con los mismos nombres que se usan fuera de la función. Es decir, los nombres de las variables son locales a la función. Esto es a lo que se refiere el alcance (o ámbito) de la variable. Todas las variables tienen el alcance del bloque en el que se declaran.\n",
    "\n",
    "Ejemplo:"
   ]
  },
  {
   "cell_type": "code",
   "execution_count": 10,
   "metadata": {},
   "outputs": [
    {
     "name": "stdout",
     "output_type": "stream",
     "text": [
      "x es 50\n",
      "Cambiamos a x local 2\n",
      "x sigue siendo 50\n"
     ]
    }
   ],
   "source": [
    "x = 50\n",
    "\n",
    "def func(x):\n",
    "    print('x es', x)\n",
    "    x = 2\n",
    "    print('Cambiamos a x local', x)\n",
    "\n",
    "func(x)\n",
    "print('x sigue siendo', x)"
   ]
  },
  {
   "cell_type": "markdown",
   "metadata": {},
   "source": [
    "La primera vez que imprimimos el valor de **x** con la primera línea en el cuerpo de la función, Python usa el valor del parámetro declarado antes, arriba de la definición de la función.\n",
    "\n",
    "Después de la primera impresión, asignamos el valor de 2 a **x**. En este punto, el nombre **x** es ahora local a nuestra función. Así que cuando dentro de la función cambiamos el valor de **x**, el nombre **x** fuera de la función definido arriba anteriormente, permanece inalterado. \n",
    "\n",
    "Con la última sentencia de impresión en la celda, desplegamos el valor de **x** definido en el bloque principal (fuera de la función), con lo cual podemos comprobar que el valor de **x** es el mismo que el definido en el bloque principal y no el definido localmente dentro de la función.\n",
    "\n",
    "\n",
    "## La sentencia <code>global</code> \n",
    "\n",
    "Si deseamos asignar un valor a un nombre definido en el nivel superior del programa (es decir, no dentro de ninguna función), debemos decirle a Python que el nombre es *global*. Hacemos esto usando la declaración <code> global </code>. Es imposible asignar un valor a una variable definida fuera de una función sin la declaración global.\n",
    "\n",
    "Podemos usar los valores de tales variables definidas fuera de la función (asumiendo que no hay ninguna variable con el mismo nombre dentro de la función). Sin embargo, esto no es recomendable y debe evitarse ya que no queda claro para el lector del programa dónde se encuentra la definición de esa variable. De esta forma, el uso de la declaración <code> global </code> deja bastante claro que la variable está definida en un bloque más externo."
   ]
  },
  {
   "cell_type": "code",
   "execution_count": 4,
   "metadata": {},
   "outputs": [
    {
     "name": "stdout",
     "output_type": "stream",
     "text": [
      "Antes de llamar la función func(), x es:  50\n",
      "Esta función esta usando x global!\n",
      "Entonces x global es:  50\n",
      "Se ha corrido la función func(), se ha cambiado x global a  2\n",
      "Ahora el valor de x (fuera de la función func()) es:  2\n"
     ]
    }
   ],
   "source": [
    "x = 50\n",
    "\n",
    "def func():\n",
    "    global x\n",
    "    print('Esta función esta usando x global!')\n",
    "    print('Entonces x global es: ', x)\n",
    "    x = 2\n",
    "    print('Se ha corrido la función func(), se ha cambiado x global a ', x)\n",
    "\n",
    "print('Antes de llamar la función func(), x es: ', x)\n",
    "func()\n",
    "print('Ahora el valor de x (fuera de la función func()) es: ', x)"
   ]
  },
  {
   "cell_type": "markdown",
   "metadata": {
    "collapsed": true
   },
   "source": [
    "La declaración <code> global </code> se usa para declarar que ** x ** es una variable global, por lo tanto, cuando asignamos un valor a ** x ** dentro de la función, ese cambio se refleja cuando usamos el valor de ** x ** en el bloque principal (fuera de la función).\n",
    "\n",
    "Puede especificars más de una variable como globales, por ejemplo:<code>global x, y, z</code>."
   ]
  },
  {
   "cell_type": "markdown",
   "metadata": {
    "collapsed": true
   },
   "source": [
    "## Conclusión\n",
    "\n",
    "Otra cosa a tener en cuenta es que todo en Python es un objeto. Se pueden asignar variables a funciones de la misma forma que a por ejemplo, números o cadenas."
   ]
  },
  {
   "cell_type": "code",
   "execution_count": null,
   "metadata": {},
   "outputs": [],
   "source": []
  }
 ],
 "metadata": {
  "kernelspec": {
   "display_name": "Python 3",
   "language": "python",
   "name": "python3"
  },
  "language_info": {
   "codemirror_mode": {
    "name": "ipython",
    "version": 3
   },
   "file_extension": ".py",
   "mimetype": "text/x-python",
   "name": "python",
   "nbconvert_exporter": "python",
   "pygments_lexer": "ipython3",
   "version": "3.6.5"
  }
 },
 "nbformat": 4,
 "nbformat_minor": 1
}
