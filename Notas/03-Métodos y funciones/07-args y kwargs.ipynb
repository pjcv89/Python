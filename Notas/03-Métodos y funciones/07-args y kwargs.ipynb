{
 "cells": [
  {
   "cell_type": "markdown",
   "metadata": {},
   "source": [
    "# `*args` y `**kwargs`\n",
    "\n",
    "Basta con trabajar con Python el tiempo suficiente, y eventualmente encontraremos alguna función con argumentos <code>args</code> y  <code>kwargs</code>. Estos términos extraños aparecen como parámetros en las definiciones de algunas funciones. En esta nota veremos de qué se trata."
   ]
  },
  {
   "cell_type": "code",
   "execution_count": 2,
   "metadata": {},
   "outputs": [
    {
     "data": {
      "text/plain": [
       "5.0"
      ]
     },
     "execution_count": 2,
     "metadata": {},
     "output_type": "execute_result"
    }
   ],
   "source": [
    "def mi_funcion(a,b):\n",
    "    return sum((a,b))*.05\n",
    "\n",
    "mi_funcion(40,60)"
   ]
  },
  {
   "cell_type": "markdown",
   "metadata": {},
   "source": [
    "Esta función devuelve el 5% de la suma de ** a ** y ** b **.\n",
    "En este ejemplo, ** a ** y ** b ** son * argumentos posicionales *; es decir, 40 se asigna a ** a ** porque es el primer argumento, y 60 a ** b **. Note también que para trabajar con múltiples argumentos posicionales en la función `sum ()` tuvimos que pasarlos como una tupla.\n",
    "\n",
    "¿Pero q  ué pasa si queremos trabajar con más de dos números? Una forma sería asignar *muchos* parámetros y dar a cada uno un valor predeterminado."
   ]
  },
  {
   "cell_type": "code",
   "execution_count": 3,
   "metadata": {},
   "outputs": [
    {
     "data": {
      "text/plain": [
       "6.0"
      ]
     },
     "execution_count": 3,
     "metadata": {},
     "output_type": "execute_result"
    }
   ],
   "source": [
    "def mi_funcion(a=0,b=0,c=0,d=0,e=0):\n",
    "    return sum((a,b,c,d,e))*.05\n",
    "\n",
    "mi_funcion(40,60,20)"
   ]
  },
  {
   "cell_type": "markdown",
   "metadata": {},
   "source": [
    "Obviamente, esta no es una solución muy eficiente, y ahí es donde entra `args`.\n",
    "\n",
    "## `*args`\n",
    "\n",
    "Cuando un parámetro de función comienza con un asterisco, permite un **número arbitrario de argumentos**, y la función los toma como una tupla de valores. Reescribiendo la función anterior pero ahora usando `*args`:"
   ]
  },
  {
   "cell_type": "code",
   "execution_count": 4,
   "metadata": {},
   "outputs": [
    {
     "data": {
      "text/plain": [
       "6.0"
      ]
     },
     "execution_count": 4,
     "metadata": {},
     "output_type": "execute_result"
    }
   ],
   "source": [
    "def mi_funcion(*args):\n",
    "    return sum(args)*.05\n",
    "\n",
    "mi_funcion(40,60,20)"
   ]
  },
  {
   "cell_type": "markdown",
   "metadata": {},
   "source": [
    "Obsérvese cómo pasar la palabra clave \"args\" a la función `sum ()` hizo lo mismo que una tupla de argumentos.\n",
    "\n",
    "Vale la pena señalar que la palabra \"args\" es en sí misma arbitraria; cualquier palabra lo hará siempre y cuando esté precedida por un asterisco. Para demostrar esto veamos el siguiente ejemplo:"
   ]
  },
  {
   "cell_type": "code",
   "execution_count": 5,
   "metadata": {},
   "outputs": [
    {
     "data": {
      "text/plain": [
       "6.0"
      ]
     },
     "execution_count": 5,
     "metadata": {},
     "output_type": "execute_result"
    }
   ],
   "source": [
    "def mi_funcion(*spam):\n",
    "    return sum(spam)*.05\n",
    "\n",
    "mi_funcion(40,60,20)"
   ]
  },
  {
   "cell_type": "markdown",
   "metadata": {},
   "source": [
    "## `**kwargs`\n",
    "\n",
    "De manera similar, Python ofrece una forma de manejar números arbitrarios de argumentos *con palabra clave*. En lugar de crear una tupla de valores, `** kwargs` construye un diccionario de parejas llave/valor. Por ejemplo:"
   ]
  },
  {
   "cell_type": "code",
   "execution_count": 17,
   "metadata": {},
   "outputs": [
    {
     "name": "stdout",
     "output_type": "stream",
     "text": [
      "Mi fruta favorita es piña\n"
     ]
    }
   ],
   "source": [
    "def mi_funcion(**kwargs):\n",
    "    if 'fruta' in kwargs:\n",
    "        print(f\"Mi fruta favorita es {kwargs['fruta']}\")  # review String Formatting and f-strings if this syntax is unfamiliar\n",
    "    else:\n",
    "        print(\"No me gusta la fruta\")\n",
    "        \n",
    "mi_funcion(fruta='piña')"
   ]
  },
  {
   "cell_type": "code",
   "execution_count": 18,
   "metadata": {},
   "outputs": [
    {
     "name": "stdout",
     "output_type": "stream",
     "text": [
      "No me gusta la fruta\n"
     ]
    }
   ],
   "source": [
    "mi_funcion()"
   ]
  },
  {
   "cell_type": "markdown",
   "metadata": {},
   "source": [
    "## `*args` y `**kwargs` combinado\n",
    "\n",
    "Podemos pasar `* args` y` ** kwargs` en la misma función, pero `* args` debe aparecer antes de` ** kwargs`."
   ]
  },
  {
   "cell_type": "code",
   "execution_count": 29,
   "metadata": {},
   "outputs": [
    {
     "name": "stdout",
     "output_type": "stream",
     "text": [
      "Me gusta huevos y pan. Además mi fruta favorita es fresas\n",
      "Puedo pedir un poco de juego de naranja?\n",
      "Me gusta huevos y pan y hotcakes. Además mi fruta favorita es fresas\n",
      "Puedo pedir un poco de juego de naranja?\n"
     ]
    }
   ],
   "source": [
    "def mi_funcion(*args, **kwargs):\n",
    "    if 'fruta' and 'jugo' in kwargs:\n",
    "        print(f\"Me gusta {' y '.join(args)}. Además mi fruta favorita es {kwargs['fruta']}\")\n",
    "        print(f\"Puedo pedir un poco de juego de {kwargs['jugo']}?\")\n",
    "    else:\n",
    "        pass\n",
    "        \n",
    "mi_funcion('huevos','pan',fruta='fresas',jugo='naranja')\n",
    "\n",
    "mi_funcion('huevos','pan','hotcakes',fruta='fresas',jugo='naranja')"
   ]
  },
  {
   "cell_type": "markdown",
   "metadata": {},
   "source": [
    "Nota rápida: \n",
    "Colocar los argumentos con palabras clave **kwargs** antes de los argumentos posicionales **args** genera un error de sintaxis:"
   ]
  },
  {
   "cell_type": "code",
   "execution_count": 30,
   "metadata": {},
   "outputs": [
    {
     "ename": "SyntaxError",
     "evalue": "positional argument follows keyword argument (<ipython-input-30-03235d064dc6>, line 1)",
     "output_type": "error",
     "traceback": [
      "\u001b[0;36m  File \u001b[0;32m\"<ipython-input-30-03235d064dc6>\"\u001b[0;36m, line \u001b[0;32m1\u001b[0m\n\u001b[0;31m    mi_funcion(fruta='fresas',jugo='naranja','huevos','pan')\u001b[0m\n\u001b[0m                                            ^\u001b[0m\n\u001b[0;31mSyntaxError\u001b[0m\u001b[0;31m:\u001b[0m positional argument follows keyword argument\n"
     ]
    }
   ],
   "source": [
    "mi_funcion(fruta='fresas',jugo='naranja','huevos','pan')"
   ]
  },
  {
   "cell_type": "markdown",
   "metadata": {},
   "source": [
    "Al igual que con **args**, podemos usar cualquier nombre que deseemos para los argumentos con palabras clave: **kwargs** es solo una convención popular."
   ]
  }
 ],
 "metadata": {
  "kernelspec": {
   "display_name": "Python 3",
   "language": "python",
   "name": "python3"
  },
  "language_info": {
   "codemirror_mode": {
    "name": "ipython",
    "version": 3
   },
   "file_extension": ".py",
   "mimetype": "text/x-python",
   "name": "python",
   "nbconvert_exporter": "python",
   "pygments_lexer": "ipython3",
   "version": "3.6.5"
  }
 },
 "nbformat": 4,
 "nbformat_minor": 2
}
