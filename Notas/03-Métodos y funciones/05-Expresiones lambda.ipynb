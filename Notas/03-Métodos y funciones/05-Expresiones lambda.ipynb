{
 "cells": [
  {
   "cell_type": "markdown",
   "metadata": {},
   "source": [
    "# Expresiones Lambda, Map, Filter\n",
    "\n",
    "Ahora veremos un poco sobre dos funciones muy útiles ya incorporadas (nativas) en Python: <code> map </code> y <code> filter </code>. Después veremos un poco sobre expresiones **lambda**."
   ]
  },
  {
   "cell_type": "markdown",
   "metadata": {},
   "source": [
    "## map\n",
    "\n",
    "La función **map** permite aplicar una función a un objeto que es iterable. Es decir, permite llamar y aplicar una misma función a cada elemento de un objeto iterable, por ejemplo, una lista. Veamos unos ejemplos."
   ]
  },
  {
   "cell_type": "code",
   "execution_count": 5,
   "metadata": {},
   "outputs": [],
   "source": [
    "# Elevar un número al cuadrado\n",
    "def cuadrado(numero):\n",
    "    '''\n",
    "    Funcion simple para calcular el cuadrado de un numero\n",
    "    '''\n",
    "    return numero**2"
   ]
  },
  {
   "cell_type": "code",
   "execution_count": 3,
   "metadata": {},
   "outputs": [],
   "source": [
    "# Hagamos una pequeña lista\n",
    "mis_numeros = [1,2,3,4,5]"
   ]
  },
  {
   "cell_type": "code",
   "execution_count": 6,
   "metadata": {},
   "outputs": [
    {
     "name": "stdout",
     "output_type": "stream",
     "text": [
      "Help on class map in module builtins:\n",
      "\n",
      "class map(object)\n",
      " |  map(func, *iterables) --> map object\n",
      " |  \n",
      " |  Make an iterator that computes the function using arguments from\n",
      " |  each of the iterables.  Stops when the shortest iterable is exhausted.\n",
      " |  \n",
      " |  Methods defined here:\n",
      " |  \n",
      " |  __getattribute__(self, name, /)\n",
      " |      Return getattr(self, name).\n",
      " |  \n",
      " |  __iter__(self, /)\n",
      " |      Implement iter(self).\n",
      " |  \n",
      " |  __new__(*args, **kwargs) from builtins.type\n",
      " |      Create and return a new object.  See help(type) for accurate signature.\n",
      " |  \n",
      " |  __next__(self, /)\n",
      " |      Implement next(self).\n",
      " |  \n",
      " |  __reduce__(...)\n",
      " |      Return state information for pickling.\n",
      "\n"
     ]
    }
   ],
   "source": [
    "# Podemos consultar la ayuda de la función map\n",
    "help(map)"
   ]
  },
  {
   "cell_type": "markdown",
   "metadata": {},
   "source": [
    "El primer argumento de **map** es la función que deseamos aplicar, y el segundo argumento es el obeto iterable al que aplicaremos esa función."
   ]
  },
  {
   "cell_type": "code",
   "execution_count": 5,
   "metadata": {},
   "outputs": [
    {
     "data": {
      "text/plain": [
       "<map at 0x205baec21d0>"
      ]
     },
     "execution_count": 5,
     "metadata": {},
     "output_type": "execute_result"
    }
   ],
   "source": [
    "# La función map es un generador\n",
    "map(cuadrado,mis_numeros)"
   ]
  },
  {
   "cell_type": "code",
   "execution_count": 4,
   "metadata": {},
   "outputs": [
    {
     "data": {
      "text/plain": [
       "[1, 4, 9, 16, 25]"
      ]
     },
     "execution_count": 4,
     "metadata": {},
     "output_type": "execute_result"
    }
   ],
   "source": [
    "# Para obtener los resultados de aplicar map, podemos convertir a una lista\n",
    "# mediante la función list()\n",
    "list(map(cuadrado,mis_numeros))"
   ]
  },
  {
   "cell_type": "markdown",
   "metadata": {},
   "source": [
    "Podemos armar funciones un poco más complejas"
   ]
  },
  {
   "cell_type": "code",
   "execution_count": 13,
   "metadata": {},
   "outputs": [],
   "source": [
    "# Hagamos una función que nos devuelva 'Par' si la cadena que pasamos de argumento tiene número\n",
    "# de caracteres par, o 'Impar' en otro caso.\n",
    "\n",
    "def verifica(cadena):\n",
    "    if len(cadena) % 2 == 0:\n",
    "        return 'Par'\n",
    "    else:\n",
    "        return 'Impar'"
   ]
  },
  {
   "cell_type": "code",
   "execution_count": 14,
   "metadata": {},
   "outputs": [],
   "source": [
    "mis_cadenas = ['Juan','Cindy','Sarah','Kelly','Miguel']"
   ]
  },
  {
   "cell_type": "code",
   "execution_count": 16,
   "metadata": {},
   "outputs": [
    {
     "data": {
      "text/plain": [
       "['Par', 'Impar', 'Impar', 'Impar', 'Par']"
      ]
     },
     "execution_count": 16,
     "metadata": {},
     "output_type": "execute_result"
    }
   ],
   "source": [
    "list(map(verifica,mis_cadenas))"
   ]
  },
  {
   "cell_type": "markdown",
   "metadata": {},
   "source": [
    "## filter\n",
    "\n",
    "La función **filter** (_filtrar_) recibe un objeto iterable y devuelve también un objeto iterable, en donde se encuentran aquellos elementos del objeto iterable original para los cuales la función que pasamos como argumento es verdadera.\n",
    "\n",
    "Es decir, necesitamos pasar como argumento una función que devuelve un booleano: verdadero o falso. Con **filter**, aplicamos esa función a un objeto iterable y obtendremos un objeto iterable que contiene los elementos para los cuales la función devolvió el valor de verdadero."
   ]
  },
  {
   "cell_type": "markdown",
   "metadata": {},
   "source": [
    "De manera similar a **map**, el primer argumento de **filter** es la función que deseamos aplicar, y el segundo argumento es el obeto iterable al que aplicaremos el filtro."
   ]
  },
  {
   "cell_type": "code",
   "execution_count": 17,
   "metadata": {},
   "outputs": [],
   "source": [
    "def verifica_par(numero):\n",
    "    return numero % 2 == 0 "
   ]
  },
  {
   "cell_type": "code",
   "execution_count": 18,
   "metadata": {},
   "outputs": [],
   "source": [
    "mis_numeros = [0,1,2,3,4,5,6,7,8,9,10]"
   ]
  },
  {
   "cell_type": "code",
   "execution_count": 21,
   "metadata": {},
   "outputs": [
    {
     "data": {
      "text/plain": [
       "<filter at 0x10efc0438>"
      ]
     },
     "execution_count": 21,
     "metadata": {},
     "output_type": "execute_result"
    }
   ],
   "source": [
    "# La función filter ambién es un generador\n",
    "filter(verifica_par,mis_numeros)"
   ]
  },
  {
   "cell_type": "code",
   "execution_count": 19,
   "metadata": {},
   "outputs": [
    {
     "data": {
      "text/plain": [
       "[0, 2, 4, 6, 8, 10]"
      ]
     },
     "execution_count": 19,
     "metadata": {},
     "output_type": "execute_result"
    }
   ],
   "source": [
    "list(filter(verifica_par,mis_numeros))"
   ]
  },
  {
   "cell_type": "markdown",
   "metadata": {
    "collapsed": true
   },
   "source": [
    "## Expresiones **lambda**\n",
    "\n",
    "Una de las herramientas más poderosas de Python son las expresiones **lambda**. Estas expresiones nos permiten crear funciones _anónimas_; esto sifnifica que podemos crear y aplicar funciones de forma rápida, posiblemente en una sola línea de código, sin la necesidad de usar la sentencia **def** que vimos en notas anteriores.\n",
    "\n",
    "Los objetos que son devueltos ejecutando expresiones lambda funcionan exactamente igual que los creados mediante **def**. Sin embargo, hay una diferencia importante que hace que las expresiones lambda sean útiles en roles especializados:\n",
    "\n",
    "**Las funciones lambda se componenen de una sola sentencia, no de un bloque de sentencias **.\n",
    "\n",
    "* El cuerpo de la expresión lambda es similar a lo que pondríamos en la declaración de una función escrita con **def**. Simplemente escribimos el resultado que deseamos como una expresión en lugar de devolverlo explícitamente. Debido a que se limita a una sola expresión, una expresión lambda es menos general que una función escrita con def. Las expresiones lambda está diseñada para codificar funciones simples, mientras que **def** está diseñado para tareas más grandes."
   ]
  },
  {
   "cell_type": "markdown",
   "metadata": {},
   "source": [
    "Veamos un ejemplo de como expresa una función que escribimos antes, pero ahora como una expresión lambda."
   ]
  },
  {
   "cell_type": "code",
   "execution_count": 22,
   "metadata": {},
   "outputs": [],
   "source": [
    "def cuadrado(numero):\n",
    "    resultado = numero**2\n",
    "    return resultado"
   ]
  },
  {
   "cell_type": "code",
   "execution_count": 23,
   "metadata": {},
   "outputs": [
    {
     "data": {
      "text/plain": [
       "4"
      ]
     },
     "execution_count": 23,
     "metadata": {},
     "output_type": "execute_result"
    }
   ],
   "source": [
    "cuadrado(2)"
   ]
  },
  {
   "cell_type": "markdown",
   "metadata": {},
   "source": [
    "Simplifiquemos devolviendo el resultado deseado directamente."
   ]
  },
  {
   "cell_type": "code",
   "execution_count": 24,
   "metadata": {},
   "outputs": [],
   "source": [
    "def cuadrado(numero):\n",
    "    return numero**2"
   ]
  },
  {
   "cell_type": "code",
   "execution_count": 25,
   "metadata": {},
   "outputs": [
    {
     "data": {
      "text/plain": [
       "4"
      ]
     },
     "execution_count": 25,
     "metadata": {},
     "output_type": "execute_result"
    }
   ],
   "source": [
    "cuadrado(2)"
   ]
  },
  {
   "cell_type": "markdown",
   "metadata": {},
   "source": [
    "Escribamos esto mismo en una línea."
   ]
  },
  {
   "cell_type": "code",
   "execution_count": 26,
   "metadata": {},
   "outputs": [],
   "source": [
    "def cuadrado(numero): return numero**2"
   ]
  },
  {
   "cell_type": "code",
   "execution_count": 27,
   "metadata": {},
   "outputs": [
    {
     "data": {
      "text/plain": [
       "4"
      ]
     },
     "execution_count": 27,
     "metadata": {},
     "output_type": "execute_result"
    }
   ],
   "source": [
    "cuadrado(2)"
   ]
  },
  {
   "cell_type": "markdown",
   "metadata": {},
   "source": [
    "Esta última expresión tiene la forma para las cuales las expresiones lambda están diseñadas. Una expresión lambda, por lo tanto, puede ser escrita así:"
   ]
  },
  {
   "cell_type": "code",
   "execution_count": 31,
   "metadata": {},
   "outputs": [
    {
     "data": {
      "text/plain": [
       "<function __main__.<lambda>(numero)>"
      ]
     },
     "execution_count": 31,
     "metadata": {},
     "output_type": "execute_result"
    }
   ],
   "source": [
    "lambda numero: numero ** 2"
   ]
  },
  {
   "cell_type": "code",
   "execution_count": 33,
   "metadata": {},
   "outputs": [
    {
     "name": "stdout",
     "output_type": "stream",
     "text": [
      "<class 'function'>\n"
     ]
    }
   ],
   "source": [
    "# Consultemos el tipo de objeto de la expresión anterior: es una función\n",
    "print(type(lambda numero: numero ** 2))"
   ]
  },
  {
   "cell_type": "markdown",
   "metadata": {},
   "source": [
    "So why would use this? Many function calls need a function passed in, such as map and filter. Often you only need to use the function you are passing in once, so instead of formally defining it, you just use the lambda expression. Let's repeat some of the examples from above with a lambda expression\n",
    "\n",
    "Entonces, ¿por qué usamos expresiones lambda? Muchas llamadas de función necesitan una función, como **map** y **filter** que acabamos de ver antes. Frecuentemente solo necesitamos usar una vez la función que queremos aplicar a un objeto iterable, así que en lugar de definirla formalmente, solo usamos las expresión lambda. Repitamos algunos de los ejemplos de arriba, ahora utilizando expresiones lambda."
   ]
  },
  {
   "cell_type": "code",
   "execution_count": 34,
   "metadata": {},
   "outputs": [
    {
     "data": {
      "text/plain": [
       "[0, 1, 4, 9, 16, 25, 36, 49, 64, 81, 100]"
      ]
     },
     "execution_count": 34,
     "metadata": {},
     "output_type": "execute_result"
    }
   ],
   "source": [
    "list(map(lambda numero: numero ** 2, mis_numeros))"
   ]
  },
  {
   "cell_type": "code",
   "execution_count": 35,
   "metadata": {},
   "outputs": [
    {
     "data": {
      "text/plain": [
       "[0, 2, 4, 6, 8, 10]"
      ]
     },
     "execution_count": 35,
     "metadata": {},
     "output_type": "execute_result"
    }
   ],
   "source": [
    "list(filter(lambda n: n % 2 == 0,mis_numeros))"
   ]
  },
  {
   "cell_type": "markdown",
   "metadata": {},
   "source": [
    "Debemos tener en cuenta que mientras más se complica una función, más difícil es traducirla a una expresión lambda, lo que significa que a veces es más fácil (y a veces la única forma) crear la función con la declaración def."
   ]
  },
  {
   "cell_type": "markdown",
   "metadata": {},
   "source": [
    "** Expresión lambda para recuperar el primer elemento de una cadena: **"
   ]
  },
  {
   "cell_type": "code",
   "execution_count": 31,
   "metadata": {},
   "outputs": [
    {
     "data": {
      "text/plain": [
       "<function __main__.<lambda>>"
      ]
     },
     "execution_count": 31,
     "metadata": {},
     "output_type": "execute_result"
    }
   ],
   "source": [
    "lambda s: s[0]"
   ]
  },
  {
   "cell_type": "markdown",
   "metadata": {},
   "source": [
    "** Expresión lambda para acomodar de reversa los elementos de una cadena: **"
   ]
  },
  {
   "cell_type": "code",
   "execution_count": 32,
   "metadata": {},
   "outputs": [
    {
     "data": {
      "text/plain": [
       "<function __main__.<lambda>>"
      ]
     },
     "execution_count": 32,
     "metadata": {},
     "output_type": "execute_result"
    }
   ],
   "source": [
    "lambda s: s[::-1]"
   ]
  },
  {
   "cell_type": "markdown",
   "metadata": {},
   "source": [
    "Incluso podemos pasar múltiples argumentos a una expresión lambda. Veamos el ejemplo de adición de dos números."
   ]
  },
  {
   "cell_type": "code",
   "execution_count": 36,
   "metadata": {},
   "outputs": [
    {
     "data": {
      "text/plain": [
       "<function __main__.<lambda>(x, y)>"
      ]
     },
     "execution_count": 36,
     "metadata": {},
     "output_type": "execute_result"
    }
   ],
   "source": [
    "lambda x,y : x + y"
   ]
  },
  {
   "cell_type": "code",
   "execution_count": 43,
   "metadata": {},
   "outputs": [
    {
     "data": {
      "text/plain": [
       "[0, 2, 4, 6, 8, 10, 12, 14, 16, 18]"
      ]
     },
     "execution_count": 43,
     "metadata": {},
     "output_type": "execute_result"
    }
   ],
   "source": [
    "list(map(lambda x,y: x+y, range(0,10), range(0,10)))"
   ]
  }
 ],
 "metadata": {
  "kernelspec": {
   "display_name": "Python 3",
   "language": "python",
   "name": "python3"
  },
  "language_info": {
   "codemirror_mode": {
    "name": "ipython",
    "version": 3
   },
   "file_extension": ".py",
   "mimetype": "text/x-python",
   "name": "python",
   "nbconvert_exporter": "python",
   "pygments_lexer": "ipython3",
   "version": "3.6.5"
  }
 },
 "nbformat": 4,
 "nbformat_minor": 2
}
