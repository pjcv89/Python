{
 "cells": [
  {
   "cell_type": "markdown",
   "metadata": {},
   "source": [
    "# Funciones\n",
    "\n",
    "## Introducción a funciones\n",
    "\n",
    "En esta nota veremos qué es una función en Python y cómo crear una. Las funciones serán uno de nuestros bloques  principales cuando construyamos cantidades cada vez mayores de código para resolver problemas.\n",
    "\n",
    "**¿Qué es una función?**\n",
    "\n",
    "Formalmente, una función es un artefacto útil que agrupa un conjunto de sentencias para que puedan ejecutarse las veces que quereamos o sean necesarias. También pueden permitirnos especificar argumentos o parámetros que pueden servir como entradas para las funciones.\n",
    "\n",
    "En un nivel más fundamental, las funciones nos permiten no tener que escribir repetidamente el mismo código una y otra vez. Si por ejemplo, recuerdas las notas sobre cadenas y listas, recuerde que usamos una función len() para obtener la longitud de una cadena. Dado que verificar la longitud de una secuencia es una tarea común, nos interesa tener una función que pueda hacer esto repetidamente con un solo comando.\n",
    "\n",
    "Las funciones serán uno de pilares para la reutilización de código en Python, y también nos permitirán comenzar a pensar en diseño de programas, en lo cual profundizaremos al hablar de POO."
   ]
  },
  {
   "cell_type": "markdown",
   "metadata": {},
   "source": [
    "## Sentencias _def_\n",
    "\n",
    "Veamos cómo construir la sintaxis de una función en Python. Tiene la siguiente forma:"
   ]
  },
  {
   "cell_type": "code",
   "execution_count": 1,
   "metadata": {},
   "outputs": [],
   "source": [
    "def nombre_de_funcion(argumento1,argumento2):\n",
    "    '''\n",
    "    Aquí es donde escribimos documentación sobre la función que escribimos\n",
    "    '''\n",
    "    # Sentencias de código a ejecutar\n",
    "    # Devolver resultado deseado"
   ]
  },
  {
   "cell_type": "markdown",
   "metadata": {},
   "source": [
    "Comenzamos con <code> def </code>, luego un espacio seguido del nombre de la función. Es buena práctica ponerle nombres con sentido a las funciones, por ejemplo, len () es un buen nombre para obtener length() (_longitud_).\n",
    "\n",
    "Después,ponemos entre parántesis el nombre de los argumentos que deseamos que posea nuestra función, separados por comas. Después, ponemos dos puntos <code> : </code> y presionamos la tecla Intro para saltar de línea y notaremos que nos ubica a un Tab de distancia, para respetar la indentación que Python nos exige.\n",
    "\n",
    "Después lo que sigue es el llamado _docstring_ (cadenas de caracteres para documentación), en donde (opcionalmente) podemos escribir una descripción básica de nuestra función. Esta documentación que escribamos nos aparecerá al llamar la función <code> help </code> sobre nuestro objeto que es una función, como vimos en la nota anterior.\n",
    "\n",
    "Finalmente, después de esto, podemos empezar a escribir las sentencias de nuestra función.\n",
    "\n",
    "Como siempre, la mejor forma de aprender será al practicar mediante ejemplos."
   ]
  },
  {
   "cell_type": "markdown",
   "metadata": {},
   "source": [
    "### Ejemplo 1: Función sin argumentos"
   ]
  },
  {
   "cell_type": "code",
   "execution_count": 3,
   "metadata": {},
   "outputs": [],
   "source": [
    "def imprime_hola():\n",
    "    print('hola')"
   ]
  },
  {
   "cell_type": "markdown",
   "metadata": {},
   "source": [
    "Llamemos la función"
   ]
  },
  {
   "cell_type": "code",
   "execution_count": 4,
   "metadata": {},
   "outputs": [
    {
     "name": "stdout",
     "output_type": "stream",
     "text": [
      "hola\n"
     ]
    }
   ],
   "source": [
    "imprime_hola()"
   ]
  },
  {
   "cell_type": "markdown",
   "metadata": {},
   "source": [
    "### Ejemplo 2: Función con un argumento\n",
    "Hagamos una función que imprima una saludo y reciba de argumento un nombre (cadena de caracteres)."
   ]
  },
  {
   "cell_type": "code",
   "execution_count": 5,
   "metadata": {},
   "outputs": [],
   "source": [
    "def saludo(nombre):\n",
    "    print('Hola %s' %(nombre))"
   ]
  },
  {
   "cell_type": "code",
   "execution_count": 6,
   "metadata": {},
   "outputs": [
    {
     "name": "stdout",
     "output_type": "stream",
     "text": [
      "Hola Daniel\n"
     ]
    }
   ],
   "source": [
    "saludo('Daniel')"
   ]
  },
  {
   "cell_type": "markdown",
   "metadata": {},
   "source": [
    "##  return\n",
    "Veamos un ejemplo de cómo utilizar la sentencia a <code>return</code>. Esta función le permite a nuestra función _regresar_ algún resultado (objeto) que después podemos guardar en alguna variable."
   ]
  },
  {
   "cell_type": "markdown",
   "metadata": {},
   "source": [
    "### Ejemplo 3: Función de adición"
   ]
  },
  {
   "cell_type": "code",
   "execution_count": 7,
   "metadata": {},
   "outputs": [],
   "source": [
    "def suma_numeros(num1,num2):\n",
    "    return num1+num2"
   ]
  },
  {
   "cell_type": "code",
   "execution_count": 11,
   "metadata": {},
   "outputs": [
    {
     "data": {
      "text/plain": [
       "9"
      ]
     },
     "execution_count": 11,
     "metadata": {},
     "output_type": "execute_result"
    }
   ],
   "source": [
    "# Llamamos nuestra función con argumentos 4 y 5\n",
    "suma_numeros(4,5)"
   ]
  },
  {
   "cell_type": "code",
   "execution_count": 13,
   "metadata": {},
   "outputs": [],
   "source": [
    "# Podemos guardar el resultado en una variable\n",
    "resultado = suma_numeros(4,5)"
   ]
  },
  {
   "cell_type": "code",
   "execution_count": 14,
   "metadata": {},
   "outputs": [
    {
     "name": "stdout",
     "output_type": "stream",
     "text": [
      "9\n"
     ]
    }
   ],
   "source": [
    "print(resultado)"
   ]
  },
  {
   "cell_type": "markdown",
   "metadata": {},
   "source": [
    "¿Qué pasa si aplicamos la función a dos cadenas?"
   ]
  },
  {
   "cell_type": "code",
   "execution_count": 15,
   "metadata": {},
   "outputs": [
    {
     "data": {
      "text/plain": [
       "'unodos'"
      ]
     },
     "execution_count": 15,
     "metadata": {},
     "output_type": "execute_result"
    }
   ],
   "source": [
    "suma_numeros('uno','dos')"
   ]
  },
  {
   "cell_type": "markdown",
   "metadata": {},
   "source": [
    "Debe tenerse en cuenta que debido a que no declaramos tipos de variables en Python, esta función podría usarse para sumar, por ejemplo, números o cadenas. Más adelante veremos cómo agregar pruebas para asegurarnos de que un usuario ingrese los tipos de argumentos que deseamos en una función.\n",
    "\n",
    "Ahora, empecemos a utilizar las instrucciones <code>break</code>, <code>continue</code> y <code>pass</code> sen nuestro código."
   ]
  },
  {
   "cell_type": "markdown",
   "metadata": {
    "collapsed": true
   },
   "source": [
    "Finalmente, repasemos un ejemplo completo de creación de una función para verificar si un número es primo.\n",
    "\n",
    "Sabemos que un número es primo si ese número es divisible solamente entre 1 y sí mismo. Escribamos nuestra primera versión de la función para verificar todos los números desde el 1 hasta un número arbitrario N que pasaremos como argumento, y realicemos verificaciones con el operador de módulo."
   ]
  },
  {
   "cell_type": "code",
   "execution_count": 18,
   "metadata": {},
   "outputs": [],
   "source": [
    "def es_primo(numero):\n",
    "    '''\n",
    "    Función simple para verificar si un número es primo. \n",
    "    '''\n",
    "    for elemento in range(2,numero):\n",
    "        if numero % elemento == 0:\n",
    "            print(numero,'no es número primo')\n",
    "            break\n",
    "    else: # If never mod zero, then prime\n",
    "        print(numero,'es número primo!')"
   ]
  },
  {
   "cell_type": "code",
   "execution_count": 19,
   "metadata": {},
   "outputs": [
    {
     "name": "stdout",
     "output_type": "stream",
     "text": [
      "16 no es número primo\n"
     ]
    }
   ],
   "source": [
    "es_primo(16)"
   ]
  },
  {
   "cell_type": "code",
   "execution_count": 20,
   "metadata": {},
   "outputs": [
    {
     "name": "stdout",
     "output_type": "stream",
     "text": [
      "17 es número primo!\n"
     ]
    }
   ],
   "source": [
    "es_primo(17)"
   ]
  },
  {
   "cell_type": "markdown",
   "metadata": {},
   "source": [
    "Observe cómo la sentencia <code> else </code> se alinea debajo del bucle <code> for </code> y no bajo la sentencia <code> if </code>. Esto se debe a que queremos que el bucle <code> for </code> agote todas las posibilidades en el rango antes de que nuestro número sea primo.\n",
    "\n",
    "También debe tenerse en en cuenta cómo rompemos con <code> break </code> el código después de la primera declaración de imprimir (<code> print() </code>). Tan pronto como determinamos que un número no es primo, salimos del bucle <code> for </code>.\n",
    "\n",
    "De hecho, podemos mejorar esta función solo verificando la raíz cuadrada del número objetivo y sin tener en cuenta todos los números pares después de verificar 2. También cambiaremos a devolver un valor booleano para obtener un ejemplo de uso de declaraciones de <code> return </code>."
   ]
  },
  {
   "cell_type": "code",
   "execution_count": 21,
   "metadata": {},
   "outputs": [],
   "source": [
    "# Importamos la biblioteca math\n",
    "import math\n",
    "\n",
    "def es_primo2(numero):\n",
    "    '''\n",
    "    Función mejorada para verificar si un número es primo \n",
    "    '''\n",
    "    if numero % 2 == 0 and numero > 2: \n",
    "        return False\n",
    "    for elemento in range(3, int(math.sqrt(numero)) + 1, 2):\n",
    "        if numero % elemento == 0:\n",
    "            return False\n",
    "    return True"
   ]
  },
  {
   "cell_type": "code",
   "execution_count": 22,
   "metadata": {},
   "outputs": [
    {
     "data": {
      "text/plain": [
       "False"
      ]
     },
     "execution_count": 22,
     "metadata": {},
     "output_type": "execute_result"
    }
   ],
   "source": [
    "es_primo2(18)"
   ]
  },
  {
   "cell_type": "code",
   "execution_count": 23,
   "metadata": {},
   "outputs": [
    {
     "data": {
      "text/plain": [
       "True"
      ]
     },
     "execution_count": 23,
     "metadata": {},
     "output_type": "execute_result"
    }
   ],
   "source": [
    "es_primo2(19)"
   ]
  },
  {
   "cell_type": "markdown",
   "metadata": {},
   "source": [
    "¿Por qué no tenemos ninguna sentencia de <code> break </code>? Esto es porque  tan pronto como una función * devuelve * algo, se apaga. Una función puede, por ejemplo, ejecutar múltiples declaraciones de impresión <code> print() </code>, pero solo obedecerá a una sentencia <code> return </code>."
   ]
  },
  {
   "cell_type": "code",
   "execution_count": null,
   "metadata": {},
   "outputs": [],
   "source": []
  }
 ],
 "metadata": {
  "kernelspec": {
   "display_name": "Python 3",
   "language": "python",
   "name": "python3"
  },
  "language_info": {
   "codemirror_mode": {
    "name": "ipython",
    "version": 3
   },
   "file_extension": ".py",
   "mimetype": "text/x-python",
   "name": "python",
   "nbconvert_exporter": "python",
   "pygments_lexer": "ipython3",
   "version": "3.6.5"
  }
 },
 "nbformat": 4,
 "nbformat_minor": 1
}
