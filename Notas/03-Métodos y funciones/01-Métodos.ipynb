{
 "cells": [
  {
   "cell_type": "markdown",
   "metadata": {},
   "source": [
    "# Métodos\n",
    "\n",
    "Ya hemos visto algunos ejemplos de métodos al aprender sobre algunos objetos y estructuras de datos en Python. Los métodos son, básicamente, funciones integradas dentro de los objetos. Más adelante veremos un poco sobre cómo crear nuestros propios objetos y métodos mediante la programación orientada a objetos (POO) y las clases.\n",
    "\n",
    "Los métodos realizan acciones específicas en un objeto y también pueden tomar argumentos, al igual que una función. Esta nota servirá solo como una breve introducción a los métodos y adquirirá mayor sentido cuando veamos más sobre POO.\n",
    "\n",
    "Los métodos toman la siguiente forma\n",
    "\n",
    "    object.method(arg1,arg2,etc...)\n",
    "\n",
    "en donde _arg1_,_arg2_,etc... son los argumentos que podemos pasarle al método.\n",
    "\n",
    "Tomemos como ejemplos algunos métodos que vienen incluidos en las listas."
   ]
  },
  {
   "cell_type": "code",
   "execution_count": 1,
   "metadata": {},
   "outputs": [],
   "source": [
    "# Creamos una lista simple\n",
    "lst = [1,2,3,4,5]"
   ]
  },
  {
   "cell_type": "markdown",
   "metadata": {},
   "source": [
    "Convenientemente, en Jupyter Notebook podemos echar un vistazo a los diferentes métodos que un objeto tiene al pulsar la tecla TAB al teclear **object.** en una celda. Los métodos disponibles para las listas son:\n",
    "\n",
    "* append\n",
    "* count\n",
    "* extend\n",
    "* insert\n",
    "* pop\n",
    "* remove\n",
    "* reverse\n",
    "* sort\n",
    "\n",
    "Probemos algunos de ellos."
   ]
  },
  {
   "cell_type": "markdown",
   "metadata": {},
   "source": [
    "append() nos permite añadir elementos al final de una lista"
   ]
  },
  {
   "cell_type": "code",
   "execution_count": 2,
   "metadata": {},
   "outputs": [],
   "source": [
    "lst.append(6)"
   ]
  },
  {
   "cell_type": "code",
   "execution_count": 3,
   "metadata": {},
   "outputs": [
    {
     "data": {
      "text/plain": [
       "[1, 2, 3, 4, 5, 6]"
      ]
     },
     "execution_count": 3,
     "metadata": {},
     "output_type": "execute_result"
    }
   ],
   "source": [
    "lst"
   ]
  },
  {
   "cell_type": "markdown",
   "metadata": {},
   "source": [
    "El método count() cuenta el número de veces que ocurre un elemento en una lista."
   ]
  },
  {
   "cell_type": "code",
   "execution_count": 5,
   "metadata": {},
   "outputs": [
    {
     "data": {
      "text/plain": [
       "[1, 2, 3, 4, 5, 6]"
      ]
     },
     "execution_count": 5,
     "metadata": {},
     "output_type": "execute_result"
    }
   ],
   "source": [
    "# Consultas cuántas veces está presente el número 2 en la lista.\n",
    "lst"
   ]
  },
  {
   "cell_type": "markdown",
   "metadata": {},
   "source": [
    "Además, podemos utilizar la función help() para obtener mayor información sobre un método."
   ]
  },
  {
   "cell_type": "code",
   "execution_count": 6,
   "metadata": {},
   "outputs": [
    {
     "name": "stdout",
     "output_type": "stream",
     "text": [
      "Help on built-in function count:\n",
      "\n",
      "count(...) method of builtins.list instance\n",
      "    L.count(value) -> integer -- return number of occurrences of value\n",
      "\n"
     ]
    }
   ],
   "source": [
    "# Consultemos la ayuda para el método count\n",
    "help(lst.count)"
   ]
  }
 ],
 "metadata": {
  "kernelspec": {
   "display_name": "Python 3",
   "language": "python",
   "name": "python3"
  },
  "language_info": {
   "codemirror_mode": {
    "name": "ipython",
    "version": 3
   },
   "file_extension": ".py",
   "mimetype": "text/x-python",
   "name": "python",
   "nbconvert_exporter": "python",
   "pygments_lexer": "ipython3",
   "version": "3.6.5"
  }
 },
 "nbformat": 4,
 "nbformat_minor": 1
}
