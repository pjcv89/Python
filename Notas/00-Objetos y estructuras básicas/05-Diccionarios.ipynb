{
 "cells": [
  {
   "cell_type": "markdown",
   "metadata": {},
   "source": [
    "# Diccionarios\n",
    "\n",
    "Anteriormente hemos visto sobre estructuras de datos de tipo _secuencia_ (listas y cadenas). Ahora veremos sobre diccionarios, que es una estructura que realiza _mapeos_. Este concepto es similar a las _tablas hash_ (_hash tables_) que se utilizan en otros lenguajes de programación.\n",
    "\n",
    "En esta nota damos una breve introducción a los diccionarios, y veremos:\n",
    "\n",
    "    1.) Construir diccionarios\n",
    "    2.) Acceder a los objetos dentro de un diccionario\n",
    "    3.) Anidando diccionarios\n",
    "    4.) Métodos básicos de los diccionarios \n",
    "\n",
    "¿Qué son _mapeos_ (_mappings_)? \n",
    "Son una colección de objetos que se almacenan con una *llave*, a diferencia de una secuencia que almacena los objetos por su posición relativa. Esta es una distinción importante, ya que los _mappings_ no conservarán el orden, ya que tienen objetos que son identificables por una *llave*.\n",
    "\n",
    "Un diccionario en Python consiste de llaves y de sus valores asociados a cada llave. La llave puede ser casi cualquier objeto de Python.\n",
    "\n",
    "## Construyendo diccionarios\n",
    "Veamos cómo se construyen para entender mejor"
   ]
  },
  {
   "cell_type": "markdown",
   "metadata": {},
   "source": [
    "Construimos diccionarios con los corchetes (o llaves) <code>{}</code> y utilizamos los dos puntos <code>:</code> \n",
    "para separar una llave de su respectivo valor."
   ]
  },
  {
   "cell_type": "code",
   "execution_count": 2,
   "metadata": {},
   "outputs": [],
   "source": [
    "# Ejemplo con dos llaves\n",
    "mi_dicc = {'llave_1':'valor_1','llave_2':'valor_2'}"
   ]
  },
  {
   "cell_type": "code",
   "execution_count": 3,
   "metadata": {},
   "outputs": [
    {
     "data": {
      "text/plain": [
       "'valor_2'"
      ]
     },
     "execution_count": 3,
     "metadata": {},
     "output_type": "execute_result"
    }
   ],
   "source": [
    "# Recuperamos valores en el diccionario llamándolos por su respectiva llave\n",
    "mi_dicc['llave_2']"
   ]
  },
  {
   "cell_type": "markdown",
   "metadata": {},
   "source": [
    "Es importante tener en cuenta que los diccionarios son muy flexibles en cuanto a los tipos de datos que pueden contener. Por ejemplo:"
   ]
  },
  {
   "cell_type": "code",
   "execution_count": 4,
   "metadata": {},
   "outputs": [],
   "source": [
    "my_dicc = {'llave_1':123,'llave_2':[12,23,33],'llave_3':['cadena_0','cadena_1','cadena_2']}"
   ]
  },
  {
   "cell_type": "code",
   "execution_count": 5,
   "metadata": {},
   "outputs": [
    {
     "data": {
      "text/plain": [
       "['cadena_0', 'cadena_1', 'cadena_2']"
      ]
     },
     "execution_count": 5,
     "metadata": {},
     "output_type": "execute_result"
    }
   ],
   "source": [
    "# Llamemos a los valores por su respectiva llave\n",
    "my_dicc['llave_3']"
   ]
  },
  {
   "cell_type": "code",
   "execution_count": 6,
   "metadata": {},
   "outputs": [
    {
     "data": {
      "text/plain": [
       "'cadena_0'"
      ]
     },
     "execution_count": 6,
     "metadata": {},
     "output_type": "execute_result"
    }
   ],
   "source": [
    "# Además, podemos recuperar elementos de ese respectivo valor (ya que el valor para esa llave una lista) \n",
    "# utilizando índices como hemos visto anteriormente\n",
    "my_dicc['llave_3'][0]"
   ]
  },
  {
   "cell_type": "code",
   "execution_count": 7,
   "metadata": {},
   "outputs": [
    {
     "data": {
      "text/plain": [
       "'CADENA_0'"
      ]
     },
     "execution_count": 7,
     "metadata": {},
     "output_type": "execute_result"
    }
   ],
   "source": [
    "# Y también podemos aplicar métodos aplicables a los objetos que recuperamos\n",
    "# Dado que anteriormente obtuvimos una cadena, podemos por ejemplo, aplicar el método *upper*\n",
    "my_dicc['llave_3'][0].upper()"
   ]
  },
  {
   "cell_type": "markdown",
   "metadata": {},
   "source": [
    "También podmeos modificar los valores de una llave (es decir, los diccionarios son _mutables_). Por ejemplo:"
   ]
  },
  {
   "cell_type": "code",
   "execution_count": 8,
   "metadata": {},
   "outputs": [
    {
     "data": {
      "text/plain": [
       "123"
      ]
     },
     "execution_count": 8,
     "metadata": {},
     "output_type": "execute_result"
    }
   ],
   "source": [
    "my_dicc['llave_1']"
   ]
  },
  {
   "cell_type": "code",
   "execution_count": 9,
   "metadata": {},
   "outputs": [],
   "source": [
    "# Restar 123 y reasignar ese valor a la misma llave\n",
    "my_dicc['llave_1'] = my_dicc['llave_1'] - 123"
   ]
  },
  {
   "cell_type": "code",
   "execution_count": 10,
   "metadata": {},
   "outputs": [
    {
     "data": {
      "text/plain": [
       "0"
      ]
     },
     "execution_count": 10,
     "metadata": {},
     "output_type": "execute_result"
    }
   ],
   "source": [
    "# Verificar nuevo valor\n",
    "my_dicc['llave_1']"
   ]
  },
  {
   "cell_type": "markdown",
   "metadata": {},
   "source": [
    "Nota rápida, Python tiene un método incorporado para hacer una resta o suma (o multiplicación o división) al mismo objeto sin necesidad de hacer referencia a él después del signo de igual. También podríamos haber usado += o -= para la declaración anterior. Por ejemplo:"
   ]
  },
  {
   "cell_type": "code",
   "execution_count": 11,
   "metadata": {},
   "outputs": [
    {
     "data": {
      "text/plain": [
       "-123"
      ]
     },
     "execution_count": 11,
     "metadata": {},
     "output_type": "execute_result"
    }
   ],
   "source": [
    "# Set the object equal to itself minus 123 \n",
    "my_dicc['llave_1'] -= 123\n",
    "my_dicc['llave_1']"
   ]
  },
  {
   "cell_type": "markdown",
   "metadata": {},
   "source": [
    "Podemos también crear llaves por asignación. Podemos empezar de un diccionario vació e ir incluyendo llaves-valores de forma incremental."
   ]
  },
  {
   "cell_type": "code",
   "execution_count": 17,
   "metadata": {},
   "outputs": [],
   "source": [
    "# Crear un diccionario vacío\n",
    "d = {}"
   ]
  },
  {
   "cell_type": "code",
   "execution_count": 18,
   "metadata": {},
   "outputs": [],
   "source": [
    "# Creamos una nueva llave con su respectivo valor, por asignación\n",
    "d['animal'] = 'Perro'"
   ]
  },
  {
   "cell_type": "code",
   "execution_count": 19,
   "metadata": {},
   "outputs": [],
   "source": [
    "# Añadimos otra llave-valor por asignación\n",
    "d['numero'] = 42"
   ]
  },
  {
   "cell_type": "code",
   "execution_count": 20,
   "metadata": {},
   "outputs": [
    {
     "data": {
      "text/plain": [
       "{'animal': 'Perro', 'numero': 42}"
      ]
     },
     "execution_count": 20,
     "metadata": {},
     "output_type": "execute_result"
    }
   ],
   "source": [
    "# Verificamos\n",
    "d"
   ]
  },
  {
   "cell_type": "markdown",
   "metadata": {},
   "source": [
    "## Diccionarios anidados\n",
    "\n",
    "Con estos ejemplos simples se puede observar la flexibilidad de Python al poder anidar objetos y poder llamar métodos en ellos. Veamos un ejemplo de diccionario anidado."
   ]
  },
  {
   "cell_type": "code",
   "execution_count": 21,
   "metadata": {},
   "outputs": [],
   "source": [
    "# Dictionary nested inside a dictionary nested inside a dictionary\n",
    "d = {'llave':{'llave_anidada':{'subllave_anidada':'valor'}}}"
   ]
  },
  {
   "cell_type": "markdown",
   "metadata": {},
   "source": [
    "Veamos como recuperar el único valor en este diccionario anidado."
   ]
  },
  {
   "cell_type": "code",
   "execution_count": 23,
   "metadata": {},
   "outputs": [
    {
     "data": {
      "text/plain": [
       "'valor'"
      ]
     },
     "execution_count": 23,
     "metadata": {},
     "output_type": "execute_result"
    }
   ],
   "source": [
    "# Llamamos a las llaves consecutivamente\n",
    "d['llave']['llave_anidada']['subllave_anidada']"
   ]
  },
  {
   "cell_type": "markdown",
   "metadata": {},
   "source": [
    "## Algunos métodos de los diccionarios\n",
    "\n",
    "Veamos algunos ejemplos"
   ]
  },
  {
   "cell_type": "code",
   "execution_count": 25,
   "metadata": {},
   "outputs": [],
   "source": [
    "# Create a typical dictionary\n",
    "d = {'llave_1':1,'llave_2':2,'llave_3':3}"
   ]
  },
  {
   "cell_type": "code",
   "execution_count": 28,
   "metadata": {},
   "outputs": [
    {
     "data": {
      "text/plain": [
       "dict_keys(['llave_1', 'llave_2', 'llave_3'])"
      ]
     },
     "execution_count": 28,
     "metadata": {},
     "output_type": "execute_result"
    }
   ],
   "source": [
    "# Método para recuperar todas las llaves del diccionario\n",
    "d.keys()"
   ]
  },
  {
   "cell_type": "code",
   "execution_count": 29,
   "metadata": {},
   "outputs": [
    {
     "data": {
      "text/plain": [
       "dict_values([1, 2, 3])"
      ]
     },
     "execution_count": 29,
     "metadata": {},
     "output_type": "execute_result"
    }
   ],
   "source": [
    "# Método para recuperar todas los valores del diccionario\n",
    "d.values()"
   ]
  },
  {
   "cell_type": "code",
   "execution_count": 30,
   "metadata": {},
   "outputs": [
    {
     "data": {
      "text/plain": [
       "dict_items([('llave_1', 1), ('llave_2', 2), ('llave_3', 3)])"
      ]
     },
     "execution_count": 30,
     "metadata": {},
     "output_type": "execute_result"
    }
   ],
   "source": [
    "# Método para recuperar todos las llaves-valor en forma de tuplas (hablaremos de las tuplas en otra nota)\n",
    "d.items()"
   ]
  },
  {
   "cell_type": "code",
   "execution_count": 38,
   "metadata": {},
   "outputs": [
    {
     "name": "stdout",
     "output_type": "stream",
     "text": [
      "dict_items([('llave_1', 1), ('llave_2', 2), ('llave_3', 3)])\n"
     ]
    }
   ],
   "source": [
    "# Aunque la forma correcto es imprimir en pantalla\n",
    "print(d.items())"
   ]
  },
  {
   "cell_type": "markdown",
   "metadata": {},
   "source": [
    "Hasta ahora tenemos un conocimiento básico de cómo construir diccionarios. Hay mucho más al respecto, pero volveremos a revisar los diccionarios más adelante."
   ]
  }
 ],
 "metadata": {
  "kernelspec": {
   "display_name": "Python 3",
   "language": "python",
   "name": "python3"
  },
  "language_info": {
   "codemirror_mode": {
    "name": "ipython",
    "version": 3
   },
   "file_extension": ".py",
   "mimetype": "text/x-python",
   "name": "python",
   "nbconvert_exporter": "python",
   "pygments_lexer": "ipython3",
   "version": "3.6.5"
  }
 },
 "nbformat": 4,
 "nbformat_minor": 1
}
