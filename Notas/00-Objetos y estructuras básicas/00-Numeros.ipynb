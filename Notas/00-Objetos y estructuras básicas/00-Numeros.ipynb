{
 "cells": [
  {
   "cell_type": "markdown",
   "metadata": {},
   "source": [
    "# Números en Python\n",
    "\n",
    "\n",
    "Cubriremos los siguientes tópicos:\n",
    "\n",
    "    1.) Tipos de números en Python\n",
    "    2.) Aritmética básica\n",
    "    3.) Diferencias entre división clásica y división piso\n",
    "    4.) Asignación de objetos en Python"
   ]
  },
  {
   "cell_type": "markdown",
   "metadata": {},
   "source": [
    "## Tipos de números\n",
    "\n",
    "Python tiene varios **tipos** de números. En este tutorial nos enfocamos solamente en enteros y números de punto flotante (o coma flotante).\n",
    "\n",
    "Los números enteros son justo eso, como en matemáticas, positivos o negativos. Por ejemplo: 2 and -2 son ejemplos de enteros.\n",
    "\n",
    "Los números de punto flotante tienen un punto decimal en ellos, o usan un exponencial (e) para definir el número. Por ejemplo: 2.0 and -2.1 son ejemplos de números de punto flotante. 4E2 (4 veces 10 a la potencia de 2) también es un ejemplo. \n",
    "\n",
    "A lo largo de este curso trabajermos principalmente con estos dos tipos de números. \n",
    "Throughout this course we will be mainly working with integers or simple float number types.\n",
    "\n",
    "Para clarificar un poco, incluimos una tabla con más ejemplos de estos tipos de números."
   ]
  },
  {
   "cell_type": "markdown",
   "metadata": {},
   "source": [
    "<table>\n",
    "<tr>\n",
    "    <th>Ejemplo</th> \n",
    "    <th>Tipo de número</th>\n",
    "</tr>\n",
    "\n",
    "<tr>\n",
    "    <td>1,2,-5,1000</td>\n",
    "    <td>Enteros</td> \n",
    "</tr>\n",
    "\n",
    "<tr>\n",
    "    <td>1.2,-0.5,2e2,3E2</td> \n",
    "    <td>Punto flotante</td> \n",
    "</tr>\n",
    " </table>"
   ]
  },
  {
   "cell_type": "markdown",
   "metadata": {},
   "source": [
    "Ahora mostraremos un poco de aritmética básica."
   ]
  },
  {
   "cell_type": "markdown",
   "metadata": {},
   "source": [
    "### Aritmética básica"
   ]
  },
  {
   "cell_type": "code",
   "execution_count": 1,
   "metadata": {},
   "outputs": [
    {
     "data": {
      "text/plain": [
       "3"
      ]
     },
     "execution_count": 1,
     "metadata": {},
     "output_type": "execute_result"
    }
   ],
   "source": [
    "# Suma (o adición)\n",
    "2+1"
   ]
  },
  {
   "cell_type": "code",
   "execution_count": 2,
   "metadata": {},
   "outputs": [
    {
     "data": {
      "text/plain": [
       "1"
      ]
     },
     "execution_count": 2,
     "metadata": {},
     "output_type": "execute_result"
    }
   ],
   "source": [
    "# Sustracción (o resta)\n",
    "2-1"
   ]
  },
  {
   "cell_type": "code",
   "execution_count": 3,
   "metadata": {},
   "outputs": [
    {
     "data": {
      "text/plain": [
       "4"
      ]
     },
     "execution_count": 3,
     "metadata": {},
     "output_type": "execute_result"
    }
   ],
   "source": [
    "# Multiplicación\n",
    "2*2"
   ]
  },
  {
   "cell_type": "code",
   "execution_count": 4,
   "metadata": {},
   "outputs": [
    {
     "data": {
      "text/plain": [
       "1.5"
      ]
     },
     "execution_count": 4,
     "metadata": {},
     "output_type": "execute_result"
    }
   ],
   "source": [
    "# División\n",
    "3/2"
   ]
  },
  {
   "cell_type": "code",
   "execution_count": 5,
   "metadata": {},
   "outputs": [
    {
     "data": {
      "text/plain": [
       "1"
      ]
     },
     "execution_count": 5,
     "metadata": {},
     "output_type": "execute_result"
    }
   ],
   "source": [
    "# División piso\n",
    "7//4"
   ]
  },
  {
   "cell_type": "markdown",
   "metadata": {},
   "source": [
    "**¿Qué ha pasado aquí?**\n",
    "\n",
    "La razón por la que obtenemos este último resultado es porque estamos usando la división \"*piso*\" (_floor_). El operador // (dos barras diagonales hacia delante) trunca el decimal sin redondear y devuelve un resultado entero."
   ]
  },
  {
   "cell_type": "markdown",
   "metadata": {},
   "source": [
    "**¿Y si solo queremos el residuo después de la división?** (es decir, el módulo)"
   ]
  },
  {
   "cell_type": "code",
   "execution_count": 6,
   "metadata": {},
   "outputs": [
    {
     "data": {
      "text/plain": [
       "3"
      ]
     },
     "execution_count": 6,
     "metadata": {},
     "output_type": "execute_result"
    }
   ],
   "source": [
    "# Modulo\n",
    "7%4"
   ]
  },
  {
   "cell_type": "markdown",
   "metadata": {},
   "source": [
    "En el último ejemplo, 4 cabe en 7 una vez, con un residuo de 3. El operador % devuelve el residuo después de la división."
   ]
  },
  {
   "cell_type": "markdown",
   "metadata": {},
   "source": [
    "### Más aritmética"
   ]
  },
  {
   "cell_type": "code",
   "execution_count": 7,
   "metadata": {},
   "outputs": [
    {
     "data": {
      "text/plain": [
       "8"
      ]
     },
     "execution_count": 7,
     "metadata": {},
     "output_type": "execute_result"
    }
   ],
   "source": [
    "# Potencias\n",
    "2**3"
   ]
  },
  {
   "cell_type": "code",
   "execution_count": 8,
   "metadata": {},
   "outputs": [
    {
     "data": {
      "text/plain": [
       "2.0"
      ]
     },
     "execution_count": 8,
     "metadata": {},
     "output_type": "execute_result"
    }
   ],
   "source": [
    "# También se pueden obtener raíces aplicando el operador de potenciación.\n",
    "4**0.5"
   ]
  },
  {
   "cell_type": "code",
   "execution_count": 13,
   "metadata": {},
   "outputs": [
    {
     "data": {
      "text/plain": [
       "105"
      ]
     },
     "execution_count": 13,
     "metadata": {},
     "output_type": "execute_result"
    }
   ],
   "source": [
    "# Este es el orden de operaciones utilizado en Python (_jerarquía de operaciones_ en Matemáticas) \n",
    "2 + 10 * 10 + 3"
   ]
  },
  {
   "cell_type": "code",
   "execution_count": 12,
   "metadata": {},
   "outputs": [
    {
     "data": {
      "text/plain": [
       "105"
      ]
     },
     "execution_count": 12,
     "metadata": {},
     "output_type": "execute_result"
    }
   ],
   "source": [
    "# Equivalentemente:\n",
    "2 + (10 * 10) + 3"
   ]
  },
  {
   "cell_type": "code",
   "execution_count": 11,
   "metadata": {},
   "outputs": [
    {
     "data": {
      "text/plain": [
       "156"
      ]
     },
     "execution_count": 11,
     "metadata": {},
     "output_type": "execute_result"
    }
   ],
   "source": [
    "# También se pueden utilizar paréntesis para poner de forma explícita el orden deseado\n",
    "(2+10) * (10+3)"
   ]
  },
  {
   "cell_type": "markdown",
   "metadata": {},
   "source": [
    "## Asignacion de variables\n",
    "\n",
    "Ahora que hemos visto un poco de cómo usar números en Python a modo de calculadora, veamos cómo asignar nombres y crear **variables**.\n",
    "\n",
    "Usamos un simple símbolo de igual para asignar valores a variables. Veamos unos cuantos ejemplos."
   ]
  },
  {
   "cell_type": "code",
   "execution_count": 15,
   "metadata": {},
   "outputs": [],
   "source": [
    "# Creemos una variable **a** y asignémosle el valor entero de 5.\n",
    "a = 5"
   ]
  },
  {
   "cell_type": "markdown",
   "metadata": {},
   "source": [
    "Ahora, si hacemos referencia a *a* en nuestro código, Python utilizará su valor. En este caso, el valor es el número entero 5."
   ]
  },
  {
   "cell_type": "code",
   "execution_count": 16,
   "metadata": {},
   "outputs": [
    {
     "data": {
      "text/plain": [
       "10"
      ]
     },
     "execution_count": 16,
     "metadata": {},
     "output_type": "execute_result"
    }
   ],
   "source": [
    "# Adición\n",
    "a+a"
   ]
  },
  {
   "cell_type": "markdown",
   "metadata": {},
   "source": [
    "¿Qué pasa si volvemos a asignar algún otro valor a la variable **a**?"
   ]
  },
  {
   "cell_type": "code",
   "execution_count": 17,
   "metadata": {},
   "outputs": [],
   "source": [
    "# Reasignación\n",
    "a = 10"
   ]
  },
  {
   "cell_type": "code",
   "execution_count": 18,
   "metadata": {},
   "outputs": [
    {
     "data": {
      "text/plain": [
       "10"
      ]
     },
     "execution_count": 18,
     "metadata": {},
     "output_type": "execute_result"
    }
   ],
   "source": [
    "# Verificando\n",
    "a"
   ]
  },
  {
   "cell_type": "markdown",
   "metadata": {},
   "source": [
    "Python permite reescribir sobre variables anteriormente ya definidas. Además, podemos usar las variables mismas para realizar la asignación. Aquí va un ejemplo."
   ]
  },
  {
   "cell_type": "code",
   "execution_count": 19,
   "metadata": {},
   "outputs": [
    {
     "data": {
      "text/plain": [
       "10"
      ]
     },
     "execution_count": 19,
     "metadata": {},
     "output_type": "execute_result"
    }
   ],
   "source": [
    "# Verificamos el valor actual de la variable **a**\n",
    "a"
   ]
  },
  {
   "cell_type": "code",
   "execution_count": 21,
   "metadata": {},
   "outputs": [],
   "source": [
    "# Usamos la misma variable **a** para redefinirla. \n",
    "# Ejemplo: Definamos una nueva **a** como la suma de ella misma mas ella misma.\n",
    "a = a + a"
   ]
  },
  {
   "cell_type": "code",
   "execution_count": 22,
   "metadata": {},
   "outputs": [
    {
     "data": {
      "text/plain": [
       "40"
      ]
     },
     "execution_count": 22,
     "metadata": {},
     "output_type": "execute_result"
    }
   ],
   "source": [
    "# Verifiquemos\n",
    "a"
   ]
  },
  {
   "cell_type": "markdown",
   "metadata": {},
   "source": [
    "### Algunas reglas\n",
    "\n",
    "Los nombres utilizados para crear variables necesitan seguir algunas reglas:\n",
    "\n",
    "    1. No pueden empezar con un número\n",
    "    2. No puede haber espacio (\" \") entre palabras, pero sí guión bajo. Ejemplo \"a_nueva\".\n",
    "    3. No se pueden utilizar los siguientes símbolos :'\",<>/?|\\()!@#$%^&*~-+\n",
    "    4. Es considerado una buena práctica que los nombres de variables utilicen solamente letras minúsculas.\n",
    "    5. Deben evitarse utilizar palabras que tienen significado especial en Python. Ejemplos: \"list\", \"str\".\n",
    "\n",
    "El uso de nombres de variables puede ser una forma muy útil de realizar un seguimiento de diferentes variables en Python. Por ejemplo:"
   ]
  },
  {
   "cell_type": "code",
   "execution_count": 24,
   "metadata": {},
   "outputs": [],
   "source": [
    "# Use object names to keep better track of what's going on in your code!\n",
    "ingreso_mensual = 100\n",
    "\n",
    "tasa_impuesto = 0.1\n",
    "\n",
    "impuesto_mensual = ingreso_mensual*tasa_impuesto"
   ]
  },
  {
   "cell_type": "code",
   "execution_count": 25,
   "metadata": {},
   "outputs": [
    {
     "data": {
      "text/plain": [
       "10.0"
      ]
     },
     "execution_count": 25,
     "metadata": {},
     "output_type": "execute_result"
    }
   ],
   "source": [
    "# ¿Cuál es mi impuesto a pagar?\n",
    "impuesto_mensual"
   ]
  }
 ],
 "metadata": {
  "anaconda-cloud": {},
  "kernelspec": {
   "display_name": "Python 3",
   "language": "python",
   "name": "python3"
  },
  "language_info": {
   "codemirror_mode": {
    "name": "ipython",
    "version": 3
   },
   "file_extension": ".py",
   "mimetype": "text/x-python",
   "name": "python",
   "nbconvert_exporter": "python",
   "pygments_lexer": "ipython3",
   "version": "3.6.5"
  }
 },
 "nbformat": 4,
 "nbformat_minor": 1
}
