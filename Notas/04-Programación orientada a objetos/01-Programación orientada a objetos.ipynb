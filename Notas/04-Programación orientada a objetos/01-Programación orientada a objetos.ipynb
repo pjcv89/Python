{
 "cells": [
  {
   "cell_type": "markdown",
   "metadata": {
    "collapsed": true
   },
   "source": [
    "# Programación orientada a objetos\n",
    "\n",
    "La [programación orientada a objetos](https://es.wikipedia.org/wiki/Programaci%C3%B3n_orientada_a_objetos) es un paradigma de programación en donde los objetos manipulan los datos de entrada para la obtención de datos de salida específicos, y en donde cada objeto ofrece una funcionalidad específica.\n",
    "\n",
    "En esta nota veremos los siguientes tópicos: \n",
    "* Objetos\n",
    "* Uso de la palabra *class*\n",
    "* Creación de atributos de clase\n",
    "* Creación de métodos en una clase\n",
    "* Herencia\n",
    "* Polimorfismo\n",
    "* Métodos especiales de las clases\n",
    "\n",
    "Para empezar, recoerdemos un poco sobre los objetos básicos de Python."
   ]
  },
  {
   "cell_type": "markdown",
   "metadata": {},
   "source": [
    "Creemos una lista simple"
   ]
  },
  {
   "cell_type": "code",
   "execution_count": 1,
   "metadata": {},
   "outputs": [],
   "source": [
    "lst = [1,2,3]"
   ]
  },
  {
   "cell_type": "markdown",
   "metadata": {},
   "source": [
    "Recordemos cómo llamar métodos de las listas. Por ejemplo, llamemos al método **count()** con argumento 2 (para contar cuántas veces existe el elemento 2 en la lista)."
   ]
  },
  {
   "cell_type": "code",
   "execution_count": 3,
   "metadata": {},
   "outputs": [
    {
     "data": {
      "text/plain": [
       "1"
      ]
     },
     "execution_count": 3,
     "metadata": {},
     "output_type": "execute_result"
    }
   ],
   "source": [
    "lst.count(2)"
   ]
  },
  {
   "cell_type": "markdown",
   "metadata": {},
   "source": [
    "What we will basically be doing in this lecture is exploring how we could create an Object type like a list. We've already learned about how to create functions. So let's explore Objects in general:\n",
    "\n",
    "Esencialmente, lo que haremos en esta nota es explorar cómo podemos crear un tipo de Objeto (como una lista). Antes hemos aprendido acerca de cómo crear funciones. Ahora exploraremos a los objetos en general.\n",
    "\n",
    "## Objetos\n",
    "\n",
    "En Python, *todo es un objeto*. Recordemos de las notas anteriores que podemos utilizar la función `type()` para consultar qué tipo de un objeto."
   ]
  },
  {
   "cell_type": "code",
   "execution_count": 4,
   "metadata": {},
   "outputs": [
    {
     "name": "stdout",
     "output_type": "stream",
     "text": [
      "<class 'int'>\n",
      "<class 'list'>\n",
      "<class 'tuple'>\n",
      "<class 'dict'>\n"
     ]
    }
   ],
   "source": [
    "print(type(1))\n",
    "print(type([]))\n",
    "print(type(()))\n",
    "print(type({}))"
   ]
  },
  {
   "cell_type": "markdown",
   "metadata": {},
   "source": [
    "Entonces, ya que sabemos que todas estas cosas son objetos, ¿cómo podemos crear nuestros propios tipos de objetos? Ahí es donde entra en juego la palabra clave <code> class </code> (clase).\n",
    "\n",
    "## class\n",
    "\n",
    "Los objetos creados por el usuario se crean utilizando la palabra clave <code> class </code>. La clase es un modelo que define la naturaleza de un objeto futuro. A partir de clases podemos construir instancias. Una instancia es un objeto específico creado a partir de una clase particular. Por ejemplo, anteriormente creamos el objeto <code> lst </code> que era una instancia de un objeto de tipo *lista*. \n",
    "\n",
    "Empecemos a ver unos ejemplos."
   ]
  },
  {
   "cell_type": "code",
   "execution_count": 5,
   "metadata": {},
   "outputs": [
    {
     "name": "stdout",
     "output_type": "stream",
     "text": [
      "<class '__main__.Ejemplo'>\n"
     ]
    }
   ],
   "source": [
    "\n",
    "# Creemos un nuevo tipo de objeto que llamaremos Ejemplo\n",
    "class Ejemplo:\n",
    "    pass\n",
    "\n",
    "# Instancia del tipo de objeto Ejemplo\n",
    "x = Ejemplo()\n",
    "\n",
    "# Consultemos el tipo del objeto x\n",
    "print(type(x))"
   ]
  },
  {
   "cell_type": "markdown",
   "metadata": {},
   "source": [
    "Por convención le damos a las clases un nombre que comienza con una letra mayúscula. Observe cómo <code> x </code> es ahora la referencia a nuestra nueva instancia de una clase `Ejemplo`. En otras palabras, nosotros ** instanciamos ** la clase `Ejemplo`.\n",
    "\n",
    "Ahora bien:\n",
    "\n",
    "Un **atributo** (**attribute**) es una característica de un objeto\n",
    "Un **método** (**method**) es una operación que podemos realizar con el objeto.\n",
    "\n",
    "Por ejemplo, podemos crear una clase llamada Perro. Un atributo de esta clase puede ser su raza o su nombre, mientras que un método puede ser su ladrido (definido con un método `.ladrido()` el cual retorne un sonido.\n",
    "\n",
    "Trabajemos en unos ejemplos.\n",
    "\n",
    "## Atributos\n",
    "\n",
    "La sintaxis para crear un atributo es:\n",
    "    \n",
    "    self.atributo = algo\n",
    "    \n",
    "Además existe un método especial:\n",
    "\n",
    "    __init__()\n",
    "\n",
    "Este método se utiliza para inicializar los atributos de un objeto."
   ]
  },
  {
   "cell_type": "code",
   "execution_count": 6,
   "metadata": {},
   "outputs": [],
   "source": [
    "class Perro:\n",
    "    def __init__(self,raza):\n",
    "        self.raza = raza\n",
    "        \n",
    "sam = Perro(raza='Labrador')\n",
    "frank = Perro(raza='Huskie')"
   ]
  },
  {
   "cell_type": "markdown",
   "metadata": {},
   "source": [
    "Desglosemos paso a paso lo que hemos hecho. El método especial\n",
    "\n",
    "    __init__() \n",
    "    \n",
    "es llamado automáticamente justo después de que el objeto ha sido creado. En la instrucción:\n",
    "\n",
    "    def __init__(self, breed):\n",
    "\n",
    "observamos que cada atributo en una definición de clase comienza con una referencia a la instancia del objeto. Por convención, se usa la palabra clave `self` para hacer esta referencia. En nuestro caso, **raza** es el argumento. El valor se pasa durante la instanciación de clase:\n",
    "\n",
    "     self.raza = raza"
   ]
  },
  {
   "cell_type": "markdown",
   "metadata": {},
   "source": [
    "Ahora hemos creado dos instancias de la clase `Perro`. Con estas dos instancias, podemos accesder a sus atributos de esta manera:"
   ]
  },
  {
   "cell_type": "code",
   "execution_count": 7,
   "metadata": {},
   "outputs": [
    {
     "data": {
      "text/plain": [
       "'Labrador'"
      ]
     },
     "execution_count": 7,
     "metadata": {},
     "output_type": "execute_result"
    }
   ],
   "source": [
    "sam.raza"
   ]
  },
  {
   "cell_type": "code",
   "execution_count": 8,
   "metadata": {},
   "outputs": [
    {
     "data": {
      "text/plain": [
       "'Huskie'"
      ]
     },
     "execution_count": 8,
     "metadata": {},
     "output_type": "execute_result"
    }
   ],
   "source": [
    "frank.raza"
   ]
  },
  {
   "cell_type": "markdown",
   "metadata": {},
   "source": [
    "Notemos que no tenemos ningún paréntesis después *raza*; esto se debe a que es un atributo y no acepta ningún argumento.\n",
    "\n",
    "En Python también existen los * atributos de clase de objeto *. Estos tipos de atributo son los mismos para cualquier instancia de la clase. Por ejemplo, podríamos crear el atributo * especie * para la clase `Perro`. En nuestro ejemplo, los perros, independientemente de su raza, nombre u otros atributos, siempre serán mamíferos. Aplicamos esta lógica de la siguiente manera:"
   ]
  },
  {
   "cell_type": "code",
   "execution_count": 9,
   "metadata": {},
   "outputs": [],
   "source": [
    "class Perro:\n",
    "    \n",
    "    # Atributo de clase de objeto\n",
    "    especie = 'mamífero'\n",
    "    \n",
    "    def __init__(self,raza,nombre):\n",
    "        self.raza = raza\n",
    "        self.nombre = nombre"
   ]
  },
  {
   "cell_type": "code",
   "execution_count": 10,
   "metadata": {},
   "outputs": [],
   "source": [
    "sam = Perro('Labrador','Sam')"
   ]
  },
  {
   "cell_type": "code",
   "execution_count": 11,
   "metadata": {},
   "outputs": [
    {
     "data": {
      "text/plain": [
       "'Sam'"
      ]
     },
     "execution_count": 11,
     "metadata": {},
     "output_type": "execute_result"
    }
   ],
   "source": [
    "sam.nombre"
   ]
  },
  {
   "cell_type": "markdown",
   "metadata": {},
   "source": [
    "Tengamos en cuenta que el atributo de clase de objeto se define fuera de cualquier método en la clase. También por convención, los colocamos primero, antes de la instrucción de `init`."
   ]
  },
  {
   "cell_type": "code",
   "execution_count": 13,
   "metadata": {},
   "outputs": [
    {
     "data": {
      "text/plain": [
       "'mamífero'"
      ]
     },
     "execution_count": 13,
     "metadata": {},
     "output_type": "execute_result"
    }
   ],
   "source": [
    "sam.especie"
   ]
  },
  {
   "cell_type": "markdown",
   "metadata": {},
   "source": [
    "## Methods\n",
    "\n",
    "Los métodos son funciones definidas dentro del cuerpo de una clase. Se utilizan para realizar operaciones con los atributos de nuestros objetos. Los métodos son un concepto clave del paradigma OOP. Son esenciales para dividir responsabilidades en la programación, especialmente en aplicaciones grandes.\n",
    "\n",
    "Se puede pensar en los métodos como funciones que actúan sobre un Objeto y que tienen en cuenta al Objeto mismo a través de su argumento *self*.\n",
    "\n",
    "Veamos ahora un ejemplo de crear una clase `Circunferencia`."
   ]
  },
  {
   "cell_type": "code",
   "execution_count": 20,
   "metadata": {},
   "outputs": [
    {
     "name": "stdout",
     "output_type": "stream",
     "text": [
      "El radio es:  1\n",
      "El área es:  3.141592\n",
      "El perímetro es:  6.283184\n"
     ]
    }
   ],
   "source": [
    "class Circunferencia:\n",
    "    # Aproximación al valor de Pi a 6 posiciones decimales\n",
    "    pi = 3.141592\n",
    "\n",
    "    # El objeto Circunferencia se inizializa con un radio con valor por default de 1\n",
    "    def __init__(self, radio=1):\n",
    "        self.radio = radio\n",
    "        self.area = radio * radio * Circunferencia.pi\n",
    "\n",
    "    # Método para resetear el valor del radio\n",
    "    def editarRadio(self, nuevo_radio):\n",
    "        self.radio = nuevo_radio\n",
    "        self.area = nuevo_radio * nuevo_radio * self.pi\n",
    "\n",
    "    # Método para obtener el perímetro\n",
    "    def obtenerPerimetro(self):\n",
    "        return self.radio * self.pi * 2\n",
    "\n",
    "\n",
    "c = Circunferencia()\n",
    "\n",
    "print('El radio es: ',c.radio)\n",
    "print('El área es: ',c.area)\n",
    "print('El perímetro es: ',c.obtenerPerimetro())"
   ]
  },
  {
   "cell_type": "markdown",
   "metadata": {},
   "source": [
    "En el método `__init__`  anterior, para poder calcular el atributo de **área**, tuvimos que llamar a **Circunferencia.pi** ya que objeto aún no tiene su propio atributo **.pi**, por lo que llamamos el atributo de clase de objero **pi** en su lugar.\n",
    "\n",
    "Sin embargo, en el método `editarRadio`, trabajaremos con un objeto Circle existente que tiene su propio atributo pi. Aquí podremos usar Circle.pi o self.pi indistintamente. \n",
    "\n",
    "Ahora cambiemos el radio con el método `editarRadio` y veamos cómo afecta eso a nuestro objeto de clase Circunferencia:"
   ]
  },
  {
   "cell_type": "code",
   "execution_count": 21,
   "metadata": {},
   "outputs": [
    {
     "name": "stdout",
     "output_type": "stream",
     "text": [
      "El radio es:  2\n",
      "El área es:  12.566368\n",
      "El perímetro es:  12.566368\n"
     ]
    }
   ],
   "source": [
    "c.editarRadio(2)\n",
    "\n",
    "print('El radio es: ',c.radio)\n",
    "print('El área es: ',c.area)\n",
    "print('El perímetro es: ',c.obtenerPerimetro())"
   ]
  },
  {
   "cell_type": "markdown",
   "metadata": {},
   "source": [
    "Notemos cómo usamos `self` para hacer referencia a los atributos de la clase dentro de las llamadas de método."
   ]
  },
  {
   "cell_type": "markdown",
   "metadata": {},
   "source": [
    "## Herencia\n",
    "\n",
    "La herencia es una forma de formar nuevas clases utilizando clases que ya se han definido. Las clases recién formadas se denominan clases derivadas, mientras que las clases de las que derivamos se denominan clases base. Los beneficios importantes de la herencia son la reutilización del código y la reducción de la complejidad de un programa. Las clases derivadas (descendientes) anulan o extienden la funcionalidad de las clases base (ancestros).\n",
    "\n",
    "Veamos un ejemplo aplicado a nuestra clase anterior de `Perro`."
   ]
  },
  {
   "cell_type": "code",
   "execution_count": 23,
   "metadata": {},
   "outputs": [],
   "source": [
    "class Animal:\n",
    "    def __init__(self):\n",
    "        print(\"Animal creado\")\n",
    "\n",
    "    def quienSoy(self):\n",
    "        print(\"Animal\")\n",
    "\n",
    "    def comer(self):\n",
    "        print(\"Comiendo\")\n",
    "\n",
    "class Perro(Animal):\n",
    "    def __init__(self):\n",
    "        Animal.__init__(self)\n",
    "        print(\"Perro creado\")\n",
    "\n",
    "    def quienSoy(self):\n",
    "        print(\"Perro\")\n",
    "\n",
    "    def ladrar(self):\n",
    "        print(\"Woof!\")"
   ]
  },
  {
   "cell_type": "code",
   "execution_count": 24,
   "metadata": {},
   "outputs": [
    {
     "name": "stdout",
     "output_type": "stream",
     "text": [
      "Animal creado\n",
      "Perro creado\n"
     ]
    }
   ],
   "source": [
    "d = Perro()"
   ]
  },
  {
   "cell_type": "code",
   "execution_count": 25,
   "metadata": {},
   "outputs": [
    {
     "name": "stdout",
     "output_type": "stream",
     "text": [
      "Perro\n"
     ]
    }
   ],
   "source": [
    "d.quienSoy()"
   ]
  },
  {
   "cell_type": "code",
   "execution_count": 26,
   "metadata": {},
   "outputs": [
    {
     "name": "stdout",
     "output_type": "stream",
     "text": [
      "Comiendo\n"
     ]
    }
   ],
   "source": [
    "d.comer()"
   ]
  },
  {
   "cell_type": "code",
   "execution_count": 27,
   "metadata": {},
   "outputs": [
    {
     "name": "stdout",
     "output_type": "stream",
     "text": [
      "Woof!\n"
     ]
    }
   ],
   "source": [
    "d.ladrar()"
   ]
  },
  {
   "cell_type": "markdown",
   "metadata": {},
   "source": [
    "En este ejemplo, tenemos dos clases: Animal y Perro. El animal es la clase base, el perro es la clase derivada.\n",
    "\n",
    "La clase derivada hereda la funcionalidad de la clase base.\n",
    "\n",
    "* Esto se muestra mediante el método `comer()`.\n",
    "\n",
    "La clase derivada modifica el comportamiento existente de la clase base.\n",
    "\n",
    "* Esto se muestra por el método `quienSoy()`.\n",
    "\n",
    "Finalmente, la clase derivada amplía la funcionalidad de la clase base, definiendo un nuevo método `ladrar()`."
   ]
  },
  {
   "cell_type": "markdown",
   "metadata": {},
   "source": [
    "## Polimorfismo\n",
    "\n",
    "Hemos aprendido que aunque las funciones pueden tomar diferentes argumentos, los métodos pertenecen a los objetos sobre los que actúan. En Python, el * polimorfismo * se refiere a la forma en que las diferentes clases de objetos pueden compartir el mismo nombre de método, y esos métodos pueden llamarse desde el mismo lugar aunque se pueda pasar una variedad de objetos diferentes. La mejor manera de explicar esto, como usualmente, es con un ejemplo."
   ]
  },
  {
   "cell_type": "code",
   "execution_count": 29,
   "metadata": {},
   "outputs": [
    {
     "name": "stdout",
     "output_type": "stream",
     "text": [
      "Niko dice Woof!\n",
      "Felix dice Meow!\n"
     ]
    }
   ],
   "source": [
    "class Perro:\n",
    "    def __init__(self, nombre):\n",
    "        self.nombre = nombre\n",
    "\n",
    "    def habla(self):\n",
    "        return self.nombre+' dice Woof!'\n",
    "    \n",
    "class Gato:\n",
    "    def __init__(self, nombre):\n",
    "        self.nombre = nombre\n",
    "\n",
    "    def habla(self):\n",
    "        return self.nombre +' dice Meow!' \n",
    "    \n",
    "niko = Perro('Niko')\n",
    "felix = Gato('Felix')\n",
    "\n",
    "print(niko.habla())\n",
    "print(felix.habla())"
   ]
  },
  {
   "cell_type": "markdown",
   "metadata": {},
   "source": [
    "Aquí tenemos una clase de Perro y una clase de Gato, y cada una tiene un método `.habla()`. Cuando llamamos al método `.habla()` de cada objetodevuelve un resultado único para el objeto.\n",
    "\n",
    "Hay algunas formas diferentes de mostrar el polimorfismo. Por ejemplo, con un bucle `for`."
   ]
  },
  {
   "cell_type": "code",
   "execution_count": 30,
   "metadata": {},
   "outputs": [
    {
     "name": "stdout",
     "output_type": "stream",
     "text": [
      "Niko dice Woof!\n",
      "Felix dice Meow!\n"
     ]
    }
   ],
   "source": [
    "for mascota in [niko,felix]:\n",
    "    print(mascota.habla())"
   ]
  },
  {
   "cell_type": "markdown",
   "metadata": {},
   "source": [
    "Otra forma es con funciones."
   ]
  },
  {
   "cell_type": "code",
   "execution_count": 31,
   "metadata": {},
   "outputs": [
    {
     "name": "stdout",
     "output_type": "stream",
     "text": [
      "Niko dice Woof!\n",
      "Felix dice Meow!\n"
     ]
    }
   ],
   "source": [
    "def mascota_habla(mascota):\n",
    "    print(mascota.habla())\n",
    "\n",
    "mascota_habla(niko)\n",
    "mascota_habla(felix)"
   ]
  },
  {
   "cell_type": "markdown",
   "metadata": {
    "slideshow": {
     "slide_type": "slide"
    }
   },
   "source": [
    "En ambos casos, pudimos pasar diferentes tipos de objetos y obtuvimos resultados específicos del objeto mediante el mismo mecanismo.\n",
    "\n",
    "Una práctica más común es usar clases abstractas y herencia. Una clase abstracta es aquella que nunca espera ser instanciada. Por ejemplo, nunca tendremos un objeto Animal, solo objetos Perro y Gato, aunque los Perro y Gato se derivan de los objetos Animal."
   ]
  },
  {
   "cell_type": "code",
   "execution_count": 32,
   "metadata": {},
   "outputs": [
    {
     "name": "stdout",
     "output_type": "stream",
     "text": [
      "Fido dice Woof!\n",
      "Isis dice Meow!\n"
     ]
    }
   ],
   "source": [
    "class Animal:\n",
    "    def __init__(self, nombre):    # Constructor de la clase\n",
    "        self.nombre = nombre\n",
    "\n",
    "    def speak(self):              # Método abstracto, implementado por convención\n",
    "        raise NotImplementedError(\"La subclase debe implementar este método\")\n",
    "\n",
    "\n",
    "class Perro(Animal):\n",
    "    \n",
    "    def habla(self):\n",
    "        return self.nombre+' dice Woof!'\n",
    "    \n",
    "class Gato(Animal):\n",
    "\n",
    "    def habla(self):\n",
    "        return self.nombre+' dice Meow!'\n",
    "    \n",
    "fido = Perro('Fido')\n",
    "isis = Gato('Isis')\n",
    "\n",
    "print(fido.habla())\n",
    "print(isis.habla())"
   ]
  },
  {
   "cell_type": "markdown",
   "metadata": {},
   "source": [
    "Algunos ejemplos de polimorfismo en aplicaciones reales:\n",
    "\n",
    "* Apertura de diferentes tipos de archivos: se necesitan diferentes herramientas para mostrar archivos en múltoples formatos: P.ej. Word, pdf y Excel.\n",
    "\n",
    "* adición en diferentes objetos: P.ej. el operador `+` realiza suma (en números) y concatenación (en cadenas)."
   ]
  },
  {
   "cell_type": "markdown",
   "metadata": {},
   "source": [
    "## Métodos especiales \n",
    "\n",
    "En las clases en Python pueden implementarse ciertas operaciones con nombres de métodos especiales. Estos métodos no son realmente llamados directamente, sino por la sintaxis del lenguaje específico de Python. Por ejemplo, vamos a crear una clase de Libro:"
   ]
  },
  {
   "cell_type": "code",
   "execution_count": 33,
   "metadata": {},
   "outputs": [],
   "source": [
    "class Libro:\n",
    "    def __init__(self, titulo, autor, paginas):\n",
    "        print(\"Libro creado\")\n",
    "        self.titulo = titulo\n",
    "        self.autor = autor\n",
    "        self.paginas = paginas\n",
    "\n",
    "    def __str__(self):\n",
    "        return \"Titulo: %s, autor: %s, paginass: %s\" %(self.titulo, self.autor, self.paginas)\n",
    "\n",
    "    def __len__(self):\n",
    "        return self.paginas\n",
    "\n",
    "    def __del__(self):\n",
    "        print(\"Libro destruido\")"
   ]
  },
  {
   "cell_type": "code",
   "execution_count": 34,
   "metadata": {},
   "outputs": [
    {
     "name": "stdout",
     "output_type": "stream",
     "text": [
      "Libro creado\n",
      "Titulo: Python Rocks!, autor: Jose Portilla, paginass: 159\n",
      "159\n",
      "Libro destruido\n"
     ]
    }
   ],
   "source": [
    "libro = Libro(\"Python Rocks!\", \"Jose Portilla\", 159)\n",
    "\n",
    "#Special Methods\n",
    "print(libro)\n",
    "print(len(libro))\n",
    "del libro"
   ]
  },
  {
   "cell_type": "markdown",
   "metadata": {},
   "source": [
    " Los métodos especiales \n",
    " \n",
    "     __init__(), __str__(), __len__() and __del__() \n",
    "     \n",
    "se definen usando guiones bajo y nos permiten usar funciones específicas de Python en objetos creados a través de nuestra clase.\n",
    "\n",
    "Para más recursos sobre este tema, las siguientes referencias son buenas:\n",
    "\n",
    "[Jeff Knupp's Post](https://jeffknupp.com/blog/2014/06/18/improve-your-python-python-classes-and-object-oriented-programming/)\n",
    "\n",
    "[Mozilla's Post](https://developer.mozilla.org/en-US/Learn/Python/Quickly_Learn_Object_Oriented_Programming)\n",
    "\n",
    "[Tutorial's Point](http://www.tutorialspoint.com/python/python_classes_objects.htm)\n",
    "\n",
    "[Official Documentation](https://docs.python.org/3/tutorial/classes.html)"
   ]
  },
  {
   "cell_type": "code",
   "execution_count": null,
   "metadata": {},
   "outputs": [],
   "source": []
  }
 ],
 "metadata": {
  "kernelspec": {
   "display_name": "Python 3",
   "language": "python",
   "name": "python3"
  },
  "language_info": {
   "codemirror_mode": {
    "name": "ipython",
    "version": 3
   },
   "file_extension": ".py",
   "mimetype": "text/x-python",
   "name": "python",
   "nbconvert_exporter": "python",
   "pygments_lexer": "ipython3",
   "version": "3.6.5"
  }
 },
 "nbformat": 4,
 "nbformat_minor": 1
}
