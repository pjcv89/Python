{
 "cells": [
  {
   "cell_type": "markdown",
   "metadata": {},
   "source": [
    "# Métodos y funciones\n",
    "\n",
    "____\n",
    "**Escribe una función que calcule el volumen de una esfera, dado su radio.**\n",
    "<p>El volumen de una esfera está dado por la expresión: $$\\frac{4}{3} πr^3$$</p>"
   ]
  },
  {
   "cell_type": "code",
   "execution_count": 1,
   "metadata": {},
   "outputs": [],
   "source": [
    "def volumen(radio):\n",
    "    pass"
   ]
  },
  {
   "cell_type": "code",
   "execution_count": 4,
   "metadata": {},
   "outputs": [],
   "source": [
    "# Verifica tu función\n",
    "volumen(2)"
   ]
  },
  {
   "cell_type": "markdown",
   "metadata": {},
   "source": [
    "___\n",
    "**Escribe una función que revise si cierto número dado está en un rango determinado (límites superior e inferior inclusivos). La función debe regresar un valor booleano.**"
   ]
  },
  {
   "cell_type": "code",
   "execution_count": 5,
   "metadata": {},
   "outputs": [],
   "source": [
    "def revisa_rango(numero,inferior,superior):\n",
    "    pass"
   ]
  },
  {
   "cell_type": "markdown",
   "metadata": {},
   "source": [
    "____\n",
    "**Escriba una función de Python que reciba una cadena y calcule el número de letras mayúsculas y minúsculas.**\n",
    "\n",
    "    Sample String : 'Hola Python. ¿Qué me vas a enseñar hoy?'\n",
    "    Salida esperada : \n",
    "    Número de mayúsculas : 3\n",
    "    Número de minúsculas : 26\n",
    "\n",
    "Pisa: Las cadenas tienen dos métodos para verificar si un elemento (letra) es mayúscula o minúscula: **.isupper()** and **.islower()**."
   ]
  },
  {
   "cell_type": "code",
   "execution_count": 10,
   "metadata": {},
   "outputs": [],
   "source": [
    "def mayus_minus(cadena):\n",
    "    pass"
   ]
  },
  {
   "cell_type": "code",
   "execution_count": 12,
   "metadata": {},
   "outputs": [],
   "source": [
    "ejemplo = 'Hola Python. ¿Qué me vas a enseñar hoy?'\n",
    "mayus_minus(ejemplo)"
   ]
  },
  {
   "cell_type": "markdown",
   "metadata": {},
   "source": [
    "____\n",
    "**Escribe una función de Python que tome una lista y devuelva una nueva lista con los elementos únicos de la lista original.**\n",
    "\n",
    "    Lista inicial : [1,1,1,1,2,2,3,3,3,3,4,5]\n",
    "    Lista con elementos únicos : [1, 2, 3, 4, 5]"
   ]
  },
  {
   "cell_type": "code",
   "execution_count": 13,
   "metadata": {},
   "outputs": [],
   "source": [
    "def lista_unica(lista):\n",
    "    pass"
   ]
  },
  {
   "cell_type": "code",
   "execution_count": 14,
   "metadata": {},
   "outputs": [],
   "source": [
    "lista_unica([1,1,1,1,2,2,3,3,3,3,4,5])"
   ]
  },
  {
   "cell_type": "markdown",
   "metadata": {},
   "source": [
    "____\n",
    "**Escribe una función de Python para multiplicar todos los números contenidos en una lista**.\n",
    "\n",
    "    Lista : [1, 2, 3, -4]\n",
    "    Resultado esperado : -24"
   ]
  },
  {
   "cell_type": "code",
   "execution_count": 15,
   "metadata": {},
   "outputs": [],
   "source": [
    "def multiplica(lista):  \n",
    "    pass"
   ]
  },
  {
   "cell_type": "code",
   "execution_count": 16,
   "metadata": {},
   "outputs": [],
   "source": [
    "multiplica([1,2,3,-4])"
   ]
  },
  {
   "cell_type": "markdown",
   "metadata": {},
   "source": [
    "____\n",
    "**Escribe una función de Python que verifique si una cadena es palíndromo o no. **\n",
    "\n",
    "\n",
    "Nota: Un palíndromo es una palabra, frase o secuencia que se lee igual hacia atrás que hacia adelante, por ejemplo: *\"madam\"*"
   ]
  },
  {
   "cell_type": "code",
   "execution_count": 18,
   "metadata": {},
   "outputs": [],
   "source": [
    "def es_palindromo(cadena):\n",
    "    pass"
   ]
  },
  {
   "cell_type": "code",
   "execution_count": 19,
   "metadata": {},
   "outputs": [],
   "source": [
    "es_palindromo('helleh')"
   ]
  },
  {
   "cell_type": "markdown",
   "metadata": {},
   "source": [
    "____\n",
    "#### Difícil:\n",
    "\n",
    "**Escribe una función para verificar si una cadena es un pangrama.**\n",
    "\n",
    "    Nota: Los pangramas son oraciones que contienen todas las letras del alfabeto al menos una vez.\n",
    "    Por ejemplo : \"Jovencillo emponzoñado de whisky, ¡qué figurota exhibe!\"\n",
    "\n",
    "Pista: Echar un ojo al módulo **string**."
   ]
  },
  {
   "cell_type": "code",
   "execution_count": 29,
   "metadata": {},
   "outputs": [
    {
     "name": "stdout",
     "output_type": "stream",
     "text": [
      "abcdefghijklmnopqrstuvwxyz\n",
      "abcdefghijklmnopqrstuvwxyzñ\n"
     ]
    }
   ],
   "source": [
    "# Ojo. Alfabeto en el módulo string\n",
    "print(string.ascii_lowercase)\n",
    "# Añadimos la \"ñ\" para nuestro alfabeto en español\n",
    "alfabeto_español = string.ascii_lowercase + 'ñ'\n",
    "print(alfabeto_español)"
   ]
  },
  {
   "cell_type": "code",
   "execution_count": 30,
   "metadata": {},
   "outputs": [],
   "source": [
    "import string\n",
    "\n",
    "def es_pangrama(cadena, alfabeto=alfabeto_español):\n",
    "    pass"
   ]
  },
  {
   "cell_type": "code",
   "execution_count": 31,
   "metadata": {},
   "outputs": [],
   "source": [
    "es_pangrama(\"Jovencillo emponzoñado de whisky, ¡qué figurota exhibe!\")"
   ]
  }
 ],
 "metadata": {
  "kernelspec": {
   "display_name": "Python 3",
   "language": "python",
   "name": "python3"
  },
  "language_info": {
   "codemirror_mode": {
    "name": "ipython",
    "version": 3
   },
   "file_extension": ".py",
   "mimetype": "text/x-python",
   "name": "python",
   "nbconvert_exporter": "python",
   "pygments_lexer": "ipython3",
   "version": "3.6.5"
  }
 },
 "nbformat": 4,
 "nbformat_minor": 1
}
