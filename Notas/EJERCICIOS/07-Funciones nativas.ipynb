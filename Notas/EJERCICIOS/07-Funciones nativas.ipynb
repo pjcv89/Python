{
 "cells": [
  {
   "cell_type": "markdown",
   "metadata": {},
   "source": [
    "# Funciones nativas \n",
    "\n",
    "\n",
    "### Para esta prueba, debes utilizar solamente funciones nativas y ser capaz de escribir las funciones requeridas en una línea. "
   ]
  },
  {
   "cell_type": "markdown",
   "metadata": {},
   "source": [
    "### Problema 1\n",
    "\n",
    "Usa `map()`para crear una función que encuentra la longitud de cada palabra en la frase, separada por espacios, y regrese los valores en una lista.\n",
    "\n",
    "La función debe recibir una cadena y devolver una lista de enteros."
   ]
  },
  {
   "cell_type": "code",
   "execution_count": 1,
   "metadata": {},
   "outputs": [],
   "source": [
    "def longitud_palabras(frase):\n",
    "    pass"
   ]
  },
  {
   "cell_type": "code",
   "execution_count": 2,
   "metadata": {},
   "outputs": [],
   "source": [
    "longitud_palabras('¿cuántas palabras tiene esta frase?')"
   ]
  },
  {
   "cell_type": "markdown",
   "metadata": {},
   "source": [
    "### Problema 2 \n",
    "\n",
    "Usa `reduce()` para tomar una lista de dígitos y regresar el número al que pertenecen, prevaleciendo el orden. Por ejemplo \\[1, 2, 3] corresponde al número cientoveintitrés (123). Nota: ¡No convertir los números a cadenas!"
   ]
  },
  {
   "cell_type": "code",
   "execution_count": 3,
   "metadata": {},
   "outputs": [],
   "source": [
    "from functools import reduce\n",
    "\n",
    "def digitos_a_numero(digitos):\n",
    "    pass"
   ]
  },
  {
   "cell_type": "code",
   "execution_count": 4,
   "metadata": {},
   "outputs": [],
   "source": [
    "digitos_a_numero([3,4,3,2,1])"
   ]
  },
  {
   "cell_type": "markdown",
   "metadata": {},
   "source": [
    "### Problema 3\n",
    "\n",
    "Usa `filter` para regresar las palabras de una lista de palabras que empiezan con cierta letra. La función debe recibir una lista de palabras como primer argumento, y la letra por la cual se desea filtrar como segundo argumento."
   ]
  },
  {
   "cell_type": "code",
   "execution_count": 5,
   "metadata": {},
   "outputs": [],
   "source": [
    "def filtra_palabras(lista_palabras, letra):\n",
    "    pass"
   ]
  },
  {
   "cell_type": "code",
   "execution_count": 6,
   "metadata": {},
   "outputs": [],
   "source": [
    "ejemplo = ['hola','Python','hoy','quiero','hacer','mucha','programacion']\n",
    "filtra_palabras(ejemplo,'h')"
   ]
  },
  {
   "cell_type": "markdown",
   "metadata": {},
   "source": [
    "### Problema 4\n",
    "\n",
    "Use `zip()` y una comprehensión de lista para hacer una función que genere una lista a partir de dos listas, donde cada elemento de la nueva lista sea una cadena con los elementos de ambas listas concatenadas uno a uno, utilizando cierto caracter como conector.\n",
    "\n",
    "Por ejemplo,\n",
    "\n",
    "    concatena(['A','B'],['a','b'],'-')\n",
    "\n",
    "debe devolver:\n",
    " \n",
    "    ['A-a', 'B-b']"
   ]
  },
  {
   "cell_type": "code",
   "execution_count": 7,
   "metadata": {},
   "outputs": [],
   "source": [
    "def concatena(lista_1, lista_2, conector):\n",
    "    pass"
   ]
  },
  {
   "cell_type": "code",
   "execution_count": 8,
   "metadata": {},
   "outputs": [],
   "source": [
    "concatena(['A','B'],['a','b'],'-')"
   ]
  },
  {
   "cell_type": "markdown",
   "metadata": {},
   "source": [
    "### Problema 5\n",
    "\n",
    "Usa `enumerate()` y otras cosas para generar un diccionario que tenga los valores de la lista como claves y su respectivo índice como el valor. Puedes asumir que un valor solo aparecerá una vez en la lista dada.\n",
    "\n",
    "Por ejemplo, \n",
    "\n",
    "    has_diccionario(['a','b','c'])\n",
    "    \n",
    "debe devolver:\n",
    "    \n",
    "    {'a': 0, 'b': 1, 'c': 2}"
   ]
  },
  {
   "cell_type": "code",
   "execution_count": 9,
   "metadata": {},
   "outputs": [],
   "source": [
    "def has_diccionario(lista):\n",
    "    pass"
   ]
  },
  {
   "cell_type": "code",
   "execution_count": 10,
   "metadata": {},
   "outputs": [],
   "source": [
    "has_diccionario(['a','b','c'])"
   ]
  },
  {
   "cell_type": "markdown",
   "metadata": {},
   "source": [
    "### Problema 6\n",
    "\n",
    "Usa `enumerate()` y otras cosas para devolver el recuento del número de elementos en la lista cuyo valor es igual a su índice.\n",
    "\n",
    "Por ejemplo, \n",
    "    \n",
    "    count_match_index([0,2,2,1,5,5,6,10])\n",
    "\n",
    "debe devolver:\n",
    "\n",
    "    4"
   ]
  },
  {
   "cell_type": "code",
   "execution_count": 11,
   "metadata": {},
   "outputs": [],
   "source": [
    "def count_match_index(L):\n",
    "    pass"
   ]
  },
  {
   "cell_type": "code",
   "execution_count": 12,
   "metadata": {},
   "outputs": [],
   "source": [
    "count_match_index([0,2,2,1,5,5,6,10])"
   ]
  },
  {
   "cell_type": "code",
   "execution_count": null,
   "metadata": {},
   "outputs": [],
   "source": []
  }
 ],
 "metadata": {
  "kernelspec": {
   "display_name": "Python 3",
   "language": "python",
   "name": "python3"
  },
  "language_info": {
   "codemirror_mode": {
    "name": "ipython",
    "version": 3
   },
   "file_extension": ".py",
   "mimetype": "text/x-python",
   "name": "python",
   "nbconvert_exporter": "python",
   "pygments_lexer": "ipython3",
   "version": "3.6.5"
  }
 },
 "nbformat": 4,
 "nbformat_minor": 1
}
