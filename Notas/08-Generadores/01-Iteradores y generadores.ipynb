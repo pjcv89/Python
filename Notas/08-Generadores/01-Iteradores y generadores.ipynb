{
 "cells": [
  {
   "cell_type": "markdown",
   "metadata": {},
   "source": [
    "# Iteratores y generadores"
   ]
  },
  {
   "cell_type": "markdown",
   "metadata": {},
   "source": [
    "En esta nota, veremos la diferencia entre iteración y generación en Python y cómo construir nuestros propios generadores con la declaración de *yield* (_producir_). Los generadores nos permiten generar resultados a medida que avanzamos, en lugar de mantener todo en la memoria de la computadora.\n",
    "\n",
    "Hemos tratado este tema en el pasado al analizar ciertas funciones incorporadas de Python como **range()**, **map()** y **filter()**.\n",
    "\n",
    "Hemos aprendido cómo crear funciones con <code> def </code> y la declaración <code> return </code>. Las funciones del generador nos permiten escribir una función que puede devolver un valor y luego reanudar para continuar donde lo dejó. Este tipo de función es un generador en Python, lo que nos permite generar una secuencia de valores a lo largo del tiempo. La principal diferencia en la sintaxis será el uso de una declaración de <code> yield </code>.\n",
    "\n",
    "En la mayoría de sus aspectos, una función generadora aparecerá muy similar a una función normal. La principal diferencia es que cuando se compila una función de generador, se convierten en un objeto que admite un protocolo de iteración. Eso significa que cuando se les llama en un código, en realidad no devuelven un valor y luego se sale de ella. En cambio, las funciones generadoras suspenderán y reanudarán automáticamente su ejecución alrededor del último punto de generación. La principal ventaja aquí es que, en lugar de tener que calcular una serie completa de valores por adelantado, el generador calcula un valor y luego suspende su actividad en espera de la siguiente instrucción. Esta característica se conoce como *suspensión de estado* (_state suspension_).\n",
    "\n",
    "Para comenzar a comprender mejor los generadores, veamos cómo podemos crear algunos."
   ]
  },
  {
   "cell_type": "code",
   "execution_count": 1,
   "metadata": {},
   "outputs": [],
   "source": [
    "# Función generadora para calcular el cubo de una secuencia de números hasta un número N\n",
    "def gencubos(n):\n",
    "    for numero in range(n):\n",
    "        yield numero**3"
   ]
  },
  {
   "cell_type": "code",
   "execution_count": 2,
   "metadata": {},
   "outputs": [
    {
     "name": "stdout",
     "output_type": "stream",
     "text": [
      "0\n",
      "1\n",
      "8\n",
      "27\n",
      "64\n",
      "125\n",
      "216\n",
      "343\n",
      "512\n",
      "729\n"
     ]
    }
   ],
   "source": [
    "for x in gencubos(10):\n",
    "    print(x)"
   ]
  },
  {
   "cell_type": "markdown",
   "metadata": {},
   "source": [
    "Ahora, ya que tenemos una función generadora, no tenemos que mantener un seguimiento de cada cubo que creamos.\n",
    "\n",
    "Los generadores son mejores para calcular grandes conjuntos de resultados (especialmente en cálculos que involucran bucles) en casos donde no queremos utilizar la memoria de la computadora para utilizar resultados al mismo tiempo.\n",
    "\n",
    "Hagamos otro ejemplo donde creemos números de la [serie de Fibonacci](https://es.wikipedia.org/wiki/Sucesi%C3%B3n_de_Fibonacci)."
   ]
  },
  {
   "cell_type": "code",
   "execution_count": 3,
   "metadata": {},
   "outputs": [],
   "source": [
    "def genfibon(n):\n",
    "    \"\"\"\n",
    "    Generar una serie de Fibonacci hasta un número n\n",
    "    \"\"\"\n",
    "    a = 1\n",
    "    b = 1\n",
    "    for i in range(n):\n",
    "        yield a\n",
    "        a,b = b,a+b"
   ]
  },
  {
   "cell_type": "code",
   "execution_count": 4,
   "metadata": {},
   "outputs": [
    {
     "name": "stdout",
     "output_type": "stream",
     "text": [
      "1\n",
      "1\n",
      "2\n",
      "3\n",
      "5\n",
      "8\n",
      "13\n",
      "21\n",
      "34\n",
      "55\n"
     ]
    }
   ],
   "source": [
    "for numero in genfibon(10):\n",
    "    print(numero)"
   ]
  },
  {
   "cell_type": "markdown",
   "metadata": {},
   "source": [
    "¿Qué pasaría si esta fuera una función normal? ¿qué aspecto tendría?"
   ]
  },
  {
   "cell_type": "code",
   "execution_count": 5,
   "metadata": {},
   "outputs": [],
   "source": [
    "def fibon(n):\n",
    "    a = 1\n",
    "    b = 1\n",
    "    output = []\n",
    "    \n",
    "    for i in range(n):\n",
    "        output.append(a)\n",
    "        a,b = b,a+b\n",
    "        \n",
    "    return output"
   ]
  },
  {
   "cell_type": "code",
   "execution_count": 6,
   "metadata": {},
   "outputs": [
    {
     "data": {
      "text/plain": [
       "[1, 1, 2, 3, 5, 8, 13, 21, 34, 55]"
      ]
     },
     "execution_count": 6,
     "metadata": {},
     "output_type": "execute_result"
    }
   ],
   "source": [
    "fibon(10)"
   ]
  },
  {
   "cell_type": "markdown",
   "metadata": {},
   "source": [
    "Debemos tener en cuenta que si llamamos un valor enorme de n (digamos, 100000), la segunda función tendrá que realizar un seguimiento de cada resultado individual, cuando en nuestro caso solo nos importa el resultado anterior para generar el siguiente."
   ]
  },
  {
   "cell_type": "markdown",
   "metadata": {},
   "source": [
    "## next() e iter()\n",
    "\n",
    "Unas funciones importantes para comprender completamente los generadores son las funciones next() y la función iter().\n",
    "\n",
    "La función next() nos permite acceder al siguiente elemento en una secuencia. Veamos un ejemplo."
   ]
  },
  {
   "cell_type": "code",
   "execution_count": 8,
   "metadata": {},
   "outputs": [],
   "source": [
    "def simple_gen():\n",
    "    for x in range(3):\n",
    "        yield x"
   ]
  },
  {
   "cell_type": "code",
   "execution_count": 9,
   "metadata": {},
   "outputs": [],
   "source": [
    "# Llamemos a la funcion simple_gen()\n",
    "g = simple_gen()"
   ]
  },
  {
   "cell_type": "code",
   "execution_count": 10,
   "metadata": {},
   "outputs": [
    {
     "name": "stdout",
     "output_type": "stream",
     "text": [
      "0\n"
     ]
    }
   ],
   "source": [
    "print(next(g))"
   ]
  },
  {
   "cell_type": "code",
   "execution_count": 11,
   "metadata": {},
   "outputs": [
    {
     "name": "stdout",
     "output_type": "stream",
     "text": [
      "1\n"
     ]
    }
   ],
   "source": [
    "print(next(g))"
   ]
  },
  {
   "cell_type": "code",
   "execution_count": 12,
   "metadata": {},
   "outputs": [
    {
     "name": "stdout",
     "output_type": "stream",
     "text": [
      "2\n"
     ]
    }
   ],
   "source": [
    "print(next(g))"
   ]
  },
  {
   "cell_type": "code",
   "execution_count": 13,
   "metadata": {},
   "outputs": [
    {
     "ename": "StopIteration",
     "evalue": "",
     "output_type": "error",
     "traceback": [
      "\u001b[0;31m---------------------------------------------------------------------------\u001b[0m",
      "\u001b[0;31mStopIteration\u001b[0m                             Traceback (most recent call last)",
      "\u001b[0;32m<ipython-input-13-1dfb29d6357e>\u001b[0m in \u001b[0;36m<module>\u001b[0;34m()\u001b[0m\n\u001b[0;32m----> 1\u001b[0;31m \u001b[0mprint\u001b[0m\u001b[0;34m(\u001b[0m\u001b[0mnext\u001b[0m\u001b[0;34m(\u001b[0m\u001b[0mg\u001b[0m\u001b[0;34m)\u001b[0m\u001b[0;34m)\u001b[0m\u001b[0;34m\u001b[0m\u001b[0m\n\u001b[0m",
      "\u001b[0;31mStopIteration\u001b[0m: "
     ]
    }
   ],
   "source": [
    "print(next(g))"
   ]
  },
  {
   "cell_type": "markdown",
   "metadata": {},
   "source": [
    "Después de producir todos los valores, next () provocó un error de tipo `StopIteration`. Lo que nos informa este error es que todos los valores han sido producidos ya.\n",
    "\n",
    "Es posible que te pregunte por qué no obtenemos este error al utilizar un bucle for. Esto es porque un bucle for detecta automáticamente este error y detiene la llamada de next().\n",
    "\n",
    "Ahora veamos cómo usar iter(). Recuerdemos que las cadenas son iterables:"
   ]
  },
  {
   "cell_type": "code",
   "execution_count": 14,
   "metadata": {},
   "outputs": [
    {
     "name": "stdout",
     "output_type": "stream",
     "text": [
      "h\n",
      "o\n",
      "l\n",
      "a\n",
      " \n",
      "P\n",
      "y\n",
      "t\n",
      "h\n",
      "o\n",
      "n\n"
     ]
    }
   ],
   "source": [
    "s = 'hola Python'\n",
    "\n",
    "#Iterar sobre los caracteres en la cadena\n",
    "for let in s:\n",
    "    print(let)"
   ]
  },
  {
   "cell_type": "markdown",
   "metadata": {},
   "source": [
    "¡Pero eso no significa que la cadena sea un * iterador *! Podemos verificar esto con la función next():"
   ]
  },
  {
   "cell_type": "code",
   "execution_count": 15,
   "metadata": {},
   "outputs": [
    {
     "ename": "TypeError",
     "evalue": "'str' object is not an iterator",
     "output_type": "error",
     "traceback": [
      "\u001b[0;31m---------------------------------------------------------------------------\u001b[0m",
      "\u001b[0;31mTypeError\u001b[0m                                 Traceback (most recent call last)",
      "\u001b[0;32m<ipython-input-15-61c30b5fe1d5>\u001b[0m in \u001b[0;36m<module>\u001b[0;34m()\u001b[0m\n\u001b[0;32m----> 1\u001b[0;31m \u001b[0mnext\u001b[0m\u001b[0;34m(\u001b[0m\u001b[0ms\u001b[0m\u001b[0;34m)\u001b[0m\u001b[0;34m\u001b[0m\u001b[0m\n\u001b[0m",
      "\u001b[0;31mTypeError\u001b[0m: 'str' object is not an iterator"
     ]
    }
   ],
   "source": [
    "next(s)"
   ]
  },
  {
   "cell_type": "markdown",
   "metadata": {},
   "source": [
    "Interesantemente, esto significa que las cadenas admite iteración, pero no podemos iterar directamente sobre él como podríamos con una función generador. La función iter() nos permite hacer precisamente eso."
   ]
  },
  {
   "cell_type": "code",
   "execution_count": 16,
   "metadata": {},
   "outputs": [],
   "source": [
    "s_iter = iter(s)"
   ]
  },
  {
   "cell_type": "code",
   "execution_count": 17,
   "metadata": {},
   "outputs": [
    {
     "data": {
      "text/plain": [
       "'h'"
      ]
     },
     "execution_count": 17,
     "metadata": {},
     "output_type": "execute_result"
    }
   ],
   "source": [
    "next(s_iter)"
   ]
  },
  {
   "cell_type": "code",
   "execution_count": 18,
   "metadata": {},
   "outputs": [
    {
     "data": {
      "text/plain": [
       "'o'"
      ]
     },
     "execution_count": 18,
     "metadata": {},
     "output_type": "execute_result"
    }
   ],
   "source": [
    "next(s_iter)"
   ]
  },
  {
   "cell_type": "markdown",
   "metadata": {},
   "source": [
    "Ahora ya sabemo cómo convertir objetos iterables **en** iteradores.\n",
    "\n",
    "La principal conclusión de esta nota es que el uso de la palabra clave **yield** en una función hará que la función se convierta en un generador. Este cambio puede ahorrarnos el uso de mucha memoria. Para más información sobre este tema, los siguientes recursos son buenos:\n",
    "\n",
    "[Respuesta en Stack Overflow](http://stackoverflow.com/questions/1756096/understanding-generators-in-python)\n",
    "\n",
    "[Otra respuesta en StackOverflow](http://stackoverflow.com/questions/231767/what-does-the-yield-keyword-do-in-python)"
   ]
  }
 ],
 "metadata": {
  "kernelspec": {
   "display_name": "Python 3",
   "language": "python",
   "name": "python3"
  },
  "language_info": {
   "codemirror_mode": {
    "name": "ipython",
    "version": 3
   },
   "file_extension": ".py",
   "mimetype": "text/x-python",
   "name": "python",
   "nbconvert_exporter": "python",
   "pygments_lexer": "ipython3",
   "version": "3.6.5"
  }
 },
 "nbformat": 4,
 "nbformat_minor": 1
}
